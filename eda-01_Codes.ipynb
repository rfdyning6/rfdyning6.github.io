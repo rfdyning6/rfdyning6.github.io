{
  "nbformat": 4,
  "nbformat_minor": 0,
  "metadata": {
    "celltoolbar": "Slideshow",
    "kernelspec": {
      "display_name": "Python 3",
      "language": "python",
      "name": "python3"
    },
    "language_info": {
      "codemirror_mode": {
        "name": "ipython",
        "version": 3
      },
      "file_extension": ".py",
      "mimetype": "text/x-python",
      "name": "python",
      "nbconvert_exporter": "python",
      "pygments_lexer": "ipython3",
      "version": "3.6.8"
    },
    "latex_envs": {
      "LaTeX_envs_menu_present": true,
      "autoclose": false,
      "autocomplete": true,
      "bibliofile": "biblio.bib",
      "cite_by": "apalike",
      "current_citInitial": 1,
      "eqLabelWithNumbers": true,
      "eqNumInitial": 1,
      "hotkeys": {
        "equation": "Ctrl-E",
        "itemize": "Ctrl-I"
      },
      "labels_anchors": false,
      "latex_user_defs": false,
      "report_style_numbering": false,
      "user_envs_cfg": false
    },
    "colab": {
      "name": "eda-01_Codes.ipynb",
      "provenance": []
    }
  },
  "cells": [
    {
      "cell_type": "markdown",
      "metadata": {
        "id": "BaOlM6w_WvAc"
      },
      "source": [
        "<center><h1><strong>tau-data Indonesia</strong></h1></center>\n",
        "<center><h2><strong><font color=\"blue\">Exploratory Data Analysis-01: Data Preparations </font></strong></h2></center>\n",
        "<img alt=\"\" src=\"https://github.com/taudata-indonesia/eLearning/blob/master/images/Cover.jpg?raw=1\"/>\n",
        "\n",
        "<b><center>(C) Taufik Sutanto</center>\n",
        "<center><h3><font color=\"blue\">https://tau-data.id/eda-01/</font></h3></center>"
      ]
    },
    {
      "cell_type": "code",
      "metadata": {
        "id": "nHw9v4ntWvAg"
      },
      "source": [
        "# Importing Some Python Modules\n",
        "import warnings; warnings.simplefilter('ignore')\n",
        "import scipy, itertools, pandas as pd, matplotlib.pyplot as plt, seaborn as sns, numpy as np\n",
        "from scipy import stats\n",
        "from sklearn.preprocessing import StandardScaler, MinMaxScaler\n",
        "\n",
        "plt.style.use('bmh'); sns.set()"
      ],
      "execution_count": null,
      "outputs": []
    },
    {
      "cell_type": "code",
      "metadata": {
        "ExecuteTime": {
          "end_time": "2019-09-30T01:08:32.120040Z",
          "start_time": "2019-09-30T01:08:32.110066Z"
        },
        "id": "qbAd2Nu6WvAi"
      },
      "source": [
        "# Importing CSV data  https://pandas.pydata.org/pandas-docs/stable/reference/api/pandas.read_csv.html\n",
        "try:\n",
        "    # Running Locally \n",
        "    price = pd.read_csv('data/price.csv')\n",
        "except:\n",
        "    # Running in Google Colab\n",
        "    !mkdir data\n",
        "    !wget -P data/ https://raw.githubusercontent.com/taudata-indonesia/eLearning/master/data/price.csv\n",
        "    price = pd.read_csv('data/price.csv')"
      ],
      "execution_count": null,
      "outputs": []
    },
    {
      "cell_type": "code",
      "metadata": {
        "ExecuteTime": {
          "end_time": "2019-09-30T01:08:34.825452Z",
          "start_time": "2019-09-30T01:08:34.820463Z"
        },
        "id": "4HQv45tmWvAi"
      },
      "source": [
        "# Tipe Datanya : DataFrame (df)\n",
        "print(type(price))\n",
        "# Ukuran Data\n",
        "N, P = price.shape\n",
        "'baris = ', N, ', Kolom = ', P"
      ],
      "execution_count": null,
      "outputs": []
    },
    {
      "cell_type": "code",
      "metadata": {
        "ExecuteTime": {
          "end_time": "2019-09-30T01:01:49.230415Z",
          "start_time": "2019-09-30T01:01:49.208497Z"
        },
        "id": "CprSSRlCWvAj"
      },
      "source": [
        "# \"Mengintip\" beberapa data pertamanya\n",
        "price.head(7)"
      ],
      "execution_count": null,
      "outputs": []
    },
    {
      "cell_type": "code",
      "metadata": {
        "ExecuteTime": {
          "end_time": "2019-09-30T01:01:49.252357Z",
          "start_time": "2019-09-30T01:01:49.232409Z"
        },
        "id": "BpjfS5z5WvAj"
      },
      "source": [
        "# \"Mengintip\" beberapa data akhirnya\n",
        "price.tail(9)"
      ],
      "execution_count": null,
      "outputs": []
    },
    {
      "cell_type": "code",
      "metadata": {
        "ExecuteTime": {
          "end_time": "2019-09-30T01:01:49.273357Z",
          "start_time": "2019-09-30T01:01:49.254351Z"
        },
        "id": "1Yd4006sWvAk"
      },
      "source": [
        "# chosen at random\n",
        "price.sample(10)"
      ],
      "execution_count": null,
      "outputs": []
    },
    {
      "cell_type": "markdown",
      "metadata": {
        "id": "gQdYDXGWWvAl"
      },
      "source": [
        "# Removing a variable(s)"
      ]
    },
    {
      "cell_type": "code",
      "metadata": {
        "id": "Gc2GKgA9WvAl"
      },
      "source": [
        "# perhatikan perintahnya tidak menggunakan tanda \"()\" ==> Properties \n",
        "price.columns"
      ],
      "execution_count": null,
      "outputs": []
    },
    {
      "cell_type": "code",
      "metadata": {
        "ExecuteTime": {
          "end_time": "2019-09-30T01:09:54.493202Z",
          "start_time": "2019-09-30T01:09:54.484458Z"
        },
        "id": "gjxbYzSxWvAm"
      },
      "source": [
        "# Drop kolom pertama karena tidak berguna (hanya index)\n",
        "price.drop(\"Observation\", axis=1, inplace=True)"
      ],
      "execution_count": null,
      "outputs": []
    },
    {
      "cell_type": "markdown",
      "metadata": {
        "id": "fCJnToYRWvAm"
      },
      "source": [
        "# Mengoreksi Tipe variabel"
      ]
    },
    {
      "cell_type": "code",
      "metadata": {
        "ExecuteTime": {
          "end_time": "2019-09-30T01:09:45.067396Z",
          "start_time": "2019-09-30T01:09:45.058420Z"
        },
        "id": "Dn6pwmngWvAn"
      },
      "source": [
        "# tipe data di setiap kolom\n",
        "# Wajib di periksa apakah tipe datanya sudah tepat?\n",
        "# Perhatikan df sebagaimana semua variable di Python diperlakukan seperti object\n",
        "price.info()"
      ],
      "execution_count": null,
      "outputs": []
    },
    {
      "cell_type": "code",
      "metadata": {
        "ExecuteTime": {
          "end_time": "2019-09-30T01:10:04.681230Z",
          "start_time": "2019-09-30T01:10:04.674516Z"
        },
        "id": "mJc9tt2IWvAn"
      },
      "source": [
        "# Merubah tipe data \"jika\" tidak tepat, contoh:\n",
        "price.dtypes"
      ],
      "execution_count": null,
      "outputs": []
    },
    {
      "cell_type": "code",
      "metadata": {
        "ExecuteTime": {
          "end_time": "2019-09-30T01:10:08.390322Z",
          "start_time": "2019-09-30T01:10:08.380136Z"
        },
        "id": "0gQyF5wcWvAo"
      },
      "source": [
        "# dataframe types: https://pbpython.com/pandas_dtypes.html\n",
        "price['Parking'] = price['Parking'].astype('category')\n",
        "price['City_Category'] = price['City_Category'].astype('category')\n",
        "price.dtypes"
      ],
      "execution_count": null,
      "outputs": []
    },
    {
      "cell_type": "code",
      "metadata": {
        "id": "OzapZbNQWvAo"
      },
      "source": [
        "#mengecek apakah ada duplikat data?\n",
        "print(price.shape)\n",
        "price.duplicated().sum()"
      ],
      "execution_count": null,
      "outputs": []
    },
    {
      "cell_type": "code",
      "metadata": {
        "id": "qZH78SPJWvAo"
      },
      "source": [
        "#menghapus entri yang memiliki data duplikat \n",
        "price.drop_duplicates(inplace=True)\n",
        "print(price.duplicated().sum()) # no more duplicates\n",
        "print(price.shape) # re-check by printing data size"
      ],
      "execution_count": null,
      "outputs": []
    },
    {
      "cell_type": "markdown",
      "metadata": {
        "id": "eD8wiksKWvAp"
      },
      "source": [
        "# Variable Selection"
      ]
    },
    {
      "cell_type": "code",
      "metadata": {
        "ExecuteTime": {
          "end_time": "2019-09-30T01:12:35.600749Z",
          "start_time": "2019-09-30T01:12:35.580328Z"
        },
        "id": "A47XxOcHWvAp"
      },
      "source": [
        "# Memilih hanya variable dengan tipe tertentu\n",
        "price_num = price.select_dtypes(include = ['float64', 'int64'])\n",
        "price_num.head()\n",
        "# Perhatikan price_num adalah variable df baru! ... (hati-hati di data yang besar)"
      ],
      "execution_count": null,
      "outputs": []
    },
    {
      "cell_type": "code",
      "metadata": {
        "ExecuteTime": {
          "end_time": "2019-09-30T01:12:47.901163Z",
          "start_time": "2019-09-30T01:12:47.883160Z"
        },
        "id": "5jrp4ujfWvAp"
      },
      "source": [
        "# Memilih hanya variable dengan tipe tertentu\n",
        "price_cat = price.select_dtypes(include = ['category'])\n",
        "price_cat.head()"
      ],
      "execution_count": null,
      "outputs": []
    },
    {
      "cell_type": "markdown",
      "metadata": {
        "id": "Uep9knlNWvAq"
      },
      "source": [
        "# Dasar Pengolahan variabel Kategorik: Dummy Variable"
      ]
    },
    {
      "cell_type": "code",
      "metadata": {
        "ExecuteTime": {
          "end_time": "2019-09-30T01:16:09.012894Z",
          "start_time": "2019-09-30T01:16:08.995362Z"
        },
        "id": "D1HxkBDBWvAq"
      },
      "source": [
        "df = pd.get_dummies(price['Parking'], prefix='Park')\n",
        "df.head()"
      ],
      "execution_count": null,
      "outputs": []
    },
    {
      "cell_type": "markdown",
      "metadata": {
        "id": "YUwn48JfWvAr"
      },
      "source": [
        "# Menggabungkan dengan data awal (concat)"
      ]
    },
    {
      "cell_type": "code",
      "metadata": {
        "id": "HDNbhrRcWvAr"
      },
      "source": [
        "df2 = pd.concat([price, df], axis = 1)\n",
        "df2.head().transpose()"
      ],
      "execution_count": null,
      "outputs": []
    },
    {
      "cell_type": "markdown",
      "metadata": {
        "id": "i3KUp4-XWvAr"
      },
      "source": [
        "# Memilih Data Secara Manual"
      ]
    },
    {
      "cell_type": "code",
      "metadata": {
        "ExecuteTime": {
          "end_time": "2019-09-30T01:01:49.488723Z",
          "start_time": "2019-09-30T01:01:49.473213Z"
        },
        "id": "cuTIEHI7WvAs"
      },
      "source": [
        "# Choosing some columns manually\n",
        "X = price[['House_Price','Dist_Market']] \n",
        "X[:7]"
      ],
      "execution_count": null,
      "outputs": []
    },
    {
      "cell_type": "markdown",
      "metadata": {
        "id": "RRP_jrhdWvAs"
      },
      "source": [
        "## Apakah ada kecenderungan perbedaan harga rumah akibat dari tipe tempat parkir?"
      ]
    },
    {
      "cell_type": "code",
      "metadata": {
        "ExecuteTime": {
          "end_time": "2019-09-30T01:01:50.484583Z",
          "start_time": "2019-09-30T01:01:50.098828Z"
        },
        "id": "kUoxs2FIWvAs"
      },
      "source": [
        "p= sns.catplot(x=\"Parking\", y=\"House_Price\", data=price)\n",
        "# Apa yang bisa dilihat dari hasil ini?"
      ],
      "execution_count": null,
      "outputs": []
    },
    {
      "cell_type": "code",
      "metadata": {
        "ExecuteTime": {
          "end_time": "2019-09-30T01:01:51.080385Z",
          "start_time": "2019-09-30T01:01:50.489391Z"
        },
        "id": "nmm6FFnPWvAs"
      },
      "source": [
        "# Distributions\n",
        "p = sns.distplot(price['House_Price'], kde=True, rug=True)"
      ],
      "execution_count": null,
      "outputs": []
    },
    {
      "cell_type": "code",
      "metadata": {
        "ExecuteTime": {
          "end_time": "2019-09-30T01:26:35.471859Z",
          "start_time": "2019-09-30T01:26:35.465294Z"
        },
        "id": "uO8r4ewWWvAs"
      },
      "source": [
        "# Misal dengan asumsi data berdistribusi normal\n",
        "# dan menggunakan 95% confidence interval di sekitar variabel \"harga\"\n",
        "\n",
        "df = np.abs(price.House_Price - price.House_Price.mean())<=(2*price.House_Price.std())\n",
        "# mu-2s<x<mu+2s\n",
        "print(df.shape)\n",
        "df.head()"
      ],
      "execution_count": null,
      "outputs": []
    },
    {
      "cell_type": "code",
      "metadata": {
        "scrolled": false,
        "id": "pyE9xjyrWvAt"
      },
      "source": [
        "price2 = price[df] # Data tanpa outliers\n",
        "print(price2.shape, price.shape)\n",
        "# Perhatikan disini sengaja data yang telah di remove outliernya \n",
        "# disimpan dalam variabel baru \"Price2\"\n",
        "# Jika datanya besar hati-hati melakukan hal ini"
      ],
      "execution_count": null,
      "outputs": []
    },
    {
      "cell_type": "code",
      "metadata": {
        "ExecuteTime": {
          "end_time": "2019-09-30T01:01:51.627698Z",
          "start_time": "2019-09-30T01:01:51.143217Z"
        },
        "id": "6FRKOIRKWvAt"
      },
      "source": [
        "# Distributions\n",
        "p = sns.distplot(price2['House_Price'], kde=True, rug=True)"
      ],
      "execution_count": null,
      "outputs": []
    },
    {
      "cell_type": "code",
      "metadata": {
        "id": "56P3inOWWvAv"
      },
      "source": [
        "p= sns.catplot(x=\"Parking\", y=\"House_Price\", data=price2)\n",
        "# Apa yang bisa dilihat dari hasil ini?"
      ],
      "execution_count": null,
      "outputs": []
    },
    {
      "cell_type": "markdown",
      "metadata": {
        "id": "ehik-w-FWvAw"
      },
      "source": [
        "# Missing Values"
      ]
    },
    {
      "cell_type": "code",
      "metadata": {
        "ExecuteTime": {
          "end_time": "2019-09-30T01:47:26.285880Z",
          "start_time": "2019-09-30T01:47:26.278337Z"
        },
        "id": "Rywj-lJYWvAw"
      },
      "source": [
        "# General Look at the Missing Values\n",
        "print(price2.isnull().sum())"
      ],
      "execution_count": null,
      "outputs": []
    },
    {
      "cell_type": "code",
      "metadata": {
        "id": "n0GNS03KWvAw"
      },
      "source": [
        "set(price2['Parking'])"
      ],
      "execution_count": null,
      "outputs": []
    },
    {
      "cell_type": "markdown",
      "metadata": {
        "id": "B-q_SqGfWvAw"
      },
      "source": [
        "# Gambaran yang Lebih baik tentang MV terutama di Big Data"
      ]
    },
    {
      "cell_type": "code",
      "metadata": {
        "id": "Jt4QNGdzWvAx"
      },
      "source": [
        "sns.heatmap(price2.isnull(), cbar=False)\n",
        "plt.title('Heatmap Missing Value')\n",
        "plt.show()"
      ],
      "execution_count": null,
      "outputs": []
    },
    {
      "cell_type": "code",
      "metadata": {
        "id": "PRMdVfd1WvAx"
      },
      "source": [
        "(price2.isnull().sum()/len(price2)).to_frame('persentase missing')"
      ],
      "execution_count": null,
      "outputs": []
    },
    {
      "cell_type": "code",
      "metadata": {
        "ExecuteTime": {
          "end_time": "2019-09-30T01:47:04.499900Z",
          "start_time": "2019-09-30T01:47:04.469605Z"
        },
        "id": "s6pXSCe5WvAx"
      },
      "source": [
        "# Simplest solution, if the MV is not a lot\n",
        "# drop rows with missing values : Ada berbagai cara\n",
        "X = price.dropna() # jika ada MV minimal satu di salah satu kolom, maka baris di hapus\n",
        "price2.dropna(how='all') # jika ada MV di semua kolom, maka baris di hapus\n",
        "price2.dropna(thresh=2) # jika ada MV minimal di salah 2 kolom, maka baris di hapus\n",
        "price2.dropna(subset=['Dist_Hospital'])[:7] # jika ada MV minimal satu di salah kolom Dist_Hospital\n",
        "# inplace=True if really really sure\n",
        "price2.dropna(inplace=True)"
      ],
      "execution_count": null,
      "outputs": []
    },
    {
      "cell_type": "code",
      "metadata": {
        "scrolled": true,
        "id": "EKhrNgKaWvAx"
      },
      "source": [
        "print(price2.isnull().sum())"
      ],
      "execution_count": null,
      "outputs": []
    },
    {
      "cell_type": "markdown",
      "metadata": {
        "id": "Kl3gADljWvAy"
      },
      "source": [
        "# Statistika Deskriptif"
      ]
    },
    {
      "cell_type": "code",
      "metadata": {
        "id": "4L_6jnvnWvAy"
      },
      "source": [
        "price2.describe()"
      ],
      "execution_count": null,
      "outputs": []
    },
    {
      "cell_type": "code",
      "metadata": {
        "ExecuteTime": {
          "end_time": "2019-09-30T01:10:41.657165Z",
          "start_time": "2019-09-30T01:10:41.616276Z"
        },
        "id": "ZTCchB9pWvAy"
      },
      "source": [
        "# Statistika Sederhana dari data \"Numerik\"-nya\n",
        "price2.describe(include='all')"
      ],
      "execution_count": null,
      "outputs": []
    },
    {
      "cell_type": "code",
      "metadata": {
        "ExecuteTime": {
          "end_time": "2019-09-30T01:11:45.093810Z",
          "start_time": "2019-09-30T01:11:45.076340Z"
        },
        "id": "DxyWIwhMWvAy"
      },
      "source": [
        "# ini adalah parameter tambahan jika kita juga ingin mendapatkan statistik sederhana seluruh datanya\n",
        "# (termasuk data kategorik)\n",
        "price[['Dist_Taxi','Parking']].describe(include='all')"
      ],
      "execution_count": null,
      "outputs": []
    },
    {
      "cell_type": "markdown",
      "metadata": {
        "id": "lKMWpy7KWvAy"
      },
      "source": [
        "# Distribusi nilai pada setiap variabel kategorik"
      ]
    },
    {
      "cell_type": "code",
      "metadata": {
        "ExecuteTime": {
          "end_time": "2019-09-30T01:18:12.570340Z",
          "start_time": "2019-09-30T01:18:12.561826Z"
        },
        "id": "ULzYVAT_WvAy"
      },
      "source": [
        "# get all unique values of a variable/column\n",
        "for col in price_cat.columns:\n",
        "    print(col,': ', set(price[col].unique()))"
      ],
      "execution_count": null,
      "outputs": []
    },
    {
      "cell_type": "code",
      "metadata": {
        "ExecuteTime": {
          "end_time": "2019-09-30T01:01:49.521637Z",
          "start_time": "2019-09-30T01:01:49.512438Z"
        },
        "id": "GEVRaTD5WvAz"
      },
      "source": [
        "price['Parking'].unique()"
      ],
      "execution_count": null,
      "outputs": []
    },
    {
      "cell_type": "code",
      "metadata": {
        "ExecuteTime": {
          "end_time": "2019-09-30T01:01:49.539624Z",
          "start_time": "2019-09-30T01:01:49.524628Z"
        },
        "id": "OM9rUS6QWvAz"
      },
      "source": [
        "# price\n",
        "# Jika yang dibutuhkan memang hanya nama kolom, maka kita bisa melakukan hal ini untuk menghemat penggunaan memory\n",
        "numVar = price.select_dtypes(include = ['float64', 'int64']).columns\n",
        "list(numVar)"
      ],
      "execution_count": null,
      "outputs": []
    },
    {
      "cell_type": "code",
      "metadata": {
        "ExecuteTime": {
          "end_time": "2019-09-30T01:18:27.666779Z",
          "start_time": "2019-09-30T01:18:27.657652Z"
        },
        "id": "LPs5A6w_WvAz"
      },
      "source": [
        "# Distribusi tiap data\n",
        "price['Parking'].value_counts()\n",
        "# kita bisa juga visualisasikan informasi ini"
      ],
      "execution_count": null,
      "outputs": []
    },
    {
      "cell_type": "markdown",
      "metadata": {
        "id": "gbt3_DAiWvAz"
      },
      "source": [
        "# Two-Way Tables (contingency tables)"
      ]
    },
    {
      "cell_type": "code",
      "metadata": {
        "scrolled": true,
        "id": "Jg8KCQGMWvAz"
      },
      "source": [
        "CT = pd.crosstab(index=price2[\"City_Category\"], columns=price2[\"Parking\"])\n",
        "CT"
      ],
      "execution_count": null,
      "outputs": []
    },
    {
      "cell_type": "markdown",
      "metadata": {
        "id": "2JU9zevHWvA0"
      },
      "source": [
        "# Data Grouping"
      ]
    },
    {
      "cell_type": "code",
      "metadata": {
        "ExecuteTime": {
          "end_time": "2019-09-30T01:53:20.518156Z",
          "start_time": "2019-09-30T01:53:20.474873Z"
        },
        "scrolled": false,
        "id": "ACl3xWQtWvA0"
      },
      "source": [
        "# Slicing DataFrame - Just like query in SQL\n",
        "price2[price2[\"City_Category\"] == \"CAT B\"].describe()\n",
        "# Bisa ditambahkan .drop(\"Parking\", axis=1) untuk menghilangkan kolom dengan single value"
      ],
      "execution_count": null,
      "outputs": []
    },
    {
      "cell_type": "markdown",
      "metadata": {
        "id": "1EQ6wR6dWvA0"
      },
      "source": [
        "# Saving (preprocessed) Data"
      ]
    },
    {
      "cell_type": "code",
      "metadata": {
        "ExecuteTime": {
          "end_time": "2019-09-30T01:02:14.552127Z",
          "start_time": "2019-09-30T01:02:14.509242Z"
        },
        "id": "-_gSgo1ZWvA0"
      },
      "source": [
        "# Saving the preprocessed Data for future use/analysis\n",
        "price2.to_csv(\"data/price_PreProcessed.csv\", encoding='utf8')"
      ],
      "execution_count": null,
      "outputs": []
    },
    {
      "cell_type": "markdown",
      "metadata": {
        "id": "mvyHXFhGWvA0"
      },
      "source": [
        "# Warming up discussion di Forum:\n",
        "\n",
        "<ul>\n",
        "\t<li>Outliers deteksi?, Apa yang sebaiknya dilakukan? Mengapa?</li>\n",
        "\t<li>Noise: Apa yang disebut dengan noise? Deteksi? Apa yang harus dilakukan?</li>\n",
        "\t<li>duplikasi (row/column). Apa yang harus dilakukan? Mengapa?</li>\n",
        "\t<li>Variabel yang berkorelasi. Apa yang sebaiknya dilakukan? Mengapa?</li>\n",
        "\t<li>Missing Data. Apa yang sebaiknya dilakukan? Mengapa?</li>\n",
        "</ul>\n"
      ]
    }
  ]
}