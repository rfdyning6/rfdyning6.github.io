{
  "nbformat": 4,
  "nbformat_minor": 0,
  "metadata": {
    "colab": {
      "name": "dataproduk.ipynb",
      "provenance": [],
      "authorship_tag": "ABX9TyMxC5IxfOm/MIMWEAUi8AFo",
      "include_colab_link": true
    },
    "kernelspec": {
      "name": "python3",
      "display_name": "Python 3"
    },
    "language_info": {
      "name": "python"
    }
  },
  "cells": [
    {
      "cell_type": "markdown",
      "metadata": {
        "id": "view-in-github",
        "colab_type": "text"
      },
      "source": [
        "<a href=\"https://colab.research.google.com/github/rfdyning6/rfdyning6.github.io/blob/main/dataproduk.ipynb\" target=\"_parent\"><img src=\"https://colab.research.google.com/assets/colab-badge.svg\" alt=\"Open In Colab\"/></a>"
      ]
    },
    {
      "cell_type": "code",
      "metadata": {
        "colab": {
          "base_uri": "https://localhost:8080/"
        },
        "id": "ldeZ5mdQajOR",
        "outputId": "78dd82ad-0109-4072-bdd8-35e61c12a02b"
      },
      "source": [
        "!pip3 install pip --upgrade\n",
        "!pip install category_encoders"
      ],
      "execution_count": 1,
      "outputs": [
        {
          "output_type": "stream",
          "name": "stdout",
          "text": [
            "Requirement already satisfied: pip in /usr/local/lib/python3.7/dist-packages (21.1.3)\n",
            "Collecting pip\n",
            "  Downloading pip-21.3.1-py3-none-any.whl (1.7 MB)\n",
            "\u001b[K     |████████████████████████████████| 1.7 MB 7.8 MB/s \n",
            "\u001b[?25hInstalling collected packages: pip\n",
            "  Attempting uninstall: pip\n",
            "    Found existing installation: pip 21.1.3\n",
            "    Uninstalling pip-21.1.3:\n",
            "      Successfully uninstalled pip-21.1.3\n",
            "Successfully installed pip-21.3.1\n",
            "Collecting category_encoders\n",
            "  Downloading category_encoders-2.3.0-py2.py3-none-any.whl (82 kB)\n",
            "     |████████████████████████████████| 82 kB 404 kB/s             \n",
            "\u001b[?25hRequirement already satisfied: statsmodels>=0.9.0 in /usr/local/lib/python3.7/dist-packages (from category_encoders) (0.10.2)\n",
            "Requirement already satisfied: scikit-learn>=0.20.0 in /usr/local/lib/python3.7/dist-packages (from category_encoders) (0.22.2.post1)\n",
            "Requirement already satisfied: pandas>=0.21.1 in /usr/local/lib/python3.7/dist-packages (from category_encoders) (1.1.5)\n",
            "Requirement already satisfied: numpy>=1.14.0 in /usr/local/lib/python3.7/dist-packages (from category_encoders) (1.19.5)\n",
            "Requirement already satisfied: scipy>=1.0.0 in /usr/local/lib/python3.7/dist-packages (from category_encoders) (1.4.1)\n",
            "Requirement already satisfied: patsy>=0.5.1 in /usr/local/lib/python3.7/dist-packages (from category_encoders) (0.5.2)\n",
            "Requirement already satisfied: pytz>=2017.2 in /usr/local/lib/python3.7/dist-packages (from pandas>=0.21.1->category_encoders) (2018.9)\n",
            "Requirement already satisfied: python-dateutil>=2.7.3 in /usr/local/lib/python3.7/dist-packages (from pandas>=0.21.1->category_encoders) (2.8.2)\n",
            "Requirement already satisfied: six in /usr/local/lib/python3.7/dist-packages (from patsy>=0.5.1->category_encoders) (1.15.0)\n",
            "Requirement already satisfied: joblib>=0.11 in /usr/local/lib/python3.7/dist-packages (from scikit-learn>=0.20.0->category_encoders) (1.0.1)\n",
            "Installing collected packages: category-encoders\n",
            "Successfully installed category-encoders-2.3.0\n",
            "\u001b[33mWARNING: Running pip as the 'root' user can result in broken permissions and conflicting behaviour with the system package manager. It is recommended to use a virtual environment instead: https://pip.pypa.io/warnings/venv\u001b[0m\n"
          ]
        }
      ]
    },
    {
      "cell_type": "code",
      "metadata": {
        "id": "6028NSOYa9qV"
      },
      "source": [
        "import pandas as pd\n",
        "import numpy as np\n",
        "import matplotlib.pyplot as plt\n",
        "import seaborn as sns\n",
        "import warnings\n",
        "warnings.filterwarnings('ignore')\n",
        "\n",
        "from sklearn.preprocessing import OneHotEncoder as SklearnOneHotEncoder\n",
        "from matplotlib.ticker import StrMethodFormatter\n",
        "\n",
        "%matplotlib inline\n",
        "sns.set_style(\"whitegrid\")\n",
        "plt.style.use(\"fivethirtyeight\")\n",
        "\n",
        "pd.set_option(\"display.float_format\", \"{:.2f}\".format)\n",
        "pd.set_option(\"display.max_columns\", 88)\n",
        "pd.set_option(\"display.max_rows\", 88)"
      ],
      "execution_count": 2,
      "outputs": []
    },
    {
      "cell_type": "code",
      "metadata": {
        "colab": {
          "base_uri": "https://localhost:8080/",
          "height": 582
        },
        "id": "Ww7SOeajbCOY",
        "outputId": "f6d97fdf-001d-4eec-9a1a-2748298fbdb9"
      },
      "source": [
        "#New Update Data Set from BRI\n",
        "ds_df=pd.read_csv('https://decko048.github.io/dataset/data_sup.csv') \n",
        "dp_df=pd.read_csv('https://decko048.github.io/dataset/data_produk.csv')\n",
        "su_df=pd.read_csv('https://decko048.github.io/dataset/std_unwind.csv')\n",
        "sr_df=pd.read_csv('https://decko048.github.io/dataset/std_rewind.csv')\n",
        "\n",
        "print('Data SUP Shape :', ds_df.shape)\n",
        "print('Data Produk Shape :', dp_df.shape)\n",
        "print('Standard Unwind Shape :', su_df.shape)\n",
        "print('Standard Rewind Shape :', sr_df.shape)\n",
        "dp_df.head(15)"
      ],
      "execution_count": 3,
      "outputs": [
        {
          "output_type": "stream",
          "name": "stdout",
          "text": [
            "Data SUP Shape : (865, 3)\n",
            "Data Produk Shape : (808, 6)\n",
            "Standard Unwind Shape : (5, 6)\n",
            "Standard Rewind Shape : (5, 6)\n"
          ]
        },
        {
          "output_type": "execute_result",
          "data": {
            "text/html": [
              "<div>\n",
              "<style scoped>\n",
              "    .dataframe tbody tr th:only-of-type {\n",
              "        vertical-align: middle;\n",
              "    }\n",
              "\n",
              "    .dataframe tbody tr th {\n",
              "        vertical-align: top;\n",
              "    }\n",
              "\n",
              "    .dataframe thead th {\n",
              "        text-align: right;\n",
              "    }\n",
              "</style>\n",
              "<table border=\"1\" class=\"dataframe\">\n",
              "  <thead>\n",
              "    <tr style=\"text-align: right;\">\n",
              "      <th></th>\n",
              "      <th>Artikel</th>\n",
              "      <th>JmlhWrna</th>\n",
              "      <th>JnsCtk</th>\n",
              "      <th>JnsBhn</th>\n",
              "      <th>Tebal (mic)</th>\n",
              "      <th>Lebar (mm)</th>\n",
              "    </tr>\n",
              "  </thead>\n",
              "  <tbody>\n",
              "    <tr>\n",
              "      <th>0</th>\n",
              "      <td>DJARUM SUPER 12 EURO 2021                     ...</td>\n",
              "      <td>8</td>\n",
              "      <td>REVERSE</td>\n",
              "      <td>OPP</td>\n",
              "      <td>20.00</td>\n",
              "      <td>970.00</td>\n",
              "    </tr>\n",
              "    <tr>\n",
              "      <th>1</th>\n",
              "      <td>67930308 ROLL ROYCO SALTED EGG 22G MSPK NEW   ...</td>\n",
              "      <td>7</td>\n",
              "      <td>SURFACE</td>\n",
              "      <td>PET</td>\n",
              "      <td>12.00</td>\n",
              "      <td>1150.00</td>\n",
              "    </tr>\n",
              "    <tr>\n",
              "      <th>2</th>\n",
              "      <td>SWEETENED CONDENSED MILK TOPSAHO 30 GR AFRIKA ...</td>\n",
              "      <td>7</td>\n",
              "      <td>REVERSE</td>\n",
              "      <td>PET-G</td>\n",
              "      <td>12.00</td>\n",
              "      <td>1170.00</td>\n",
              "    </tr>\n",
              "    <tr>\n",
              "      <th>3</th>\n",
              "      <td>ROLL SWTR DIABTX 1020MM 87146-1304-602        ...</td>\n",
              "      <td>6</td>\n",
              "      <td>REVERSE</td>\n",
              "      <td>PET</td>\n",
              "      <td>12.00</td>\n",
              "      <td>1045.00</td>\n",
              "    </tr>\n",
              "    <tr>\n",
              "      <th>4</th>\n",
              "      <td>14011708/23010968-STP SKL W&amp;B 750ML HLL       ...</td>\n",
              "      <td>7</td>\n",
              "      <td>REVERSE</td>\n",
              "      <td>PET</td>\n",
              "      <td>12.00</td>\n",
              "      <td>1000.00</td>\n",
              "    </tr>\n",
              "    <tr>\n",
              "      <th>5</th>\n",
              "      <td>KTG SP 280 ALOEVERA PEACH NEW                 ...</td>\n",
              "      <td>7</td>\n",
              "      <td>REVERSE</td>\n",
              "      <td>NY-01</td>\n",
              "      <td>15.00</td>\n",
              "      <td>750.00</td>\n",
              "    </tr>\n",
              "    <tr>\n",
              "      <th>6</th>\n",
              "      <td>CAFFINO MOCCA 20GRX10 OUTERPOUCH E-KARIP NEW  ...</td>\n",
              "      <td>7</td>\n",
              "      <td>SURFACE</td>\n",
              "      <td>PET-G</td>\n",
              "      <td>12.00</td>\n",
              "      <td>1120.00</td>\n",
              "    </tr>\n",
              "    <tr>\n",
              "      <th>7</th>\n",
              "      <td>KUSUKA 60GR RASA BARBEQUE NEW                 ...</td>\n",
              "      <td>7</td>\n",
              "      <td>REVERSE</td>\n",
              "      <td>PET-G</td>\n",
              "      <td>12.00</td>\n",
              "      <td>1050.00</td>\n",
              "    </tr>\n",
              "    <tr>\n",
              "      <th>8</th>\n",
              "      <td>CAFFINO CHONUT 20GRX10 OUTERPOUCH E-KARIP NEW ...</td>\n",
              "      <td>8</td>\n",
              "      <td>SURFACE</td>\n",
              "      <td>PET-G</td>\n",
              "      <td>12.00</td>\n",
              "      <td>1120.00</td>\n",
              "    </tr>\n",
              "    <tr>\n",
              "      <th>9</th>\n",
              "      <td>MARIMAS MANGGA 7GR MLT MAY'23                 ...</td>\n",
              "      <td>8</td>\n",
              "      <td>REVERSE</td>\n",
              "      <td>PET</td>\n",
              "      <td>12.00</td>\n",
              "      <td>935.00</td>\n",
              "    </tr>\n",
              "    <tr>\n",
              "      <th>10</th>\n",
              "      <td>CAFFINO CHONUT 20GR E-KARIP NEW               ...</td>\n",
              "      <td>8</td>\n",
              "      <td>SURFACE</td>\n",
              "      <td>PET-G</td>\n",
              "      <td>12.00</td>\n",
              "      <td>1120.00</td>\n",
              "    </tr>\n",
              "    <tr>\n",
              "      <th>11</th>\n",
              "      <td>EDO PIZZA BASE 120G (ND2019-0313096)          ...</td>\n",
              "      <td>7</td>\n",
              "      <td>REVERSE</td>\n",
              "      <td>OPP - G</td>\n",
              "      <td>20.00</td>\n",
              "      <td>810.00</td>\n",
              "    </tr>\n",
              "    <tr>\n",
              "      <th>12</th>\n",
              "      <td>1FK004070 FOIL KOMIX JERUK NIPIS NEW          ...</td>\n",
              "      <td>8</td>\n",
              "      <td>REVERSE</td>\n",
              "      <td>PET-G</td>\n",
              "      <td>12.00</td>\n",
              "      <td>1130.00</td>\n",
              "    </tr>\n",
              "    <tr>\n",
              "      <th>13</th>\n",
              "      <td>68481222 WRP PADDLE POP CHOCO LAVA 55ML       ...</td>\n",
              "      <td>5</td>\n",
              "      <td>REVERSE</td>\n",
              "      <td>OPP - G</td>\n",
              "      <td>18.00</td>\n",
              "      <td>1120.00</td>\n",
              "    </tr>\n",
              "    <tr>\n",
              "      <th>14</th>\n",
              "      <td>AL.FOIL MAXTEA TARIKK 25G (L-8)               ...</td>\n",
              "      <td>7</td>\n",
              "      <td>REVERSE</td>\n",
              "      <td>OPP MATTE</td>\n",
              "      <td>20.00</td>\n",
              "      <td>1170.00</td>\n",
              "    </tr>\n",
              "  </tbody>\n",
              "</table>\n",
              "</div>"
            ],
            "text/plain": [
              "                                              Artikel  JmlhWrna   JnsCtk  \\\n",
              "0   DJARUM SUPER 12 EURO 2021                     ...         8  REVERSE   \n",
              "1   67930308 ROLL ROYCO SALTED EGG 22G MSPK NEW   ...         7  SURFACE   \n",
              "2   SWEETENED CONDENSED MILK TOPSAHO 30 GR AFRIKA ...         7  REVERSE   \n",
              "3   ROLL SWTR DIABTX 1020MM 87146-1304-602        ...         6  REVERSE   \n",
              "4   14011708/23010968-STP SKL W&B 750ML HLL       ...         7  REVERSE   \n",
              "5   KTG SP 280 ALOEVERA PEACH NEW                 ...         7  REVERSE   \n",
              "6   CAFFINO MOCCA 20GRX10 OUTERPOUCH E-KARIP NEW  ...         7  SURFACE   \n",
              "7   KUSUKA 60GR RASA BARBEQUE NEW                 ...         7  REVERSE   \n",
              "8   CAFFINO CHONUT 20GRX10 OUTERPOUCH E-KARIP NEW ...         8  SURFACE   \n",
              "9   MARIMAS MANGGA 7GR MLT MAY'23                 ...         8  REVERSE   \n",
              "10  CAFFINO CHONUT 20GR E-KARIP NEW               ...         8  SURFACE   \n",
              "11  EDO PIZZA BASE 120G (ND2019-0313096)          ...         7  REVERSE   \n",
              "12  1FK004070 FOIL KOMIX JERUK NIPIS NEW          ...         8  REVERSE   \n",
              "13  68481222 WRP PADDLE POP CHOCO LAVA 55ML       ...         5  REVERSE   \n",
              "14  AL.FOIL MAXTEA TARIKK 25G (L-8)               ...         7  REVERSE   \n",
              "\n",
              "       JnsBhn  Tebal (mic)  Lebar (mm)  \n",
              "0         OPP        20.00      970.00  \n",
              "1         PET        12.00     1150.00  \n",
              "2       PET-G        12.00     1170.00  \n",
              "3         PET        12.00     1045.00  \n",
              "4         PET        12.00     1000.00  \n",
              "5       NY-01        15.00      750.00  \n",
              "6       PET-G        12.00     1120.00  \n",
              "7       PET-G        12.00     1050.00  \n",
              "8       PET-G        12.00     1120.00  \n",
              "9         PET        12.00      935.00  \n",
              "10      PET-G        12.00     1120.00  \n",
              "11    OPP - G        20.00      810.00  \n",
              "12      PET-G        12.00     1130.00  \n",
              "13    OPP - G        18.00     1120.00  \n",
              "14  OPP MATTE        20.00     1170.00  "
            ]
          },
          "metadata": {},
          "execution_count": 3
        }
      ]
    },
    {
      "cell_type": "code",
      "metadata": {
        "id": "xC7rICjgtf9p"
      },
      "source": [
        "# Change columns name it's contain space\n",
        "ds_df.rename(columns={'OPP-G':'OPP','CERUTI.2':'CERUTI_2',\n",
        "                      'CERUTI.3':'CERUTI_3','CERUTI.5':'CERUTI_5'}, inplace=True)"
      ],
      "execution_count": 4,
      "outputs": []
    },
    {
      "cell_type": "code",
      "metadata": {
        "colab": {
          "base_uri": "https://localhost:8080/"
        },
        "id": "KM6qM1Y7iba-",
        "outputId": "12bdc39e-4c67-4a32-8570-06e0722d6abb"
      },
      "source": [
        "dp_df.info()"
      ],
      "execution_count": 5,
      "outputs": [
        {
          "output_type": "stream",
          "name": "stdout",
          "text": [
            "<class 'pandas.core.frame.DataFrame'>\n",
            "RangeIndex: 808 entries, 0 to 807\n",
            "Data columns (total 6 columns):\n",
            " #   Column       Non-Null Count  Dtype  \n",
            "---  ------       --------------  -----  \n",
            " 0   Artikel      808 non-null    object \n",
            " 1   JmlhWrna     808 non-null    int64  \n",
            " 2   JnsCtk       808 non-null    object \n",
            " 3   JnsBhn       808 non-null    object \n",
            " 4   Tebal (mic)  808 non-null    float64\n",
            " 5   Lebar (mm)   808 non-null    float64\n",
            "dtypes: float64(2), int64(1), object(3)\n",
            "memory usage: 38.0+ KB\n"
          ]
        }
      ]
    },
    {
      "cell_type": "code",
      "metadata": {
        "colab": {
          "base_uri": "https://localhost:8080/",
          "height": 514
        },
        "id": "HLAbDiw6f63Q",
        "outputId": "9079a628-31d5-42b8-c70c-ab3c95885ec9"
      },
      "source": [
        "dp_df = dp_df.fillna(0)\n",
        "dp_df.head(15)"
      ],
      "execution_count": 6,
      "outputs": [
        {
          "output_type": "execute_result",
          "data": {
            "text/html": [
              "<div>\n",
              "<style scoped>\n",
              "    .dataframe tbody tr th:only-of-type {\n",
              "        vertical-align: middle;\n",
              "    }\n",
              "\n",
              "    .dataframe tbody tr th {\n",
              "        vertical-align: top;\n",
              "    }\n",
              "\n",
              "    .dataframe thead th {\n",
              "        text-align: right;\n",
              "    }\n",
              "</style>\n",
              "<table border=\"1\" class=\"dataframe\">\n",
              "  <thead>\n",
              "    <tr style=\"text-align: right;\">\n",
              "      <th></th>\n",
              "      <th>Artikel</th>\n",
              "      <th>JmlhWrna</th>\n",
              "      <th>JnsCtk</th>\n",
              "      <th>JnsBhn</th>\n",
              "      <th>Tebal (mic)</th>\n",
              "      <th>Lebar (mm)</th>\n",
              "    </tr>\n",
              "  </thead>\n",
              "  <tbody>\n",
              "    <tr>\n",
              "      <th>0</th>\n",
              "      <td>DJARUM SUPER 12 EURO 2021                     ...</td>\n",
              "      <td>8</td>\n",
              "      <td>REVERSE</td>\n",
              "      <td>OPP</td>\n",
              "      <td>20.00</td>\n",
              "      <td>970.00</td>\n",
              "    </tr>\n",
              "    <tr>\n",
              "      <th>1</th>\n",
              "      <td>67930308 ROLL ROYCO SALTED EGG 22G MSPK NEW   ...</td>\n",
              "      <td>7</td>\n",
              "      <td>SURFACE</td>\n",
              "      <td>PET</td>\n",
              "      <td>12.00</td>\n",
              "      <td>1150.00</td>\n",
              "    </tr>\n",
              "    <tr>\n",
              "      <th>2</th>\n",
              "      <td>SWEETENED CONDENSED MILK TOPSAHO 30 GR AFRIKA ...</td>\n",
              "      <td>7</td>\n",
              "      <td>REVERSE</td>\n",
              "      <td>PET-G</td>\n",
              "      <td>12.00</td>\n",
              "      <td>1170.00</td>\n",
              "    </tr>\n",
              "    <tr>\n",
              "      <th>3</th>\n",
              "      <td>ROLL SWTR DIABTX 1020MM 87146-1304-602        ...</td>\n",
              "      <td>6</td>\n",
              "      <td>REVERSE</td>\n",
              "      <td>PET</td>\n",
              "      <td>12.00</td>\n",
              "      <td>1045.00</td>\n",
              "    </tr>\n",
              "    <tr>\n",
              "      <th>4</th>\n",
              "      <td>14011708/23010968-STP SKL W&amp;B 750ML HLL       ...</td>\n",
              "      <td>7</td>\n",
              "      <td>REVERSE</td>\n",
              "      <td>PET</td>\n",
              "      <td>12.00</td>\n",
              "      <td>1000.00</td>\n",
              "    </tr>\n",
              "    <tr>\n",
              "      <th>5</th>\n",
              "      <td>KTG SP 280 ALOEVERA PEACH NEW                 ...</td>\n",
              "      <td>7</td>\n",
              "      <td>REVERSE</td>\n",
              "      <td>NY-01</td>\n",
              "      <td>15.00</td>\n",
              "      <td>750.00</td>\n",
              "    </tr>\n",
              "    <tr>\n",
              "      <th>6</th>\n",
              "      <td>CAFFINO MOCCA 20GRX10 OUTERPOUCH E-KARIP NEW  ...</td>\n",
              "      <td>7</td>\n",
              "      <td>SURFACE</td>\n",
              "      <td>PET-G</td>\n",
              "      <td>12.00</td>\n",
              "      <td>1120.00</td>\n",
              "    </tr>\n",
              "    <tr>\n",
              "      <th>7</th>\n",
              "      <td>KUSUKA 60GR RASA BARBEQUE NEW                 ...</td>\n",
              "      <td>7</td>\n",
              "      <td>REVERSE</td>\n",
              "      <td>PET-G</td>\n",
              "      <td>12.00</td>\n",
              "      <td>1050.00</td>\n",
              "    </tr>\n",
              "    <tr>\n",
              "      <th>8</th>\n",
              "      <td>CAFFINO CHONUT 20GRX10 OUTERPOUCH E-KARIP NEW ...</td>\n",
              "      <td>8</td>\n",
              "      <td>SURFACE</td>\n",
              "      <td>PET-G</td>\n",
              "      <td>12.00</td>\n",
              "      <td>1120.00</td>\n",
              "    </tr>\n",
              "    <tr>\n",
              "      <th>9</th>\n",
              "      <td>MARIMAS MANGGA 7GR MLT MAY'23                 ...</td>\n",
              "      <td>8</td>\n",
              "      <td>REVERSE</td>\n",
              "      <td>PET</td>\n",
              "      <td>12.00</td>\n",
              "      <td>935.00</td>\n",
              "    </tr>\n",
              "    <tr>\n",
              "      <th>10</th>\n",
              "      <td>CAFFINO CHONUT 20GR E-KARIP NEW               ...</td>\n",
              "      <td>8</td>\n",
              "      <td>SURFACE</td>\n",
              "      <td>PET-G</td>\n",
              "      <td>12.00</td>\n",
              "      <td>1120.00</td>\n",
              "    </tr>\n",
              "    <tr>\n",
              "      <th>11</th>\n",
              "      <td>EDO PIZZA BASE 120G (ND2019-0313096)          ...</td>\n",
              "      <td>7</td>\n",
              "      <td>REVERSE</td>\n",
              "      <td>OPP - G</td>\n",
              "      <td>20.00</td>\n",
              "      <td>810.00</td>\n",
              "    </tr>\n",
              "    <tr>\n",
              "      <th>12</th>\n",
              "      <td>1FK004070 FOIL KOMIX JERUK NIPIS NEW          ...</td>\n",
              "      <td>8</td>\n",
              "      <td>REVERSE</td>\n",
              "      <td>PET-G</td>\n",
              "      <td>12.00</td>\n",
              "      <td>1130.00</td>\n",
              "    </tr>\n",
              "    <tr>\n",
              "      <th>13</th>\n",
              "      <td>68481222 WRP PADDLE POP CHOCO LAVA 55ML       ...</td>\n",
              "      <td>5</td>\n",
              "      <td>REVERSE</td>\n",
              "      <td>OPP - G</td>\n",
              "      <td>18.00</td>\n",
              "      <td>1120.00</td>\n",
              "    </tr>\n",
              "    <tr>\n",
              "      <th>14</th>\n",
              "      <td>AL.FOIL MAXTEA TARIKK 25G (L-8)               ...</td>\n",
              "      <td>7</td>\n",
              "      <td>REVERSE</td>\n",
              "      <td>OPP MATTE</td>\n",
              "      <td>20.00</td>\n",
              "      <td>1170.00</td>\n",
              "    </tr>\n",
              "  </tbody>\n",
              "</table>\n",
              "</div>"
            ],
            "text/plain": [
              "                                              Artikel  JmlhWrna   JnsCtk  \\\n",
              "0   DJARUM SUPER 12 EURO 2021                     ...         8  REVERSE   \n",
              "1   67930308 ROLL ROYCO SALTED EGG 22G MSPK NEW   ...         7  SURFACE   \n",
              "2   SWEETENED CONDENSED MILK TOPSAHO 30 GR AFRIKA ...         7  REVERSE   \n",
              "3   ROLL SWTR DIABTX 1020MM 87146-1304-602        ...         6  REVERSE   \n",
              "4   14011708/23010968-STP SKL W&B 750ML HLL       ...         7  REVERSE   \n",
              "5   KTG SP 280 ALOEVERA PEACH NEW                 ...         7  REVERSE   \n",
              "6   CAFFINO MOCCA 20GRX10 OUTERPOUCH E-KARIP NEW  ...         7  SURFACE   \n",
              "7   KUSUKA 60GR RASA BARBEQUE NEW                 ...         7  REVERSE   \n",
              "8   CAFFINO CHONUT 20GRX10 OUTERPOUCH E-KARIP NEW ...         8  SURFACE   \n",
              "9   MARIMAS MANGGA 7GR MLT MAY'23                 ...         8  REVERSE   \n",
              "10  CAFFINO CHONUT 20GR E-KARIP NEW               ...         8  SURFACE   \n",
              "11  EDO PIZZA BASE 120G (ND2019-0313096)          ...         7  REVERSE   \n",
              "12  1FK004070 FOIL KOMIX JERUK NIPIS NEW          ...         8  REVERSE   \n",
              "13  68481222 WRP PADDLE POP CHOCO LAVA 55ML       ...         5  REVERSE   \n",
              "14  AL.FOIL MAXTEA TARIKK 25G (L-8)               ...         7  REVERSE   \n",
              "\n",
              "       JnsBhn  Tebal (mic)  Lebar (mm)  \n",
              "0         OPP        20.00      970.00  \n",
              "1         PET        12.00     1150.00  \n",
              "2       PET-G        12.00     1170.00  \n",
              "3         PET        12.00     1045.00  \n",
              "4         PET        12.00     1000.00  \n",
              "5       NY-01        15.00      750.00  \n",
              "6       PET-G        12.00     1120.00  \n",
              "7       PET-G        12.00     1050.00  \n",
              "8       PET-G        12.00     1120.00  \n",
              "9         PET        12.00      935.00  \n",
              "10      PET-G        12.00     1120.00  \n",
              "11    OPP - G        20.00      810.00  \n",
              "12      PET-G        12.00     1130.00  \n",
              "13    OPP - G        18.00     1120.00  \n",
              "14  OPP MATTE        20.00     1170.00  "
            ]
          },
          "metadata": {},
          "execution_count": 6
        }
      ]
    },
    {
      "cell_type": "code",
      "metadata": {
        "id": "MsXgUhkStxOG"
      },
      "source": [
        "cleanup_nums ={\"JnsCtk\":{\"REVERSE\":1,\"SURFACE\":2}}"
      ],
      "execution_count": 7,
      "outputs": []
    },
    {
      "cell_type": "code",
      "metadata": {
        "colab": {
          "base_uri": "https://localhost:8080/",
          "height": 514
        },
        "id": "5gkLMqk1eZwK",
        "outputId": "790e0f2b-d283-42c5-fd11-0db9e72d2e5f"
      },
      "source": [
        "fn_df = dp_df.replace(cleanup_nums)\n",
        "fn_df = fn_df.fillna(0)\n",
        "fn_df.head(15)"
      ],
      "execution_count": 8,
      "outputs": [
        {
          "output_type": "execute_result",
          "data": {
            "text/html": [
              "<div>\n",
              "<style scoped>\n",
              "    .dataframe tbody tr th:only-of-type {\n",
              "        vertical-align: middle;\n",
              "    }\n",
              "\n",
              "    .dataframe tbody tr th {\n",
              "        vertical-align: top;\n",
              "    }\n",
              "\n",
              "    .dataframe thead th {\n",
              "        text-align: right;\n",
              "    }\n",
              "</style>\n",
              "<table border=\"1\" class=\"dataframe\">\n",
              "  <thead>\n",
              "    <tr style=\"text-align: right;\">\n",
              "      <th></th>\n",
              "      <th>Artikel</th>\n",
              "      <th>JmlhWrna</th>\n",
              "      <th>JnsCtk</th>\n",
              "      <th>JnsBhn</th>\n",
              "      <th>Tebal (mic)</th>\n",
              "      <th>Lebar (mm)</th>\n",
              "    </tr>\n",
              "  </thead>\n",
              "  <tbody>\n",
              "    <tr>\n",
              "      <th>0</th>\n",
              "      <td>DJARUM SUPER 12 EURO 2021                     ...</td>\n",
              "      <td>8</td>\n",
              "      <td>1</td>\n",
              "      <td>OPP</td>\n",
              "      <td>20.00</td>\n",
              "      <td>970.00</td>\n",
              "    </tr>\n",
              "    <tr>\n",
              "      <th>1</th>\n",
              "      <td>67930308 ROLL ROYCO SALTED EGG 22G MSPK NEW   ...</td>\n",
              "      <td>7</td>\n",
              "      <td>2</td>\n",
              "      <td>PET</td>\n",
              "      <td>12.00</td>\n",
              "      <td>1150.00</td>\n",
              "    </tr>\n",
              "    <tr>\n",
              "      <th>2</th>\n",
              "      <td>SWEETENED CONDENSED MILK TOPSAHO 30 GR AFRIKA ...</td>\n",
              "      <td>7</td>\n",
              "      <td>1</td>\n",
              "      <td>PET-G</td>\n",
              "      <td>12.00</td>\n",
              "      <td>1170.00</td>\n",
              "    </tr>\n",
              "    <tr>\n",
              "      <th>3</th>\n",
              "      <td>ROLL SWTR DIABTX 1020MM 87146-1304-602        ...</td>\n",
              "      <td>6</td>\n",
              "      <td>1</td>\n",
              "      <td>PET</td>\n",
              "      <td>12.00</td>\n",
              "      <td>1045.00</td>\n",
              "    </tr>\n",
              "    <tr>\n",
              "      <th>4</th>\n",
              "      <td>14011708/23010968-STP SKL W&amp;B 750ML HLL       ...</td>\n",
              "      <td>7</td>\n",
              "      <td>1</td>\n",
              "      <td>PET</td>\n",
              "      <td>12.00</td>\n",
              "      <td>1000.00</td>\n",
              "    </tr>\n",
              "    <tr>\n",
              "      <th>5</th>\n",
              "      <td>KTG SP 280 ALOEVERA PEACH NEW                 ...</td>\n",
              "      <td>7</td>\n",
              "      <td>1</td>\n",
              "      <td>NY-01</td>\n",
              "      <td>15.00</td>\n",
              "      <td>750.00</td>\n",
              "    </tr>\n",
              "    <tr>\n",
              "      <th>6</th>\n",
              "      <td>CAFFINO MOCCA 20GRX10 OUTERPOUCH E-KARIP NEW  ...</td>\n",
              "      <td>7</td>\n",
              "      <td>2</td>\n",
              "      <td>PET-G</td>\n",
              "      <td>12.00</td>\n",
              "      <td>1120.00</td>\n",
              "    </tr>\n",
              "    <tr>\n",
              "      <th>7</th>\n",
              "      <td>KUSUKA 60GR RASA BARBEQUE NEW                 ...</td>\n",
              "      <td>7</td>\n",
              "      <td>1</td>\n",
              "      <td>PET-G</td>\n",
              "      <td>12.00</td>\n",
              "      <td>1050.00</td>\n",
              "    </tr>\n",
              "    <tr>\n",
              "      <th>8</th>\n",
              "      <td>CAFFINO CHONUT 20GRX10 OUTERPOUCH E-KARIP NEW ...</td>\n",
              "      <td>8</td>\n",
              "      <td>2</td>\n",
              "      <td>PET-G</td>\n",
              "      <td>12.00</td>\n",
              "      <td>1120.00</td>\n",
              "    </tr>\n",
              "    <tr>\n",
              "      <th>9</th>\n",
              "      <td>MARIMAS MANGGA 7GR MLT MAY'23                 ...</td>\n",
              "      <td>8</td>\n",
              "      <td>1</td>\n",
              "      <td>PET</td>\n",
              "      <td>12.00</td>\n",
              "      <td>935.00</td>\n",
              "    </tr>\n",
              "    <tr>\n",
              "      <th>10</th>\n",
              "      <td>CAFFINO CHONUT 20GR E-KARIP NEW               ...</td>\n",
              "      <td>8</td>\n",
              "      <td>2</td>\n",
              "      <td>PET-G</td>\n",
              "      <td>12.00</td>\n",
              "      <td>1120.00</td>\n",
              "    </tr>\n",
              "    <tr>\n",
              "      <th>11</th>\n",
              "      <td>EDO PIZZA BASE 120G (ND2019-0313096)          ...</td>\n",
              "      <td>7</td>\n",
              "      <td>1</td>\n",
              "      <td>OPP - G</td>\n",
              "      <td>20.00</td>\n",
              "      <td>810.00</td>\n",
              "    </tr>\n",
              "    <tr>\n",
              "      <th>12</th>\n",
              "      <td>1FK004070 FOIL KOMIX JERUK NIPIS NEW          ...</td>\n",
              "      <td>8</td>\n",
              "      <td>1</td>\n",
              "      <td>PET-G</td>\n",
              "      <td>12.00</td>\n",
              "      <td>1130.00</td>\n",
              "    </tr>\n",
              "    <tr>\n",
              "      <th>13</th>\n",
              "      <td>68481222 WRP PADDLE POP CHOCO LAVA 55ML       ...</td>\n",
              "      <td>5</td>\n",
              "      <td>1</td>\n",
              "      <td>OPP - G</td>\n",
              "      <td>18.00</td>\n",
              "      <td>1120.00</td>\n",
              "    </tr>\n",
              "    <tr>\n",
              "      <th>14</th>\n",
              "      <td>AL.FOIL MAXTEA TARIKK 25G (L-8)               ...</td>\n",
              "      <td>7</td>\n",
              "      <td>1</td>\n",
              "      <td>OPP MATTE</td>\n",
              "      <td>20.00</td>\n",
              "      <td>1170.00</td>\n",
              "    </tr>\n",
              "  </tbody>\n",
              "</table>\n",
              "</div>"
            ],
            "text/plain": [
              "                                              Artikel  JmlhWrna  JnsCtk  \\\n",
              "0   DJARUM SUPER 12 EURO 2021                     ...         8       1   \n",
              "1   67930308 ROLL ROYCO SALTED EGG 22G MSPK NEW   ...         7       2   \n",
              "2   SWEETENED CONDENSED MILK TOPSAHO 30 GR AFRIKA ...         7       1   \n",
              "3   ROLL SWTR DIABTX 1020MM 87146-1304-602        ...         6       1   \n",
              "4   14011708/23010968-STP SKL W&B 750ML HLL       ...         7       1   \n",
              "5   KTG SP 280 ALOEVERA PEACH NEW                 ...         7       1   \n",
              "6   CAFFINO MOCCA 20GRX10 OUTERPOUCH E-KARIP NEW  ...         7       2   \n",
              "7   KUSUKA 60GR RASA BARBEQUE NEW                 ...         7       1   \n",
              "8   CAFFINO CHONUT 20GRX10 OUTERPOUCH E-KARIP NEW ...         8       2   \n",
              "9   MARIMAS MANGGA 7GR MLT MAY'23                 ...         8       1   \n",
              "10  CAFFINO CHONUT 20GR E-KARIP NEW               ...         8       2   \n",
              "11  EDO PIZZA BASE 120G (ND2019-0313096)          ...         7       1   \n",
              "12  1FK004070 FOIL KOMIX JERUK NIPIS NEW          ...         8       1   \n",
              "13  68481222 WRP PADDLE POP CHOCO LAVA 55ML       ...         5       1   \n",
              "14  AL.FOIL MAXTEA TARIKK 25G (L-8)               ...         7       1   \n",
              "\n",
              "       JnsBhn  Tebal (mic)  Lebar (mm)  \n",
              "0         OPP        20.00      970.00  \n",
              "1         PET        12.00     1150.00  \n",
              "2       PET-G        12.00     1170.00  \n",
              "3         PET        12.00     1045.00  \n",
              "4         PET        12.00     1000.00  \n",
              "5       NY-01        15.00      750.00  \n",
              "6       PET-G        12.00     1120.00  \n",
              "7       PET-G        12.00     1050.00  \n",
              "8       PET-G        12.00     1120.00  \n",
              "9         PET        12.00      935.00  \n",
              "10      PET-G        12.00     1120.00  \n",
              "11    OPP - G        20.00      810.00  \n",
              "12      PET-G        12.00     1130.00  \n",
              "13    OPP - G        18.00     1120.00  \n",
              "14  OPP MATTE        20.00     1170.00  "
            ]
          },
          "metadata": {},
          "execution_count": 8
        }
      ]
    },
    {
      "cell_type": "code",
      "metadata": {
        "colab": {
          "base_uri": "https://localhost:8080/"
        },
        "id": "qb2SbgB_eikL",
        "outputId": "ba74424f-d9f0-4237-abf6-eee0c29f380e"
      },
      "source": [
        "fn_df.info()"
      ],
      "execution_count": 9,
      "outputs": [
        {
          "output_type": "stream",
          "name": "stdout",
          "text": [
            "<class 'pandas.core.frame.DataFrame'>\n",
            "RangeIndex: 808 entries, 0 to 807\n",
            "Data columns (total 6 columns):\n",
            " #   Column       Non-Null Count  Dtype  \n",
            "---  ------       --------------  -----  \n",
            " 0   Artikel      808 non-null    object \n",
            " 1   JmlhWrna     808 non-null    int64  \n",
            " 2   JnsCtk       808 non-null    int64  \n",
            " 3   JnsBhn       808 non-null    object \n",
            " 4   Tebal (mic)  808 non-null    float64\n",
            " 5   Lebar (mm)   808 non-null    float64\n",
            "dtypes: float64(2), int64(2), object(2)\n",
            "memory usage: 38.0+ KB\n"
          ]
        }
      ]
    },
    {
      "cell_type": "code",
      "metadata": {
        "colab": {
          "base_uri": "https://localhost:8080/",
          "height": 514
        },
        "id": "td21YXoCrm-E",
        "outputId": "66ef4ef8-4e78-4988-f9f0-62cbfc16cf53"
      },
      "source": [
        "ob_df=dp_df.select_dtypes(include=['object']).copy()\n",
        "ob_df = ob_df.fillna(0)\n",
        "ob_df.head(15)"
      ],
      "execution_count": 10,
      "outputs": [
        {
          "output_type": "execute_result",
          "data": {
            "text/html": [
              "<div>\n",
              "<style scoped>\n",
              "    .dataframe tbody tr th:only-of-type {\n",
              "        vertical-align: middle;\n",
              "    }\n",
              "\n",
              "    .dataframe tbody tr th {\n",
              "        vertical-align: top;\n",
              "    }\n",
              "\n",
              "    .dataframe thead th {\n",
              "        text-align: right;\n",
              "    }\n",
              "</style>\n",
              "<table border=\"1\" class=\"dataframe\">\n",
              "  <thead>\n",
              "    <tr style=\"text-align: right;\">\n",
              "      <th></th>\n",
              "      <th>Artikel</th>\n",
              "      <th>JnsCtk</th>\n",
              "      <th>JnsBhn</th>\n",
              "    </tr>\n",
              "  </thead>\n",
              "  <tbody>\n",
              "    <tr>\n",
              "      <th>0</th>\n",
              "      <td>DJARUM SUPER 12 EURO 2021                     ...</td>\n",
              "      <td>REVERSE</td>\n",
              "      <td>OPP</td>\n",
              "    </tr>\n",
              "    <tr>\n",
              "      <th>1</th>\n",
              "      <td>67930308 ROLL ROYCO SALTED EGG 22G MSPK NEW   ...</td>\n",
              "      <td>SURFACE</td>\n",
              "      <td>PET</td>\n",
              "    </tr>\n",
              "    <tr>\n",
              "      <th>2</th>\n",
              "      <td>SWEETENED CONDENSED MILK TOPSAHO 30 GR AFRIKA ...</td>\n",
              "      <td>REVERSE</td>\n",
              "      <td>PET-G</td>\n",
              "    </tr>\n",
              "    <tr>\n",
              "      <th>3</th>\n",
              "      <td>ROLL SWTR DIABTX 1020MM 87146-1304-602        ...</td>\n",
              "      <td>REVERSE</td>\n",
              "      <td>PET</td>\n",
              "    </tr>\n",
              "    <tr>\n",
              "      <th>4</th>\n",
              "      <td>14011708/23010968-STP SKL W&amp;B 750ML HLL       ...</td>\n",
              "      <td>REVERSE</td>\n",
              "      <td>PET</td>\n",
              "    </tr>\n",
              "    <tr>\n",
              "      <th>5</th>\n",
              "      <td>KTG SP 280 ALOEVERA PEACH NEW                 ...</td>\n",
              "      <td>REVERSE</td>\n",
              "      <td>NY-01</td>\n",
              "    </tr>\n",
              "    <tr>\n",
              "      <th>6</th>\n",
              "      <td>CAFFINO MOCCA 20GRX10 OUTERPOUCH E-KARIP NEW  ...</td>\n",
              "      <td>SURFACE</td>\n",
              "      <td>PET-G</td>\n",
              "    </tr>\n",
              "    <tr>\n",
              "      <th>7</th>\n",
              "      <td>KUSUKA 60GR RASA BARBEQUE NEW                 ...</td>\n",
              "      <td>REVERSE</td>\n",
              "      <td>PET-G</td>\n",
              "    </tr>\n",
              "    <tr>\n",
              "      <th>8</th>\n",
              "      <td>CAFFINO CHONUT 20GRX10 OUTERPOUCH E-KARIP NEW ...</td>\n",
              "      <td>SURFACE</td>\n",
              "      <td>PET-G</td>\n",
              "    </tr>\n",
              "    <tr>\n",
              "      <th>9</th>\n",
              "      <td>MARIMAS MANGGA 7GR MLT MAY'23                 ...</td>\n",
              "      <td>REVERSE</td>\n",
              "      <td>PET</td>\n",
              "    </tr>\n",
              "    <tr>\n",
              "      <th>10</th>\n",
              "      <td>CAFFINO CHONUT 20GR E-KARIP NEW               ...</td>\n",
              "      <td>SURFACE</td>\n",
              "      <td>PET-G</td>\n",
              "    </tr>\n",
              "    <tr>\n",
              "      <th>11</th>\n",
              "      <td>EDO PIZZA BASE 120G (ND2019-0313096)          ...</td>\n",
              "      <td>REVERSE</td>\n",
              "      <td>OPP - G</td>\n",
              "    </tr>\n",
              "    <tr>\n",
              "      <th>12</th>\n",
              "      <td>1FK004070 FOIL KOMIX JERUK NIPIS NEW          ...</td>\n",
              "      <td>REVERSE</td>\n",
              "      <td>PET-G</td>\n",
              "    </tr>\n",
              "    <tr>\n",
              "      <th>13</th>\n",
              "      <td>68481222 WRP PADDLE POP CHOCO LAVA 55ML       ...</td>\n",
              "      <td>REVERSE</td>\n",
              "      <td>OPP - G</td>\n",
              "    </tr>\n",
              "    <tr>\n",
              "      <th>14</th>\n",
              "      <td>AL.FOIL MAXTEA TARIKK 25G (L-8)               ...</td>\n",
              "      <td>REVERSE</td>\n",
              "      <td>OPP MATTE</td>\n",
              "    </tr>\n",
              "  </tbody>\n",
              "</table>\n",
              "</div>"
            ],
            "text/plain": [
              "                                              Artikel   JnsCtk     JnsBhn\n",
              "0   DJARUM SUPER 12 EURO 2021                     ...  REVERSE        OPP\n",
              "1   67930308 ROLL ROYCO SALTED EGG 22G MSPK NEW   ...  SURFACE        PET\n",
              "2   SWEETENED CONDENSED MILK TOPSAHO 30 GR AFRIKA ...  REVERSE      PET-G\n",
              "3   ROLL SWTR DIABTX 1020MM 87146-1304-602        ...  REVERSE        PET\n",
              "4   14011708/23010968-STP SKL W&B 750ML HLL       ...  REVERSE        PET\n",
              "5   KTG SP 280 ALOEVERA PEACH NEW                 ...  REVERSE      NY-01\n",
              "6   CAFFINO MOCCA 20GRX10 OUTERPOUCH E-KARIP NEW  ...  SURFACE      PET-G\n",
              "7   KUSUKA 60GR RASA BARBEQUE NEW                 ...  REVERSE      PET-G\n",
              "8   CAFFINO CHONUT 20GRX10 OUTERPOUCH E-KARIP NEW ...  SURFACE      PET-G\n",
              "9   MARIMAS MANGGA 7GR MLT MAY'23                 ...  REVERSE        PET\n",
              "10  CAFFINO CHONUT 20GR E-KARIP NEW               ...  SURFACE      PET-G\n",
              "11  EDO PIZZA BASE 120G (ND2019-0313096)          ...  REVERSE    OPP - G\n",
              "12  1FK004070 FOIL KOMIX JERUK NIPIS NEW          ...  REVERSE      PET-G\n",
              "13  68481222 WRP PADDLE POP CHOCO LAVA 55ML       ...  REVERSE    OPP - G\n",
              "14  AL.FOIL MAXTEA TARIKK 25G (L-8)               ...  REVERSE  OPP MATTE"
            ]
          },
          "metadata": {},
          "execution_count": 10
        }
      ]
    },
    {
      "cell_type": "code",
      "metadata": {
        "colab": {
          "base_uri": "https://localhost:8080/",
          "height": 204
        },
        "id": "o1iLKyudyFUw",
        "outputId": "8118b9bd-7e09-419b-bfac-78d2d5c9f7a2"
      },
      "source": [
        "ob_df=ob_df.replace(cleanup_nums)\n",
        "ob_df.head()"
      ],
      "execution_count": 11,
      "outputs": [
        {
          "output_type": "execute_result",
          "data": {
            "text/html": [
              "<div>\n",
              "<style scoped>\n",
              "    .dataframe tbody tr th:only-of-type {\n",
              "        vertical-align: middle;\n",
              "    }\n",
              "\n",
              "    .dataframe tbody tr th {\n",
              "        vertical-align: top;\n",
              "    }\n",
              "\n",
              "    .dataframe thead th {\n",
              "        text-align: right;\n",
              "    }\n",
              "</style>\n",
              "<table border=\"1\" class=\"dataframe\">\n",
              "  <thead>\n",
              "    <tr style=\"text-align: right;\">\n",
              "      <th></th>\n",
              "      <th>Artikel</th>\n",
              "      <th>JnsCtk</th>\n",
              "      <th>JnsBhn</th>\n",
              "    </tr>\n",
              "  </thead>\n",
              "  <tbody>\n",
              "    <tr>\n",
              "      <th>0</th>\n",
              "      <td>DJARUM SUPER 12 EURO 2021                     ...</td>\n",
              "      <td>1</td>\n",
              "      <td>OPP</td>\n",
              "    </tr>\n",
              "    <tr>\n",
              "      <th>1</th>\n",
              "      <td>67930308 ROLL ROYCO SALTED EGG 22G MSPK NEW   ...</td>\n",
              "      <td>2</td>\n",
              "      <td>PET</td>\n",
              "    </tr>\n",
              "    <tr>\n",
              "      <th>2</th>\n",
              "      <td>SWEETENED CONDENSED MILK TOPSAHO 30 GR AFRIKA ...</td>\n",
              "      <td>1</td>\n",
              "      <td>PET-G</td>\n",
              "    </tr>\n",
              "    <tr>\n",
              "      <th>3</th>\n",
              "      <td>ROLL SWTR DIABTX 1020MM 87146-1304-602        ...</td>\n",
              "      <td>1</td>\n",
              "      <td>PET</td>\n",
              "    </tr>\n",
              "    <tr>\n",
              "      <th>4</th>\n",
              "      <td>14011708/23010968-STP SKL W&amp;B 750ML HLL       ...</td>\n",
              "      <td>1</td>\n",
              "      <td>PET</td>\n",
              "    </tr>\n",
              "  </tbody>\n",
              "</table>\n",
              "</div>"
            ],
            "text/plain": [
              "                                             Artikel  JnsCtk JnsBhn\n",
              "0  DJARUM SUPER 12 EURO 2021                     ...       1    OPP\n",
              "1  67930308 ROLL ROYCO SALTED EGG 22G MSPK NEW   ...       2    PET\n",
              "2  SWEETENED CONDENSED MILK TOPSAHO 30 GR AFRIKA ...       1  PET-G\n",
              "3  ROLL SWTR DIABTX 1020MM 87146-1304-602        ...       1    PET\n",
              "4  14011708/23010968-STP SKL W&B 750ML HLL       ...       1    PET"
            ]
          },
          "metadata": {},
          "execution_count": 11
        }
      ]
    },
    {
      "cell_type": "code",
      "metadata": {
        "id": "tfVOXId0ybWN"
      },
      "source": [
        "from io import StringIO\n",
        "col = ['Artikel','JmlhWrna','JnsCtk',\n",
        "       'JnsBhn','Tebal (mic)','Lebar (mm)']\n",
        "cat_df = fn_df[col]\n",
        "cat_df = cat_df[pd.notnull(fn_df['JnsCtk'])]\n",
        "cat_df.columns = ['Artikel','JmlhWrna','JnsCtk',\n",
        "                  'JnsBhn','Tebal (mic)','Lebar (mm)']"
      ],
      "execution_count": 12,
      "outputs": []
    },
    {
      "cell_type": "code",
      "metadata": {
        "colab": {
          "base_uri": "https://localhost:8080/",
          "height": 386
        },
        "id": "utSWKMgPzjK3",
        "outputId": "0d7316ef-c2e4-4002-c2df-183f5999e45a"
      },
      "source": [
        "import matplotlib.pyplot as plt\n",
        "fig = plt.figure(figsize=(10,5))\n",
        "cat_df.groupby(['JmlhWrna','JnsCtk']).JnsBhn.count().plot.bar(ylim=0)\n",
        "plt.show()"
      ],
      "execution_count": 13,
      "outputs": [
        {
          "output_type": "display_data",
          "data": {
            "image/png": "[encoded data removed]",
            "text/plain": [
              "<Figure size 720x360 with 1 Axes>"
            ]
          },
          "metadata": {}
        }
      ]
    },
    {
      "cell_type": "code",
      "metadata": {
        "colab": {
          "base_uri": "https://localhost:8080/",
          "height": 408
        },
        "id": "RtouEQDXY3Dq",
        "outputId": "1f5a70c4-db31-4114-8934-501c5c220479"
      },
      "source": [
        "import matplotlib.pyplot as plt\n",
        "fig = plt.figure(figsize=(10,5))\n",
        "cat_df.groupby(['JmlhWrna','Tebal (mic)']).JnsBhn.count().plot.bar(ylim=0)\n",
        "plt.show()"
      ],
      "execution_count": 14,
      "outputs": [
        {
          "output_type": "display_data",
          "data": {
            "image/png": "[encoded data removed]",
            "text/plain": [
              "<Figure size 720x360 with 1 Axes>"
            ]
          },
          "metadata": {}
        }
      ]
    },
    {
      "cell_type": "code",
      "metadata": {
        "colab": {
          "base_uri": "https://localhost:8080/",
          "height": 426
        },
        "id": "2Q6yiGV-ZFhG",
        "outputId": "0c771301-b3e1-4af0-9649-5afe2b8f04dc"
      },
      "source": [
        "import matplotlib.pyplot as plt\n",
        "fig = plt.figure(figsize=(10,5))\n",
        "cat_df.groupby(['JmlhWrna','Lebar (mm)']).JnsBhn.count().plot.bar(ylim=0)\n",
        "plt.show()"
      ],
      "execution_count": 15,
      "outputs": [
        {
          "output_type": "display_data",
          "data": {
            "image/png": "[encoded data removed]",
            "text/plain": [
              "<Figure size 720x360 with 1 Axes>"
            ]
          },
          "metadata": {}
        }
      ]
    },
    {
      "cell_type": "code",
      "metadata": {
        "colab": {
          "base_uri": "https://localhost:8080/",
          "height": 408
        },
        "id": "EhBaidck_cu3",
        "outputId": "52e3b526-bc06-4044-cf8c-54d632678f03"
      },
      "source": [
        "import matplotlib.pyplot as plt\n",
        "fig = plt.figure(figsize=(10,5))\n",
        "cat_df.groupby(['JnsCtk','Tebal (mic)']).JnsBhn.count().plot.bar(ylim=0)\n",
        "plt.show()"
      ],
      "execution_count": 16,
      "outputs": [
        {
          "output_type": "display_data",
          "data": {
            "image/png": "[encoded data removed]",
            "text/plain": [
              "<Figure size 720x360 with 1 Axes>"
            ]
          },
          "metadata": {}
        }
      ]
    },
    {
      "cell_type": "code",
      "metadata": {
        "colab": {
          "base_uri": "https://localhost:8080/",
          "height": 427
        },
        "id": "ngjopJzh_ieH",
        "outputId": "8f953971-c586-45b7-a7ce-8a6361d945b5"
      },
      "source": [
        "import matplotlib.pyplot as plt\n",
        "fig = plt.figure(figsize=(10,5))\n",
        "cat_df.groupby(['JnsCtk','Lebar (mm)']).JnsBhn.count().plot.bar(ylim=0)\n",
        "plt.show()"
      ],
      "execution_count": 17,
      "outputs": [
        {
          "output_type": "display_data",
          "data": {
            "image/png": "[encoded data removed]",
            "text/plain": [
              "<Figure size 720x360 with 1 Axes>"
            ]
          },
          "metadata": {}
        }
      ]
    },
    {
      "cell_type": "code",
      "metadata": {
        "colab": {
          "base_uri": "https://localhost:8080/",
          "height": 173
        },
        "id": "8bAtAF0LYnjE",
        "outputId": "ce3ff15d-013f-4f8d-f39b-7398f4aa7fc1"
      },
      "source": [
        "fn_df.describe().T"
      ],
      "execution_count": 39,
      "outputs": [
        {
          "output_type": "execute_result",
          "data": {
            "text/html": [
              "<div>\n",
              "<style scoped>\n",
              "    .dataframe tbody tr th:only-of-type {\n",
              "        vertical-align: middle;\n",
              "    }\n",
              "\n",
              "    .dataframe tbody tr th {\n",
              "        vertical-align: top;\n",
              "    }\n",
              "\n",
              "    .dataframe thead th {\n",
              "        text-align: right;\n",
              "    }\n",
              "</style>\n",
              "<table border=\"1\" class=\"dataframe\">\n",
              "  <thead>\n",
              "    <tr style=\"text-align: right;\">\n",
              "      <th></th>\n",
              "      <th>count</th>\n",
              "      <th>mean</th>\n",
              "      <th>std</th>\n",
              "      <th>min</th>\n",
              "      <th>25%</th>\n",
              "      <th>50%</th>\n",
              "      <th>75%</th>\n",
              "      <th>max</th>\n",
              "    </tr>\n",
              "  </thead>\n",
              "  <tbody>\n",
              "    <tr>\n",
              "      <th>JmlhWrna</th>\n",
              "      <td>808.00</td>\n",
              "      <td>6.75</td>\n",
              "      <td>1.43</td>\n",
              "      <td>1.00</td>\n",
              "      <td>6.00</td>\n",
              "      <td>7.00</td>\n",
              "      <td>8.00</td>\n",
              "      <td>9.00</td>\n",
              "    </tr>\n",
              "    <tr>\n",
              "      <th>JnsCtk</th>\n",
              "      <td>808.00</td>\n",
              "      <td>1.09</td>\n",
              "      <td>0.28</td>\n",
              "      <td>1.00</td>\n",
              "      <td>1.00</td>\n",
              "      <td>1.00</td>\n",
              "      <td>1.00</td>\n",
              "      <td>2.00</td>\n",
              "    </tr>\n",
              "    <tr>\n",
              "      <th>Tebal (mic)</th>\n",
              "      <td>808.00</td>\n",
              "      <td>14.57</td>\n",
              "      <td>4.42</td>\n",
              "      <td>9.00</td>\n",
              "      <td>12.00</td>\n",
              "      <td>12.00</td>\n",
              "      <td>15.00</td>\n",
              "      <td>35.00</td>\n",
              "    </tr>\n",
              "    <tr>\n",
              "      <th>Lebar (mm)</th>\n",
              "      <td>808.00</td>\n",
              "      <td>997.83</td>\n",
              "      <td>123.91</td>\n",
              "      <td>650.00</td>\n",
              "      <td>930.00</td>\n",
              "      <td>990.00</td>\n",
              "      <td>1110.00</td>\n",
              "      <td>1270.00</td>\n",
              "    </tr>\n",
              "  </tbody>\n",
              "</table>\n",
              "</div>"
            ],
            "text/plain": [
              "             count   mean    std    min    25%    50%     75%     max\n",
              "JmlhWrna    808.00   6.75   1.43   1.00   6.00   7.00    8.00    9.00\n",
              "JnsCtk      808.00   1.09   0.28   1.00   1.00   1.00    1.00    2.00\n",
              "Tebal (mic) 808.00  14.57   4.42   9.00  12.00  12.00   15.00   35.00\n",
              "Lebar (mm)  808.00 997.83 123.91 650.00 930.00 990.00 1110.00 1270.00"
            ]
          },
          "metadata": {},
          "execution_count": 39
        }
      ]
    },
    {
      "cell_type": "code",
      "metadata": {
        "colab": {
          "base_uri": "https://localhost:8080/",
          "height": 724
        },
        "id": "ye2IphidZP2F",
        "outputId": "54526064-ed5e-4575-cdfd-aad72bc92142"
      },
      "source": [
        "plt.figure(figsize=(25, 15))\n",
        "\n",
        "for i, column in enumerate(cat_df, 1):\n",
        "    plt.subplot(2, 3, i)\n",
        "    fn_df[fn_df[\"JnsBhn\"] == 0][column].hist(bins=48, color='r', label='Most NO = 0', alpha=0.8)\n",
        "    fn_df[fn_df[\"JnsBhn\"] == 1][column].hist(bins=48, color='g', label='Most YES = 1', alpha=0.8)\n",
        "    plt.legend()\n",
        "    plt.xlabel(column)"
      ],
      "execution_count": 36,
      "outputs": [
        {
          "output_type": "display_data",
          "data": {
            "image/png": "[encoded data removed]",
            "text/plain": [
              "<Figure size 1800x1080 with 6 Axes>"
            ]
          },
          "metadata": {}
        }
      ]
    },
    {
      "cell_type": "code",
      "metadata": {
        "colab": {
          "base_uri": "https://localhost:8080/"
        },
        "id": "gNVuoU8RaTMr",
        "outputId": "671aaf9a-912b-4642-b572-f3006c696d4c"
      },
      "source": [
        "fn_df.info()"
      ],
      "execution_count": 20,
      "outputs": [
        {
          "output_type": "stream",
          "name": "stdout",
          "text": [
            "<class 'pandas.core.frame.DataFrame'>\n",
            "RangeIndex: 808 entries, 0 to 807\n",
            "Data columns (total 6 columns):\n",
            " #   Column       Non-Null Count  Dtype  \n",
            "---  ------       --------------  -----  \n",
            " 0   Artikel      808 non-null    object \n",
            " 1   JmlhWrna     808 non-null    int64  \n",
            " 2   JnsCtk       808 non-null    int64  \n",
            " 3   JnsBhn       808 non-null    object \n",
            " 4   Tebal (mic)  808 non-null    float64\n",
            " 5   Lebar (mm)   808 non-null    float64\n",
            "dtypes: float64(2), int64(2), object(2)\n",
            "memory usage: 38.0+ KB\n"
          ]
        }
      ]
    },
    {
      "cell_type": "code",
      "metadata": {
        "colab": {
          "base_uri": "https://localhost:8080/"
        },
        "id": "ozRWrwcJadeE",
        "outputId": "6d61a63a-8931-494c-a52b-90d33fea4be5"
      },
      "source": [
        "# Machine Learning Algorithms : Test Model/Total Rows data set  6000/11152 = 0.537971846140052\n",
        "#fn_df = fn_df.dropna(axis=0, how='any', thresh=None, subset=None, inplace=False)\n",
        "\n",
        "dummy_col = [column for column in fn_df.drop('JnsBhn', axis=1).columns if fn_df[column].nunique()]\n",
        "\n",
        "winteam = pd.get_dummies(fn_df, columns=dummy_col, drop_first=False, dtype='uint8')\n",
        "winteam.info()"
      ],
      "execution_count": 21,
      "outputs": [
        {
          "output_type": "stream",
          "name": "stdout",
          "text": [
            "<class 'pandas.core.frame.DataFrame'>\n",
            "RangeIndex: 808 entries, 0 to 807\n",
            "Columns: 890 entries, JnsBhn to Lebar (mm)_1270.0\n",
            "dtypes: object(1), uint8(889)\n",
            "memory usage: 707.9+ KB\n"
          ]
        }
      ]
    },
    {
      "cell_type": "code",
      "metadata": {
        "colab": {
          "base_uri": "https://localhost:8080/"
        },
        "id": "bpaTxh-Mahm4",
        "outputId": "f76118ce-9eda-4c53-f099-b4fb6d992c97"
      },
      "source": [
        "print(winteam.shape)\n",
        "\n",
        "# Remove duplicate Features\n",
        "winteam = winteam.T.drop_duplicates()\n",
        "winteam = winteam.T\n",
        "\n",
        "# Remove Duplicate Rows\n",
        "winteam.drop_duplicates(inplace=True)\n",
        "\n",
        "print(winteam.shape)"
      ],
      "execution_count": 22,
      "outputs": [
        {
          "output_type": "stream",
          "name": "stdout",
          "text": [
            "(808, 890)\n",
            "(808, 886)\n"
          ]
        }
      ]
    },
    {
      "cell_type": "code",
      "metadata": {
        "colab": {
          "base_uri": "https://localhost:8080/"
        },
        "id": "eGCd6bQCapRB",
        "outputId": "6cc41f9c-f8ec-465f-8ec3-2872dc787fb2"
      },
      "source": [
        "# Korelasi terkuat antar variabel dimuali dari 10 % untuk mencapai \"BEST PERFORMANCE\"\n",
        "\n",
        "feature_correlation = winteam.drop('JnsBhn', axis=1).corrwith(winteam.JnsBhn).sort_values()\n",
        "model_col = feature_correlation[np.abs(feature_correlation) > 0.009].index\n",
        "len(model_col)"
      ],
      "execution_count": 23,
      "outputs": [
        {
          "output_type": "execute_result",
          "data": {
            "text/plain": [
              "0"
            ]
          },
          "metadata": {},
          "execution_count": 23
        }
      ]
    },
    {
      "cell_type": "code",
      "metadata": {
        "id": "ayCs1YfratCZ"
      },
      "source": [
        "# Splitting data to training and testing\n",
        "from sklearn.compose import make_column_transformer\n",
        "from sklearn.model_selection import train_test_split\n",
        "from sklearn.preprocessing import StandardScaler\n",
        "from sklearn import metrics\n",
        "from sklearn.metrics import accuracy_score\n",
        "from sklearn.linear_model import LinearRegression\n",
        "from sklearn.pipeline import make_pipeline\n",
        "from sklearn.model_selection import cross_val_score\n",
        "\n",
        "X = winteam.drop('JnsBhn', axis=1)\n",
        "y = winteam.JnsBhn\n",
        "\n",
        "# Data which use to \"Training\"  80 % and \"Testing \"  20 % (0.214) from cat_df dataset\n",
        "\n",
        "X_train, X_test, y_train, y_test = train_test_split(X, y, test_size=0.537971846140052, random_state=42)"
      ],
      "execution_count": 24,
      "outputs": []
    },
    {
      "cell_type": "code",
      "metadata": {
        "id": "Jc7WMu0ubEDp"
      },
      "source": [
        "# Deep Learning Metode ARTIFICIAL NEURAL NETWORKS\n",
        "\n",
        "scaler = StandardScaler()\n",
        "X_train = scaler.fit_transform(X_train)\n",
        "X_test = scaler.transform(X_test)\n",
        "X = scaler.transform(X)"
      ],
      "execution_count": 25,
      "outputs": []
    },
    {
      "cell_type": "code",
      "metadata": {
        "id": "veY5MVmhbFOI"
      },
      "source": [
        "# index = feature, Best Performance = importance\n",
        "def feature_best_performance(tr_df, model):\n",
        "\n",
        "    fi = pd.DataFrame()\n",
        "    fi[\"index\"] = winteam.columns\n",
        "    fi[\"JnsBhn\"] = model.feature_importances_\n",
        "    return fi.sort_values(by=\"JnsBhn\", ascending=False)"
      ],
      "execution_count": 26,
      "outputs": []
    },
    {
      "cell_type": "code",
      "metadata": {
        "id": "ndm9-vQtbFMx"
      },
      "source": [
        "# Create Prediction Score, value of corelation is 39\n",
        "\n",
        "from sklearn.metrics import accuracy_score, confusion_matrix, precision_score, recall_score, f1_score\n",
        "from sklearn.model_selection import cross_val_predict, cross_val_score \n",
        "from sklearn.metrics import accuracy_score, classification_report \n",
        "from sklearn.metrics import confusion_matrix \n",
        "\n",
        "def cetak_ann(label, prediction, train=True):\n",
        "    if train:\n",
        "        print(\"Train Result :\\n====================winteam===========================\")\n",
        "        print(f\"\\t\\t\\tAccuracy Score      : {accuracy_score(label, prediction) *100:.2f}%\")\n",
        "        print(\"Train Matrix :\\n_____________________________________________________________________\")\n",
        "        print(f\"Confusion Matrix : \\n {confusion_matrix(y_train,prediction)}\\n\")\n",
        "        \n",
        "    elif train==False:\n",
        "        print(\"Test Result:\\n====================winteam=============================\")        \n",
        "        print(f\"\\t\\t\\tAccuracy Score      : {accuracy_score(label, prediction) *100:.2f}%\")\n",
        "        print(\"Test Matrix :\\n________________________________________________________________________\")\n",
        "        print(f\"Confusion Matrix : \\n {confusion_matrix(label, prediction)}\\n\")"
      ],
      "execution_count": 27,
      "outputs": []
    },
    {
      "cell_type": "code",
      "metadata": {
        "colab": {
          "base_uri": "https://localhost:8080/",
          "height": 197
        },
        "id": "t_DHkdxFerX7",
        "outputId": "2433421f-c296-48a4-d1ad-1c9fa733a43d"
      },
      "source": [
        "## Deep Learning model\n",
        "import tensorflow as tf\n",
        "from tensorflow import keras\n",
        "from tensorflow.keras import layers\n",
        "from tensorflow.keras.models import Sequential\n",
        "from tensorflow.keras.layers import Dense, Dropout\n",
        "\n",
        "# define the keras model\n",
        "model = Sequential()\n",
        "\n",
        "model.add(Dense(X_train.shape[1],  activation='relu'))\n",
        "model.add(Dense(16, activation='relu'))\n",
        "model.add(Dense(12, activation='relu'))\n",
        "model.add(Dense(8, activation='relu'))\n",
        "model.add(Dense(1, activation='sigmoid'))\n",
        "\n",
        "# compile the keras model\n",
        "model.compile(loss='binary_crossentropy', optimizer='adam', metrics=['accuracy'])\n",
        "\n",
        "# fit the keras model on the dataset\n",
        "ann = model.fit(X_datasup, y_datasup, validation_data=(X_data_produk, y_data_produk), epochs=40, batch_size=10)"
      ],
      "execution_count": 43,
      "outputs": [
        {
          "output_type": "error",
          "ename": "NameError",
          "evalue": "ignored",
          "traceback": [
            "\u001b[0;31m---------------------------------------------------------------------------\u001b[0m",
            "\u001b[0;31mNameError\u001b[0m                                 Traceback (most recent call last)",
            "\u001b[0;32m<ipython-input-43-c95473676a51>\u001b[0m in \u001b[0;36m<module>\u001b[0;34m()\u001b[0m\n\u001b[1;32m     19\u001b[0m \u001b[0;34m\u001b[0m\u001b[0m\n\u001b[1;32m     20\u001b[0m \u001b[0;31m# fit the keras model on the dataset\u001b[0m\u001b[0;34m\u001b[0m\u001b[0;34m\u001b[0m\u001b[0;34m\u001b[0m\u001b[0m\n\u001b[0;32m---> 21\u001b[0;31m \u001b[0mann\u001b[0m \u001b[0;34m=\u001b[0m \u001b[0mmodel\u001b[0m\u001b[0;34m.\u001b[0m\u001b[0mfit\u001b[0m\u001b[0;34m(\u001b[0m\u001b[0mX_datasup\u001b[0m\u001b[0;34m,\u001b[0m \u001b[0my_datasup\u001b[0m\u001b[0;34m,\u001b[0m \u001b[0mvalidation_data\u001b[0m\u001b[0;34m=\u001b[0m\u001b[0;34m(\u001b[0m\u001b[0mX_data_produk\u001b[0m\u001b[0;34m,\u001b[0m \u001b[0my_data_produk\u001b[0m\u001b[0;34m)\u001b[0m\u001b[0;34m,\u001b[0m \u001b[0mepochs\u001b[0m\u001b[0;34m=\u001b[0m\u001b[0;36m40\u001b[0m\u001b[0;34m,\u001b[0m \u001b[0mbatch_size\u001b[0m\u001b[0;34m=\u001b[0m\u001b[0;36m10\u001b[0m\u001b[0;34m)\u001b[0m\u001b[0;34m\u001b[0m\u001b[0;34m\u001b[0m\u001b[0m\n\u001b[0m",
            "\u001b[0;31mNameError\u001b[0m: name 'X_datasup' is not defined"
          ]
        }
      ]
    },
    {
      "cell_type": "code",
      "metadata": {
        "colab": {
          "base_uri": "https://localhost:8080/",
          "height": 408
        },
        "id": "Sc6ewA50exDn",
        "outputId": "cb12bd10-f4f5-4484-b38b-6a3a89a62a83"
      },
      "source": [
        "# evaluate the keras model\n",
        "_, accuracy = model.evaluate(X_test, y_test)\n",
        "print('Accuracy: %.2f' % (accuracy*100))"
      ],
      "execution_count": null,
      "outputs": [
        {
          "output_type": "error",
          "ename": "UnimplementedError",
          "evalue": "ignored",
          "traceback": [
            "\u001b[0;31m---------------------------------------------------------------------------\u001b[0m",
            "\u001b[0;31mUnimplementedError\u001b[0m                        Traceback (most recent call last)",
            "\u001b[0;32m<ipython-input-58-69d73f829993>\u001b[0m in \u001b[0;36m<module>\u001b[0;34m()\u001b[0m\n\u001b[1;32m      1\u001b[0m \u001b[0;31m# evaluate the keras model\u001b[0m\u001b[0;34m\u001b[0m\u001b[0;34m\u001b[0m\u001b[0;34m\u001b[0m\u001b[0m\n\u001b[0;32m----> 2\u001b[0;31m \u001b[0m_\u001b[0m\u001b[0;34m,\u001b[0m \u001b[0maccuracy\u001b[0m \u001b[0;34m=\u001b[0m \u001b[0mmodel\u001b[0m\u001b[0;34m.\u001b[0m\u001b[0mevaluate\u001b[0m\u001b[0;34m(\u001b[0m\u001b[0mX_test\u001b[0m\u001b[0;34m,\u001b[0m \u001b[0my_test\u001b[0m\u001b[0;34m)\u001b[0m\u001b[0;34m\u001b[0m\u001b[0;34m\u001b[0m\u001b[0m\n\u001b[0m\u001b[1;32m      3\u001b[0m \u001b[0mprint\u001b[0m\u001b[0;34m(\u001b[0m\u001b[0;34m'Accuracy: %.2f'\u001b[0m \u001b[0;34m%\u001b[0m \u001b[0;34m(\u001b[0m\u001b[0maccuracy\u001b[0m\u001b[0;34m*\u001b[0m\u001b[0;36m100\u001b[0m\u001b[0;34m)\u001b[0m\u001b[0;34m)\u001b[0m\u001b[0;34m\u001b[0m\u001b[0;34m\u001b[0m\u001b[0m\n",
            "\u001b[0;32m/usr/local/lib/python3.7/dist-packages/keras/engine/training.py\u001b[0m in \u001b[0;36mevaluate\u001b[0;34m(self, x, y, batch_size, verbose, sample_weight, steps, callbacks, max_queue_size, workers, use_multiprocessing, return_dict, **kwargs)\u001b[0m\n\u001b[1;32m   1499\u001b[0m             \u001b[0;32mwith\u001b[0m \u001b[0mtf\u001b[0m\u001b[0;34m.\u001b[0m\u001b[0mprofiler\u001b[0m\u001b[0;34m.\u001b[0m\u001b[0mexperimental\u001b[0m\u001b[0;34m.\u001b[0m\u001b[0mTrace\u001b[0m\u001b[0;34m(\u001b[0m\u001b[0;34m'test'\u001b[0m\u001b[0;34m,\u001b[0m \u001b[0mstep_num\u001b[0m\u001b[0;34m=\u001b[0m\u001b[0mstep\u001b[0m\u001b[0;34m,\u001b[0m \u001b[0m_r\u001b[0m\u001b[0;34m=\u001b[0m\u001b[0;36m1\u001b[0m\u001b[0;34m)\u001b[0m\u001b[0;34m:\u001b[0m\u001b[0;34m\u001b[0m\u001b[0;34m\u001b[0m\u001b[0m\n\u001b[1;32m   1500\u001b[0m               \u001b[0mcallbacks\u001b[0m\u001b[0;34m.\u001b[0m\u001b[0mon_test_batch_begin\u001b[0m\u001b[0;34m(\u001b[0m\u001b[0mstep\u001b[0m\u001b[0;34m)\u001b[0m\u001b[0;34m\u001b[0m\u001b[0;34m\u001b[0m\u001b[0m\n\u001b[0;32m-> 1501\u001b[0;31m               \u001b[0mtmp_logs\u001b[0m \u001b[0;34m=\u001b[0m \u001b[0mself\u001b[0m\u001b[0;34m.\u001b[0m\u001b[0mtest_function\u001b[0m\u001b[0;34m(\u001b[0m\u001b[0miterator\u001b[0m\u001b[0;34m)\u001b[0m\u001b[0;34m\u001b[0m\u001b[0;34m\u001b[0m\u001b[0m\n\u001b[0m\u001b[1;32m   1502\u001b[0m               \u001b[0;32mif\u001b[0m \u001b[0mdata_handler\u001b[0m\u001b[0;34m.\u001b[0m\u001b[0mshould_sync\u001b[0m\u001b[0;34m:\u001b[0m\u001b[0;34m\u001b[0m\u001b[0;34m\u001b[0m\u001b[0m\n\u001b[1;32m   1503\u001b[0m                 \u001b[0mcontext\u001b[0m\u001b[0;34m.\u001b[0m\u001b[0masync_wait\u001b[0m\u001b[0;34m(\u001b[0m\u001b[0;34m)\u001b[0m\u001b[0;34m\u001b[0m\u001b[0;34m\u001b[0m\u001b[0m\n",
            "\u001b[0;32m/usr/local/lib/python3.7/dist-packages/tensorflow/python/eager/def_function.py\u001b[0m in \u001b[0;36m__call__\u001b[0;34m(self, *args, **kwds)\u001b[0m\n\u001b[1;32m    883\u001b[0m \u001b[0;34m\u001b[0m\u001b[0m\n\u001b[1;32m    884\u001b[0m       \u001b[0;32mwith\u001b[0m \u001b[0mOptionalXlaContext\u001b[0m\u001b[0;34m(\u001b[0m\u001b[0mself\u001b[0m\u001b[0;34m.\u001b[0m\u001b[0m_jit_compile\u001b[0m\u001b[0;34m)\u001b[0m\u001b[0;34m:\u001b[0m\u001b[0;34m\u001b[0m\u001b[0;34m\u001b[0m\u001b[0m\n\u001b[0;32m--> 885\u001b[0;31m         \u001b[0mresult\u001b[0m \u001b[0;34m=\u001b[0m \u001b[0mself\u001b[0m\u001b[0;34m.\u001b[0m\u001b[0m_call\u001b[0m\u001b[0;34m(\u001b[0m\u001b[0;34m*\u001b[0m\u001b[0margs\u001b[0m\u001b[0;34m,\u001b[0m \u001b[0;34m**\u001b[0m\u001b[0mkwds\u001b[0m\u001b[0;34m)\u001b[0m\u001b[0;34m\u001b[0m\u001b[0;34m\u001b[0m\u001b[0m\n\u001b[0m\u001b[1;32m    886\u001b[0m \u001b[0;34m\u001b[0m\u001b[0m\n\u001b[1;32m    887\u001b[0m       \u001b[0mnew_tracing_count\u001b[0m \u001b[0;34m=\u001b[0m \u001b[0mself\u001b[0m\u001b[0;34m.\u001b[0m\u001b[0mexperimental_get_tracing_count\u001b[0m\u001b[0;34m(\u001b[0m\u001b[0;34m)\u001b[0m\u001b[0;34m\u001b[0m\u001b[0;34m\u001b[0m\u001b[0m\n",
            "\u001b[0;32m/usr/local/lib/python3.7/dist-packages/tensorflow/python/eager/def_function.py\u001b[0m in \u001b[0;36m_call\u001b[0;34m(self, *args, **kwds)\u001b[0m\n\u001b[1;32m    948\u001b[0m         \u001b[0;31m# Lifting succeeded, so variables are initialized and we can run the\u001b[0m\u001b[0;34m\u001b[0m\u001b[0;34m\u001b[0m\u001b[0;34m\u001b[0m\u001b[0m\n\u001b[1;32m    949\u001b[0m         \u001b[0;31m# stateless function.\u001b[0m\u001b[0;34m\u001b[0m\u001b[0;34m\u001b[0m\u001b[0;34m\u001b[0m\u001b[0m\n\u001b[0;32m--> 950\u001b[0;31m         \u001b[0;32mreturn\u001b[0m \u001b[0mself\u001b[0m\u001b[0;34m.\u001b[0m\u001b[0m_stateless_fn\u001b[0m\u001b[0;34m(\u001b[0m\u001b[0;34m*\u001b[0m\u001b[0margs\u001b[0m\u001b[0;34m,\u001b[0m \u001b[0;34m**\u001b[0m\u001b[0mkwds\u001b[0m\u001b[0;34m)\u001b[0m\u001b[0;34m\u001b[0m\u001b[0;34m\u001b[0m\u001b[0m\n\u001b[0m\u001b[1;32m    951\u001b[0m     \u001b[0;32melse\u001b[0m\u001b[0;34m:\u001b[0m\u001b[0;34m\u001b[0m\u001b[0;34m\u001b[0m\u001b[0m\n\u001b[1;32m    952\u001b[0m       \u001b[0m_\u001b[0m\u001b[0;34m,\u001b[0m \u001b[0m_\u001b[0m\u001b[0;34m,\u001b[0m \u001b[0m_\u001b[0m\u001b[0;34m,\u001b[0m \u001b[0mfiltered_flat_args\u001b[0m \u001b[0;34m=\u001b[0m\u001b[0;31m \u001b[0m\u001b[0;31m\\\u001b[0m\u001b[0;34m\u001b[0m\u001b[0;34m\u001b[0m\u001b[0m\n",
            "\u001b[0;32m/usr/local/lib/python3.7/dist-packages/tensorflow/python/eager/function.py\u001b[0m in \u001b[0;36m__call__\u001b[0;34m(self, *args, **kwargs)\u001b[0m\n\u001b[1;32m   3038\u001b[0m        filtered_flat_args) = self._maybe_define_function(args, kwargs)\n\u001b[1;32m   3039\u001b[0m     return graph_function._call_flat(\n\u001b[0;32m-> 3040\u001b[0;31m         filtered_flat_args, captured_inputs=graph_function.captured_inputs)  # pylint: disable=protected-access\n\u001b[0m\u001b[1;32m   3041\u001b[0m \u001b[0;34m\u001b[0m\u001b[0m\n\u001b[1;32m   3042\u001b[0m   \u001b[0;34m@\u001b[0m\u001b[0mproperty\u001b[0m\u001b[0;34m\u001b[0m\u001b[0;34m\u001b[0m\u001b[0m\n",
            "\u001b[0;32m/usr/local/lib/python3.7/dist-packages/tensorflow/python/eager/function.py\u001b[0m in \u001b[0;36m_call_flat\u001b[0;34m(self, args, captured_inputs, cancellation_manager)\u001b[0m\n\u001b[1;32m   1962\u001b[0m       \u001b[0;31m# No tape is watching; skip to running the function.\u001b[0m\u001b[0;34m\u001b[0m\u001b[0;34m\u001b[0m\u001b[0;34m\u001b[0m\u001b[0m\n\u001b[1;32m   1963\u001b[0m       return self._build_call_outputs(self._inference_function.call(\n\u001b[0;32m-> 1964\u001b[0;31m           ctx, args, cancellation_manager=cancellation_manager))\n\u001b[0m\u001b[1;32m   1965\u001b[0m     forward_backward = self._select_forward_and_backward_functions(\n\u001b[1;32m   1966\u001b[0m         \u001b[0margs\u001b[0m\u001b[0;34m,\u001b[0m\u001b[0;34m\u001b[0m\u001b[0;34m\u001b[0m\u001b[0m\n",
            "\u001b[0;32m/usr/local/lib/python3.7/dist-packages/tensorflow/python/eager/function.py\u001b[0m in \u001b[0;36mcall\u001b[0;34m(self, ctx, args, cancellation_manager)\u001b[0m\n\u001b[1;32m    594\u001b[0m               \u001b[0minputs\u001b[0m\u001b[0;34m=\u001b[0m\u001b[0margs\u001b[0m\u001b[0;34m,\u001b[0m\u001b[0;34m\u001b[0m\u001b[0;34m\u001b[0m\u001b[0m\n\u001b[1;32m    595\u001b[0m               \u001b[0mattrs\u001b[0m\u001b[0;34m=\u001b[0m\u001b[0mattrs\u001b[0m\u001b[0;34m,\u001b[0m\u001b[0;34m\u001b[0m\u001b[0;34m\u001b[0m\u001b[0m\n\u001b[0;32m--> 596\u001b[0;31m               ctx=ctx)\n\u001b[0m\u001b[1;32m    597\u001b[0m         \u001b[0;32melse\u001b[0m\u001b[0;34m:\u001b[0m\u001b[0;34m\u001b[0m\u001b[0;34m\u001b[0m\u001b[0m\n\u001b[1;32m    598\u001b[0m           outputs = execute.execute_with_cancellation(\n",
            "\u001b[0;32m/usr/local/lib/python3.7/dist-packages/tensorflow/python/eager/execute.py\u001b[0m in \u001b[0;36mquick_execute\u001b[0;34m(op_name, num_outputs, inputs, attrs, ctx, name)\u001b[0m\n\u001b[1;32m     58\u001b[0m     \u001b[0mctx\u001b[0m\u001b[0;34m.\u001b[0m\u001b[0mensure_initialized\u001b[0m\u001b[0;34m(\u001b[0m\u001b[0;34m)\u001b[0m\u001b[0;34m\u001b[0m\u001b[0;34m\u001b[0m\u001b[0m\n\u001b[1;32m     59\u001b[0m     tensors = pywrap_tfe.TFE_Py_Execute(ctx._handle, device_name, op_name,\n\u001b[0;32m---> 60\u001b[0;31m                                         inputs, attrs, num_outputs)\n\u001b[0m\u001b[1;32m     61\u001b[0m   \u001b[0;32mexcept\u001b[0m \u001b[0mcore\u001b[0m\u001b[0;34m.\u001b[0m\u001b[0m_NotOkStatusException\u001b[0m \u001b[0;32mas\u001b[0m \u001b[0me\u001b[0m\u001b[0;34m:\u001b[0m\u001b[0;34m\u001b[0m\u001b[0;34m\u001b[0m\u001b[0m\n\u001b[1;32m     62\u001b[0m     \u001b[0;32mif\u001b[0m \u001b[0mname\u001b[0m \u001b[0;32mis\u001b[0m \u001b[0;32mnot\u001b[0m \u001b[0;32mNone\u001b[0m\u001b[0;34m:\u001b[0m\u001b[0;34m\u001b[0m\u001b[0;34m\u001b[0m\u001b[0m\n",
            "\u001b[0;31mUnimplementedError\u001b[0m:  Cast string to float is not supported\n\t [[node binary_crossentropy/Cast (defined at <ipython-input-58-69d73f829993>:2) ]] [Op:__inference_test_function_1821]\n\nFunction call stack:\ntest_function\n"
          ]
        }
      ]
    },
    {
      "cell_type": "code",
      "metadata": {
        "colab": {
          "base_uri": "https://localhost:8080/",
          "height": 299
        },
        "id": "v3oKkeaVe2o-",
        "outputId": "42083926-adb7-47b7-c50c-f3a2b99586ff"
      },
      "source": [
        "model.summary()"
      ],
      "execution_count": null,
      "outputs": [
        {
          "output_type": "error",
          "ename": "ValueError",
          "evalue": "ignored",
          "traceback": [
            "\u001b[0;31m---------------------------------------------------------------------------\u001b[0m",
            "\u001b[0;31mValueError\u001b[0m                                Traceback (most recent call last)",
            "\u001b[0;32m<ipython-input-61-5f15418b3570>\u001b[0m in \u001b[0;36m<module>\u001b[0;34m()\u001b[0m\n\u001b[0;32m----> 1\u001b[0;31m \u001b[0mmodel\u001b[0m\u001b[0;34m.\u001b[0m\u001b[0msummary\u001b[0m\u001b[0;34m(\u001b[0m\u001b[0;34m)\u001b[0m\u001b[0;34m\u001b[0m\u001b[0;34m\u001b[0m\u001b[0m\n\u001b[0m",
            "\u001b[0;32m/usr/local/lib/python3.7/dist-packages/keras/engine/training.py\u001b[0m in \u001b[0;36msummary\u001b[0;34m(self, line_length, positions, print_fn)\u001b[0m\n\u001b[1;32m   2519\u001b[0m     \"\"\"\n\u001b[1;32m   2520\u001b[0m     \u001b[0;32mif\u001b[0m \u001b[0;32mnot\u001b[0m \u001b[0mself\u001b[0m\u001b[0;34m.\u001b[0m\u001b[0mbuilt\u001b[0m\u001b[0;34m:\u001b[0m\u001b[0;34m\u001b[0m\u001b[0;34m\u001b[0m\u001b[0m\n\u001b[0;32m-> 2521\u001b[0;31m       raise ValueError('This model has not yet been built. '\n\u001b[0m\u001b[1;32m   2522\u001b[0m                        \u001b[0;34m'Build the model first by calling `build()` or calling '\u001b[0m\u001b[0;34m\u001b[0m\u001b[0;34m\u001b[0m\u001b[0m\n\u001b[1;32m   2523\u001b[0m                        \u001b[0;34m'`fit()` with some data, or specify '\u001b[0m\u001b[0;34m\u001b[0m\u001b[0;34m\u001b[0m\u001b[0m\n",
            "\u001b[0;31mValueError\u001b[0m: This model has not yet been built. Build the model first by calling `build()` or calling `fit()` with some data, or specify an `input_shape` argument in the first layer(s) for automatic build."
          ]
        }
      ]
    },
    {
      "cell_type": "code",
      "metadata": {
        "colab": {
          "base_uri": "https://localhost:8080/",
          "height": 734
        },
        "id": "p9merGJAe4-F",
        "outputId": "e1b3b59a-f9bc-472e-8e23-727ceebf7298"
      },
      "source": [
        "plt.figure(figsize=(20, 8))\n",
        "\n",
        "plt.subplot(1, 2, 1)\n",
        "plt.plot(ann.history['loss'], label='Loss')\n",
        "plt.plot(ann.history['val_loss'], label='Value Loss')\n",
        "plt.legend()\n",
        "\n",
        "plt.subplot(1, 2, 2)\n",
        "plt.plot(ann.history['accuracy'], label='Accuracy')\n",
        "plt.plot(ann.history['val_accuracy'], label='Value Accuracy')\n",
        "plt.legend()"
      ],
      "execution_count": null,
      "outputs": [
        {
          "output_type": "error",
          "ename": "NameError",
          "evalue": "ignored",
          "traceback": [
            "\u001b[0;31m---------------------------------------------------------------------------\u001b[0m",
            "\u001b[0;31mNameError\u001b[0m                                 Traceback (most recent call last)",
            "\u001b[0;32m<ipython-input-71-ee76cbbbdfca>\u001b[0m in \u001b[0;36m<module>\u001b[0;34m()\u001b[0m\n\u001b[1;32m      2\u001b[0m \u001b[0;34m\u001b[0m\u001b[0m\n\u001b[1;32m      3\u001b[0m \u001b[0mplt\u001b[0m\u001b[0;34m.\u001b[0m\u001b[0msubplot\u001b[0m\u001b[0;34m(\u001b[0m\u001b[0;36m1\u001b[0m\u001b[0;34m,\u001b[0m \u001b[0;36m2\u001b[0m\u001b[0;34m,\u001b[0m \u001b[0;36m1\u001b[0m\u001b[0;34m)\u001b[0m\u001b[0;34m\u001b[0m\u001b[0;34m\u001b[0m\u001b[0m\n\u001b[0;32m----> 4\u001b[0;31m \u001b[0mplt\u001b[0m\u001b[0;34m.\u001b[0m\u001b[0mplot\u001b[0m\u001b[0;34m(\u001b[0m\u001b[0mann\u001b[0m\u001b[0;34m.\u001b[0m\u001b[0mhistory\u001b[0m\u001b[0;34m[\u001b[0m\u001b[0;34m'loss'\u001b[0m\u001b[0;34m]\u001b[0m\u001b[0;34m,\u001b[0m \u001b[0mlabel\u001b[0m\u001b[0;34m=\u001b[0m\u001b[0;34m'Loss'\u001b[0m\u001b[0;34m)\u001b[0m\u001b[0;34m\u001b[0m\u001b[0;34m\u001b[0m\u001b[0m\n\u001b[0m\u001b[1;32m      5\u001b[0m \u001b[0mplt\u001b[0m\u001b[0;34m.\u001b[0m\u001b[0mplot\u001b[0m\u001b[0;34m(\u001b[0m\u001b[0mann\u001b[0m\u001b[0;34m.\u001b[0m\u001b[0mhistory\u001b[0m\u001b[0;34m[\u001b[0m\u001b[0;34m'val_loss'\u001b[0m\u001b[0;34m]\u001b[0m\u001b[0;34m,\u001b[0m \u001b[0mlabel\u001b[0m\u001b[0;34m=\u001b[0m\u001b[0;34m'Value Loss'\u001b[0m\u001b[0;34m)\u001b[0m\u001b[0;34m\u001b[0m\u001b[0;34m\u001b[0m\u001b[0m\n\u001b[1;32m      6\u001b[0m \u001b[0mplt\u001b[0m\u001b[0;34m.\u001b[0m\u001b[0mlegend\u001b[0m\u001b[0;34m(\u001b[0m\u001b[0;34m)\u001b[0m\u001b[0;34m\u001b[0m\u001b[0;34m\u001b[0m\u001b[0m\n",
            "\u001b[0;31mNameError\u001b[0m: name 'ann' is not defined"
          ]
        },
        {
          "output_type": "display_data",
          "data": {
            "image/png": "[encoded data removed]",
            "text/plain": [
              "<Figure size 1440x576 with 1 Axes>"
            ]
          },
          "metadata": {}
        }
      ]
    },
    {
      "cell_type": "code",
      "metadata": {
        "colab": {
          "base_uri": "https://localhost:8080/",
          "height": 442
        },
        "id": "WwOK_-pwfgcp",
        "outputId": "e87234d6-f9a4-4c3b-92d9-a55c128c9921"
      },
      "source": [
        "ann_train_predict = model.predict(X_train)\n",
        "ann_test_predict = model.predict(X_test)\n",
        "\n",
        "cetak_ann(y_train, ann_train_predict.round(), train=True)\n",
        "cetak_ann(y_test, ann_test_predict.round(), train=False)"
      ],
      "execution_count": null,
      "outputs": [
        {
          "output_type": "stream",
          "name": "stdout",
          "text": [
            "Train Result :\n",
            "====================winteam===========================\n",
            "\t\t\tAccuracy Score      : 0.00%\n",
            "Train Matrix :\n",
            "_____________________________________________________________________\n"
          ]
        },
        {
          "output_type": "error",
          "ename": "ValueError",
          "evalue": "ignored",
          "traceback": [
            "\u001b[0;31m---------------------------------------------------------------------------\u001b[0m",
            "\u001b[0;31mValueError\u001b[0m                                Traceback (most recent call last)",
            "\u001b[0;32m<ipython-input-72-88916404604c>\u001b[0m in \u001b[0;36m<module>\u001b[0;34m()\u001b[0m\n\u001b[1;32m      2\u001b[0m \u001b[0mann_test_predict\u001b[0m \u001b[0;34m=\u001b[0m \u001b[0mmodel\u001b[0m\u001b[0;34m.\u001b[0m\u001b[0mpredict\u001b[0m\u001b[0;34m(\u001b[0m\u001b[0mX_test\u001b[0m\u001b[0;34m)\u001b[0m\u001b[0;34m\u001b[0m\u001b[0;34m\u001b[0m\u001b[0m\n\u001b[1;32m      3\u001b[0m \u001b[0;34m\u001b[0m\u001b[0m\n\u001b[0;32m----> 4\u001b[0;31m \u001b[0mcetak_ann\u001b[0m\u001b[0;34m(\u001b[0m\u001b[0my_train\u001b[0m\u001b[0;34m,\u001b[0m \u001b[0mann_train_predict\u001b[0m\u001b[0;34m.\u001b[0m\u001b[0mround\u001b[0m\u001b[0;34m(\u001b[0m\u001b[0;34m)\u001b[0m\u001b[0;34m,\u001b[0m \u001b[0mtrain\u001b[0m\u001b[0;34m=\u001b[0m\u001b[0;32mTrue\u001b[0m\u001b[0;34m)\u001b[0m\u001b[0;34m\u001b[0m\u001b[0;34m\u001b[0m\u001b[0m\n\u001b[0m\u001b[1;32m      5\u001b[0m \u001b[0mcetak_ann\u001b[0m\u001b[0;34m(\u001b[0m\u001b[0my_test\u001b[0m\u001b[0;34m,\u001b[0m \u001b[0mann_test_predict\u001b[0m\u001b[0;34m.\u001b[0m\u001b[0mround\u001b[0m\u001b[0;34m(\u001b[0m\u001b[0;34m)\u001b[0m\u001b[0;34m,\u001b[0m \u001b[0mtrain\u001b[0m\u001b[0;34m=\u001b[0m\u001b[0;32mFalse\u001b[0m\u001b[0;34m)\u001b[0m\u001b[0;34m\u001b[0m\u001b[0;34m\u001b[0m\u001b[0m\n",
            "\u001b[0;32m<ipython-input-47-2847199d7efe>\u001b[0m in \u001b[0;36mcetak_ann\u001b[0;34m(label, prediction, train)\u001b[0m\n\u001b[1;32m     11\u001b[0m         \u001b[0mprint\u001b[0m\u001b[0;34m(\u001b[0m\u001b[0;34mf\"\\t\\t\\tAccuracy Score      : {accuracy_score(label, prediction) *100:.2f}%\"\u001b[0m\u001b[0;34m)\u001b[0m\u001b[0;34m\u001b[0m\u001b[0;34m\u001b[0m\u001b[0m\n\u001b[1;32m     12\u001b[0m         \u001b[0mprint\u001b[0m\u001b[0;34m(\u001b[0m\u001b[0;34m\"Train Matrix :\\n_____________________________________________________________________\"\u001b[0m\u001b[0;34m)\u001b[0m\u001b[0;34m\u001b[0m\u001b[0;34m\u001b[0m\u001b[0m\n\u001b[0;32m---> 13\u001b[0;31m         \u001b[0mprint\u001b[0m\u001b[0;34m(\u001b[0m\u001b[0;34mf\"Confusion Matrix : \\n {confusion_matrix(y_train,prediction)}\\n\"\u001b[0m\u001b[0;34m)\u001b[0m\u001b[0;34m\u001b[0m\u001b[0;34m\u001b[0m\u001b[0m\n\u001b[0m\u001b[1;32m     14\u001b[0m \u001b[0;34m\u001b[0m\u001b[0m\n\u001b[1;32m     15\u001b[0m     \u001b[0;32melif\u001b[0m \u001b[0mtrain\u001b[0m\u001b[0;34m==\u001b[0m\u001b[0;32mFalse\u001b[0m\u001b[0;34m:\u001b[0m\u001b[0;34m\u001b[0m\u001b[0;34m\u001b[0m\u001b[0m\n",
            "\u001b[0;32m/usr/local/lib/python3.7/dist-packages/sklearn/metrics/_classification.py\u001b[0m in \u001b[0;36mconfusion_matrix\u001b[0;34m(y_true, y_pred, labels, sample_weight, normalize)\u001b[0m\n\u001b[1;32m    271\u001b[0m \u001b[0;34m\u001b[0m\u001b[0m\n\u001b[1;32m    272\u001b[0m     \u001b[0;32mif\u001b[0m \u001b[0mlabels\u001b[0m \u001b[0;32mis\u001b[0m \u001b[0;32mNone\u001b[0m\u001b[0;34m:\u001b[0m\u001b[0;34m\u001b[0m\u001b[0;34m\u001b[0m\u001b[0m\n\u001b[0;32m--> 273\u001b[0;31m         \u001b[0mlabels\u001b[0m \u001b[0;34m=\u001b[0m \u001b[0munique_labels\u001b[0m\u001b[0;34m(\u001b[0m\u001b[0my_true\u001b[0m\u001b[0;34m,\u001b[0m \u001b[0my_pred\u001b[0m\u001b[0;34m)\u001b[0m\u001b[0;34m\u001b[0m\u001b[0;34m\u001b[0m\u001b[0m\n\u001b[0m\u001b[1;32m    274\u001b[0m     \u001b[0;32melse\u001b[0m\u001b[0;34m:\u001b[0m\u001b[0;34m\u001b[0m\u001b[0;34m\u001b[0m\u001b[0m\n\u001b[1;32m    275\u001b[0m         \u001b[0mlabels\u001b[0m \u001b[0;34m=\u001b[0m \u001b[0mnp\u001b[0m\u001b[0;34m.\u001b[0m\u001b[0masarray\u001b[0m\u001b[0;34m(\u001b[0m\u001b[0mlabels\u001b[0m\u001b[0;34m)\u001b[0m\u001b[0;34m\u001b[0m\u001b[0;34m\u001b[0m\u001b[0m\n",
            "\u001b[0;32m/usr/local/lib/python3.7/dist-packages/sklearn/utils/multiclass.py\u001b[0m in \u001b[0;36munique_labels\u001b[0;34m(*ys)\u001b[0m\n\u001b[1;32m     98\u001b[0m     \u001b[0;31m# Check that we don't mix string type with number type\u001b[0m\u001b[0;34m\u001b[0m\u001b[0;34m\u001b[0m\u001b[0;34m\u001b[0m\u001b[0m\n\u001b[1;32m     99\u001b[0m     \u001b[0;32mif\u001b[0m \u001b[0;34m(\u001b[0m\u001b[0mlen\u001b[0m\u001b[0;34m(\u001b[0m\u001b[0mset\u001b[0m\u001b[0;34m(\u001b[0m\u001b[0misinstance\u001b[0m\u001b[0;34m(\u001b[0m\u001b[0mlabel\u001b[0m\u001b[0;34m,\u001b[0m \u001b[0mstr\u001b[0m\u001b[0;34m)\u001b[0m \u001b[0;32mfor\u001b[0m \u001b[0mlabel\u001b[0m \u001b[0;32min\u001b[0m \u001b[0mys_labels\u001b[0m\u001b[0;34m)\u001b[0m\u001b[0;34m)\u001b[0m \u001b[0;34m>\u001b[0m \u001b[0;36m1\u001b[0m\u001b[0;34m)\u001b[0m\u001b[0;34m:\u001b[0m\u001b[0;34m\u001b[0m\u001b[0;34m\u001b[0m\u001b[0m\n\u001b[0;32m--> 100\u001b[0;31m         \u001b[0;32mraise\u001b[0m \u001b[0mValueError\u001b[0m\u001b[0;34m(\u001b[0m\u001b[0;34m\"Mix of label input types (string and number)\"\u001b[0m\u001b[0;34m)\u001b[0m\u001b[0;34m\u001b[0m\u001b[0;34m\u001b[0m\u001b[0m\n\u001b[0m\u001b[1;32m    101\u001b[0m \u001b[0;34m\u001b[0m\u001b[0m\n\u001b[1;32m    102\u001b[0m     \u001b[0;32mreturn\u001b[0m \u001b[0mnp\u001b[0m\u001b[0;34m.\u001b[0m\u001b[0marray\u001b[0m\u001b[0;34m(\u001b[0m\u001b[0msorted\u001b[0m\u001b[0;34m(\u001b[0m\u001b[0mys_labels\u001b[0m\u001b[0;34m)\u001b[0m\u001b[0;34m)\u001b[0m\u001b[0;34m\u001b[0m\u001b[0;34m\u001b[0m\u001b[0m\n",
            "\u001b[0;31mValueError\u001b[0m: Mix of label input types (string and number)"
          ]
        }
      ]
    },
    {
      "cell_type": "code",
      "metadata": {
        "id": "e4rMCvFGfhCr"
      },
      "source": [
        "from sklearn.metrics import roc_auc_score\n",
        "from sklearn.metrics import roc_curve\n",
        "\n",
        "ann_roc_auc = roc_auc_score(y_test, model.predict(X_test))\n",
        "fpr, tpr, thresholds = roc_curve(y_test, model.predict(X_test)[:,0])\n",
        "\n",
        "plt.figure(figsize=(10, 10))\n",
        "plt.plot(fpr, tpr, label='Artificial Neural Network (area = %0.5f)' % ann_roc_auc)\n",
        "plt.plot([0, 1], [0, 1],'r--')\n",
        "plt.xlim([0.0, 1.0])\n",
        "plt.ylim([0.0, 1.0])\n",
        "plt.xlabel('False Positive Rate')\n",
        "plt.ylabel('True Positive Rate')\n",
        "plt.title('ROC - Receiver Operating Characteristic')\n",
        "plt.legend(loc=\"lower right\")\n",
        "plt.savefig('ANN_ROC')\n",
        "plt.show()"
      ],
      "execution_count": null,
      "outputs": []
    },
    {
      "cell_type": "code",
      "metadata": {
        "id": "qEcxqElqfjdS"
      },
      "source": [
        "roc_auc_score(y_test, model.predict(X_test)) # Target upper 60 %"
      ],
      "execution_count": null,
      "outputs": []
    },
    {
      "cell_type": "code",
      "metadata": {
        "id": "Xk_9ZPygflyF"
      },
      "source": [
        "print(ann_test_predict[:,0])"
      ],
      "execution_count": null,
      "outputs": []
    },
    {
      "cell_type": "code",
      "metadata": {
        "id": "Moyegp2BfsPZ"
      },
      "source": [
        "ann_test_predict.shape"
      ],
      "execution_count": null,
      "outputs": []
    },
    {
      "cell_type": "code",
      "metadata": {
        "id": "diEQerKDfuGg"
      },
      "source": [
        "#Saved the prediction result to \"submission.csv\"\n",
        "#kaggle competitions submit -c bri-data-hackathon-pa -f submission.csv -m \"Win Team MIT 20\"\n",
        "\n",
        "subm_df = pd.read_csv('https://decko048.github.io/dataset/sample_submission.csv')\n",
        "subm_df['Best Performance'] = ann_test_predict\n",
        "subm_df.to_csv('submission.csv', index=False)"
      ],
      "execution_count": null,
      "outputs": []
    }
  ]
}