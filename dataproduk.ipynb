{
  "nbformat": 4,
  "nbformat_minor": 0,
  "metadata": {
    "colab": {
      "name": "dataproduk.ipynb",
      "provenance": [],
      "authorship_tag": "ABX9TyPX6DaQA0Su3b31tQkWMTc4",
      "include_colab_link": true
    },
    "kernelspec": {
      "name": "python3",
      "display_name": "Python 3"
    },
    "language_info": {
      "name": "python"
    }
  },
  "cells": [
    {
      "cell_type": "markdown",
      "metadata": {
        "id": "view-in-github",
        "colab_type": "text"
      },
      "source": [
        "<a href=\"https://colab.research.google.com/github/rfdyning6/rfdyning6.github.io/blob/main/dataproduk.ipynb\" target=\"_parent\"><img src=\"https://colab.research.google.com/assets/colab-badge.svg\" alt=\"Open In Colab\"/></a>"
      ]
    },
    {
      "cell_type": "code",
      "metadata": {
        "colab": {
          "base_uri": "https://localhost:8080/"
        },
        "id": "ldeZ5mdQajOR",
        "outputId": "afbc6b91-9fea-4476-ef1f-81c3732dd185"
      },
      "source": [
        "!pip3 install pip --upgrade\n",
        "!pip install category_encoders"
      ],
      "execution_count": 2,
      "outputs": [
        {
          "output_type": "stream",
          "name": "stdout",
          "text": [
            "Requirement already satisfied: pip in /usr/local/lib/python3.7/dist-packages (21.3.1)\n",
            "\u001b[33mWARNING: Running pip as the 'root' user can result in broken permissions and conflicting behaviour with the system package manager. It is recommended to use a virtual environment instead: https://pip.pypa.io/warnings/venv\u001b[0m\n",
            "Requirement already satisfied: category_encoders in /usr/local/lib/python3.7/dist-packages (2.3.0)\n",
            "Requirement already satisfied: scikit-learn>=0.20.0 in /usr/local/lib/python3.7/dist-packages (from category_encoders) (0.22.2.post1)\n",
            "Requirement already satisfied: scipy>=1.0.0 in /usr/local/lib/python3.7/dist-packages (from category_encoders) (1.4.1)\n",
            "Requirement already satisfied: patsy>=0.5.1 in /usr/local/lib/python3.7/dist-packages (from category_encoders) (0.5.2)\n",
            "Requirement already satisfied: statsmodels>=0.9.0 in /usr/local/lib/python3.7/dist-packages (from category_encoders) (0.10.2)\n",
            "Requirement already satisfied: numpy>=1.14.0 in /usr/local/lib/python3.7/dist-packages (from category_encoders) (1.19.5)\n",
            "Requirement already satisfied: pandas>=0.21.1 in /usr/local/lib/python3.7/dist-packages (from category_encoders) (1.1.5)\n",
            "Requirement already satisfied: python-dateutil>=2.7.3 in /usr/local/lib/python3.7/dist-packages (from pandas>=0.21.1->category_encoders) (2.8.2)\n",
            "Requirement already satisfied: pytz>=2017.2 in /usr/local/lib/python3.7/dist-packages (from pandas>=0.21.1->category_encoders) (2018.9)\n",
            "Requirement already satisfied: six in /usr/local/lib/python3.7/dist-packages (from patsy>=0.5.1->category_encoders) (1.15.0)\n",
            "Requirement already satisfied: joblib>=0.11 in /usr/local/lib/python3.7/dist-packages (from scikit-learn>=0.20.0->category_encoders) (1.1.0)\n",
            "\u001b[33mWARNING: Running pip as the 'root' user can result in broken permissions and conflicting behaviour with the system package manager. It is recommended to use a virtual environment instead: https://pip.pypa.io/warnings/venv\u001b[0m\n"
          ]
        }
      ]
    },
    {
      "cell_type": "code",
      "metadata": {
        "id": "6028NSOYa9qV"
      },
      "source": [
        "import pandas as pd\n",
        "import numpy as np\n",
        "import matplotlib.pyplot as plt\n",
        "import seaborn as sns\n",
        "import warnings\n",
        "warnings.filterwarnings('ignore')\n",
        "\n",
        "from sklearn.preprocessing import OneHotEncoder as SklearnOneHotEncoder\n",
        "from matplotlib.ticker import StrMethodFormatter\n",
        "\n",
        "%matplotlib inline\n",
        "sns.set_style(\"whitegrid\")\n",
        "plt.style.use(\"fivethirtyeight\")\n",
        "\n",
        "pd.set_option(\"display.float_format\", \"{:.2f}\".format)\n",
        "pd.set_option(\"display.max_columns\", 88)\n",
        "pd.set_option(\"display.max_rows\", 88)"
      ],
      "execution_count": 3,
      "outputs": []
    },
    {
      "cell_type": "code",
      "metadata": {
        "colab": {
          "base_uri": "https://localhost:8080/",
          "height": 582
        },
        "id": "Ww7SOeajbCOY",
        "outputId": "b343a85e-fe2b-4265-9b1c-d128997f50fc"
      },
      "source": [
        "#New Update Data Set from BRI\n",
        "ds_df=pd.read_csv('https://decko048.github.io/dataset/data_sup.csv') \n",
        "dp_df=pd.read_csv('https://decko048.github.io/dataset/data_produk.csv')\n",
        "su_df=pd.read_csv('https://decko048.github.io/dataset/std_unwind.csv')\n",
        "sr_df=pd.read_csv('https://decko048.github.io/dataset/std_rewind.csv')\n",
        "\n",
        "print('Data SUP Shape :', ds_df.shape)\n",
        "print('Data Produk Shape :', dp_df.shape)\n",
        "print('Standard Unwind Shape :', su_df.shape)\n",
        "print('Standard Rewind Shape :', sr_df.shape)\n",
        "dp_df.head(15)"
      ],
      "execution_count": 4,
      "outputs": [
        {
          "output_type": "stream",
          "name": "stdout",
          "text": [
            "Data SUP Shape : (865, 3)\n",
            "Data Produk Shape : (808, 6)\n",
            "Standard Unwind Shape : (4, 6)\n",
            "Standard Rewind Shape : (4, 6)\n"
          ]
        },
        {
          "output_type": "execute_result",
          "data": {
            "text/html": [
              "<div>\n",
              "<style scoped>\n",
              "    .dataframe tbody tr th:only-of-type {\n",
              "        vertical-align: middle;\n",
              "    }\n",
              "\n",
              "    .dataframe tbody tr th {\n",
              "        vertical-align: top;\n",
              "    }\n",
              "\n",
              "    .dataframe thead th {\n",
              "        text-align: right;\n",
              "    }\n",
              "</style>\n",
              "<table border=\"1\" class=\"dataframe\">\n",
              "  <thead>\n",
              "    <tr style=\"text-align: right;\">\n",
              "      <th></th>\n",
              "      <th>Artikel</th>\n",
              "      <th>JmlhWrna</th>\n",
              "      <th>JnsCtk</th>\n",
              "      <th>JnsBhn</th>\n",
              "      <th>Tebal (mic)</th>\n",
              "      <th>Lebar (mm)</th>\n",
              "    </tr>\n",
              "  </thead>\n",
              "  <tbody>\n",
              "    <tr>\n",
              "      <th>0</th>\n",
              "      <td>DJARUM SUPER 12 EURO 2021                     ...</td>\n",
              "      <td>8</td>\n",
              "      <td>REVERSE</td>\n",
              "      <td>OPP</td>\n",
              "      <td>20</td>\n",
              "      <td>970</td>\n",
              "    </tr>\n",
              "    <tr>\n",
              "      <th>1</th>\n",
              "      <td>67930308 ROLL ROYCO SALTED EGG 22G MSPK NEW   ...</td>\n",
              "      <td>7</td>\n",
              "      <td>SURFACE</td>\n",
              "      <td>PET</td>\n",
              "      <td>12</td>\n",
              "      <td>1150</td>\n",
              "    </tr>\n",
              "    <tr>\n",
              "      <th>2</th>\n",
              "      <td>SWEETENED CONDENSED MILK TOPSAHO 30 GR AFRIKA ...</td>\n",
              "      <td>7</td>\n",
              "      <td>REVERSE</td>\n",
              "      <td>PET-G</td>\n",
              "      <td>12</td>\n",
              "      <td>1170</td>\n",
              "    </tr>\n",
              "    <tr>\n",
              "      <th>3</th>\n",
              "      <td>ROLL SWTR DIABTX 1020MM 87146-1304-602        ...</td>\n",
              "      <td>6</td>\n",
              "      <td>REVERSE</td>\n",
              "      <td>PET</td>\n",
              "      <td>12</td>\n",
              "      <td>1045</td>\n",
              "    </tr>\n",
              "    <tr>\n",
              "      <th>4</th>\n",
              "      <td>14011708/23010968-STP SKL W&amp;B 750ML HLL       ...</td>\n",
              "      <td>7</td>\n",
              "      <td>REVERSE</td>\n",
              "      <td>PET</td>\n",
              "      <td>12</td>\n",
              "      <td>1000</td>\n",
              "    </tr>\n",
              "    <tr>\n",
              "      <th>5</th>\n",
              "      <td>KTG SP 280 ALOEVERA PEACH NEW                 ...</td>\n",
              "      <td>7</td>\n",
              "      <td>REVERSE</td>\n",
              "      <td>NY-01</td>\n",
              "      <td>15</td>\n",
              "      <td>750</td>\n",
              "    </tr>\n",
              "    <tr>\n",
              "      <th>6</th>\n",
              "      <td>CAFFINO MOCCA 20GRX10 OUTERPOUCH E-KARIP NEW  ...</td>\n",
              "      <td>7</td>\n",
              "      <td>SURFACE</td>\n",
              "      <td>PET-G</td>\n",
              "      <td>12</td>\n",
              "      <td>1120</td>\n",
              "    </tr>\n",
              "    <tr>\n",
              "      <th>7</th>\n",
              "      <td>KUSUKA 60GR RASA BARBEQUE NEW                 ...</td>\n",
              "      <td>7</td>\n",
              "      <td>REVERSE</td>\n",
              "      <td>PET-G</td>\n",
              "      <td>12</td>\n",
              "      <td>1050</td>\n",
              "    </tr>\n",
              "    <tr>\n",
              "      <th>8</th>\n",
              "      <td>CAFFINO CHONUT 20GRX10 OUTERPOUCH E-KARIP NEW ...</td>\n",
              "      <td>8</td>\n",
              "      <td>SURFACE</td>\n",
              "      <td>PET-G</td>\n",
              "      <td>12</td>\n",
              "      <td>1120</td>\n",
              "    </tr>\n",
              "    <tr>\n",
              "      <th>9</th>\n",
              "      <td>MARIMAS MANGGA 7GR MLT MAY'23                 ...</td>\n",
              "      <td>8</td>\n",
              "      <td>REVERSE</td>\n",
              "      <td>PET</td>\n",
              "      <td>12</td>\n",
              "      <td>935</td>\n",
              "    </tr>\n",
              "    <tr>\n",
              "      <th>10</th>\n",
              "      <td>CAFFINO CHONUT 20GR E-KARIP NEW               ...</td>\n",
              "      <td>8</td>\n",
              "      <td>SURFACE</td>\n",
              "      <td>PET-G</td>\n",
              "      <td>12</td>\n",
              "      <td>1120</td>\n",
              "    </tr>\n",
              "    <tr>\n",
              "      <th>11</th>\n",
              "      <td>EDO PIZZA BASE 120G (ND2019-0313096)          ...</td>\n",
              "      <td>7</td>\n",
              "      <td>REVERSE</td>\n",
              "      <td>OPP - G</td>\n",
              "      <td>20</td>\n",
              "      <td>810</td>\n",
              "    </tr>\n",
              "    <tr>\n",
              "      <th>12</th>\n",
              "      <td>1FK004070 FOIL KOMIX JERUK NIPIS NEW          ...</td>\n",
              "      <td>8</td>\n",
              "      <td>REVERSE</td>\n",
              "      <td>PET-G</td>\n",
              "      <td>12</td>\n",
              "      <td>1130</td>\n",
              "    </tr>\n",
              "    <tr>\n",
              "      <th>13</th>\n",
              "      <td>68481222 WRP PADDLE POP CHOCO LAVA 55ML       ...</td>\n",
              "      <td>5</td>\n",
              "      <td>REVERSE</td>\n",
              "      <td>OPP - G</td>\n",
              "      <td>18</td>\n",
              "      <td>1120</td>\n",
              "    </tr>\n",
              "    <tr>\n",
              "      <th>14</th>\n",
              "      <td>AL.FOIL MAXTEA TARIKK 25G (L-8)               ...</td>\n",
              "      <td>7</td>\n",
              "      <td>REVERSE</td>\n",
              "      <td>OPP MATTE</td>\n",
              "      <td>20</td>\n",
              "      <td>1170</td>\n",
              "    </tr>\n",
              "  </tbody>\n",
              "</table>\n",
              "</div>"
            ],
            "text/plain": [
              "                                              Artikel  JmlhWrna   JnsCtk  \\\n",
              "0   DJARUM SUPER 12 EURO 2021                     ...         8  REVERSE   \n",
              "1   67930308 ROLL ROYCO SALTED EGG 22G MSPK NEW   ...         7  SURFACE   \n",
              "2   SWEETENED CONDENSED MILK TOPSAHO 30 GR AFRIKA ...         7  REVERSE   \n",
              "3   ROLL SWTR DIABTX 1020MM 87146-1304-602        ...         6  REVERSE   \n",
              "4   14011708/23010968-STP SKL W&B 750ML HLL       ...         7  REVERSE   \n",
              "5   KTG SP 280 ALOEVERA PEACH NEW                 ...         7  REVERSE   \n",
              "6   CAFFINO MOCCA 20GRX10 OUTERPOUCH E-KARIP NEW  ...         7  SURFACE   \n",
              "7   KUSUKA 60GR RASA BARBEQUE NEW                 ...         7  REVERSE   \n",
              "8   CAFFINO CHONUT 20GRX10 OUTERPOUCH E-KARIP NEW ...         8  SURFACE   \n",
              "9   MARIMAS MANGGA 7GR MLT MAY'23                 ...         8  REVERSE   \n",
              "10  CAFFINO CHONUT 20GR E-KARIP NEW               ...         8  SURFACE   \n",
              "11  EDO PIZZA BASE 120G (ND2019-0313096)          ...         7  REVERSE   \n",
              "12  1FK004070 FOIL KOMIX JERUK NIPIS NEW          ...         8  REVERSE   \n",
              "13  68481222 WRP PADDLE POP CHOCO LAVA 55ML       ...         5  REVERSE   \n",
              "14  AL.FOIL MAXTEA TARIKK 25G (L-8)               ...         7  REVERSE   \n",
              "\n",
              "       JnsBhn  Tebal (mic)  Lebar (mm)  \n",
              "0         OPP           20         970  \n",
              "1         PET           12        1150  \n",
              "2       PET-G           12        1170  \n",
              "3         PET           12        1045  \n",
              "4         PET           12        1000  \n",
              "5       NY-01           15         750  \n",
              "6       PET-G           12        1120  \n",
              "7       PET-G           12        1050  \n",
              "8       PET-G           12        1120  \n",
              "9         PET           12         935  \n",
              "10      PET-G           12        1120  \n",
              "11    OPP - G           20         810  \n",
              "12      PET-G           12        1130  \n",
              "13    OPP - G           18        1120  \n",
              "14  OPP MATTE           20        1170  "
            ]
          },
          "metadata": {},
          "execution_count": 4
        }
      ]
    },
    {
      "cell_type": "code",
      "metadata": {
        "id": "xC7rICjgtf9p"
      },
      "source": [
        "# Change columns name it's contain space\n",
        "dp_df.rename(columns={'Tebal (mic)':'Tebal(mic)','Lebar (mm)':'Lebar(mm)'}, inplace=True)"
      ],
      "execution_count": 5,
      "outputs": []
    },
    {
      "cell_type": "code",
      "metadata": {
        "colab": {
          "base_uri": "https://localhost:8080/"
        },
        "id": "KM6qM1Y7iba-",
        "outputId": "700909e8-6137-4092-8918-717486235d16"
      },
      "source": [
        "dp_df.info()"
      ],
      "execution_count": 6,
      "outputs": [
        {
          "output_type": "stream",
          "name": "stdout",
          "text": [
            "<class 'pandas.core.frame.DataFrame'>\n",
            "RangeIndex: 808 entries, 0 to 807\n",
            "Data columns (total 6 columns):\n",
            " #   Column      Non-Null Count  Dtype \n",
            "---  ------      --------------  ----- \n",
            " 0   Artikel     808 non-null    object\n",
            " 1   JmlhWrna    808 non-null    int64 \n",
            " 2   JnsCtk      808 non-null    object\n",
            " 3   JnsBhn      808 non-null    object\n",
            " 4   Tebal(mic)  808 non-null    int64 \n",
            " 5   Lebar(mm)   808 non-null    int64 \n",
            "dtypes: int64(3), object(3)\n",
            "memory usage: 38.0+ KB\n"
          ]
        }
      ]
    },
    {
      "cell_type": "code",
      "metadata": {
        "colab": {
          "base_uri": "https://localhost:8080/",
          "height": 514
        },
        "id": "HLAbDiw6f63Q",
        "outputId": "5f54080d-16d6-4431-bfdc-7957633e5d48"
      },
      "source": [
        "dp_df = dp_df.fillna(0)\n",
        "dp_df.head(15)"
      ],
      "execution_count": 7,
      "outputs": [
        {
          "output_type": "execute_result",
          "data": {
            "text/html": [
              "<div>\n",
              "<style scoped>\n",
              "    .dataframe tbody tr th:only-of-type {\n",
              "        vertical-align: middle;\n",
              "    }\n",
              "\n",
              "    .dataframe tbody tr th {\n",
              "        vertical-align: top;\n",
              "    }\n",
              "\n",
              "    .dataframe thead th {\n",
              "        text-align: right;\n",
              "    }\n",
              "</style>\n",
              "<table border=\"1\" class=\"dataframe\">\n",
              "  <thead>\n",
              "    <tr style=\"text-align: right;\">\n",
              "      <th></th>\n",
              "      <th>Artikel</th>\n",
              "      <th>JmlhWrna</th>\n",
              "      <th>JnsCtk</th>\n",
              "      <th>JnsBhn</th>\n",
              "      <th>Tebal(mic)</th>\n",
              "      <th>Lebar(mm)</th>\n",
              "    </tr>\n",
              "  </thead>\n",
              "  <tbody>\n",
              "    <tr>\n",
              "      <th>0</th>\n",
              "      <td>DJARUM SUPER 12 EURO 2021                     ...</td>\n",
              "      <td>8</td>\n",
              "      <td>REVERSE</td>\n",
              "      <td>OPP</td>\n",
              "      <td>20</td>\n",
              "      <td>970</td>\n",
              "    </tr>\n",
              "    <tr>\n",
              "      <th>1</th>\n",
              "      <td>67930308 ROLL ROYCO SALTED EGG 22G MSPK NEW   ...</td>\n",
              "      <td>7</td>\n",
              "      <td>SURFACE</td>\n",
              "      <td>PET</td>\n",
              "      <td>12</td>\n",
              "      <td>1150</td>\n",
              "    </tr>\n",
              "    <tr>\n",
              "      <th>2</th>\n",
              "      <td>SWEETENED CONDENSED MILK TOPSAHO 30 GR AFRIKA ...</td>\n",
              "      <td>7</td>\n",
              "      <td>REVERSE</td>\n",
              "      <td>PET-G</td>\n",
              "      <td>12</td>\n",
              "      <td>1170</td>\n",
              "    </tr>\n",
              "    <tr>\n",
              "      <th>3</th>\n",
              "      <td>ROLL SWTR DIABTX 1020MM 87146-1304-602        ...</td>\n",
              "      <td>6</td>\n",
              "      <td>REVERSE</td>\n",
              "      <td>PET</td>\n",
              "      <td>12</td>\n",
              "      <td>1045</td>\n",
              "    </tr>\n",
              "    <tr>\n",
              "      <th>4</th>\n",
              "      <td>14011708/23010968-STP SKL W&amp;B 750ML HLL       ...</td>\n",
              "      <td>7</td>\n",
              "      <td>REVERSE</td>\n",
              "      <td>PET</td>\n",
              "      <td>12</td>\n",
              "      <td>1000</td>\n",
              "    </tr>\n",
              "    <tr>\n",
              "      <th>5</th>\n",
              "      <td>KTG SP 280 ALOEVERA PEACH NEW                 ...</td>\n",
              "      <td>7</td>\n",
              "      <td>REVERSE</td>\n",
              "      <td>NY-01</td>\n",
              "      <td>15</td>\n",
              "      <td>750</td>\n",
              "    </tr>\n",
              "    <tr>\n",
              "      <th>6</th>\n",
              "      <td>CAFFINO MOCCA 20GRX10 OUTERPOUCH E-KARIP NEW  ...</td>\n",
              "      <td>7</td>\n",
              "      <td>SURFACE</td>\n",
              "      <td>PET-G</td>\n",
              "      <td>12</td>\n",
              "      <td>1120</td>\n",
              "    </tr>\n",
              "    <tr>\n",
              "      <th>7</th>\n",
              "      <td>KUSUKA 60GR RASA BARBEQUE NEW                 ...</td>\n",
              "      <td>7</td>\n",
              "      <td>REVERSE</td>\n",
              "      <td>PET-G</td>\n",
              "      <td>12</td>\n",
              "      <td>1050</td>\n",
              "    </tr>\n",
              "    <tr>\n",
              "      <th>8</th>\n",
              "      <td>CAFFINO CHONUT 20GRX10 OUTERPOUCH E-KARIP NEW ...</td>\n",
              "      <td>8</td>\n",
              "      <td>SURFACE</td>\n",
              "      <td>PET-G</td>\n",
              "      <td>12</td>\n",
              "      <td>1120</td>\n",
              "    </tr>\n",
              "    <tr>\n",
              "      <th>9</th>\n",
              "      <td>MARIMAS MANGGA 7GR MLT MAY'23                 ...</td>\n",
              "      <td>8</td>\n",
              "      <td>REVERSE</td>\n",
              "      <td>PET</td>\n",
              "      <td>12</td>\n",
              "      <td>935</td>\n",
              "    </tr>\n",
              "    <tr>\n",
              "      <th>10</th>\n",
              "      <td>CAFFINO CHONUT 20GR E-KARIP NEW               ...</td>\n",
              "      <td>8</td>\n",
              "      <td>SURFACE</td>\n",
              "      <td>PET-G</td>\n",
              "      <td>12</td>\n",
              "      <td>1120</td>\n",
              "    </tr>\n",
              "    <tr>\n",
              "      <th>11</th>\n",
              "      <td>EDO PIZZA BASE 120G (ND2019-0313096)          ...</td>\n",
              "      <td>7</td>\n",
              "      <td>REVERSE</td>\n",
              "      <td>OPP - G</td>\n",
              "      <td>20</td>\n",
              "      <td>810</td>\n",
              "    </tr>\n",
              "    <tr>\n",
              "      <th>12</th>\n",
              "      <td>1FK004070 FOIL KOMIX JERUK NIPIS NEW          ...</td>\n",
              "      <td>8</td>\n",
              "      <td>REVERSE</td>\n",
              "      <td>PET-G</td>\n",
              "      <td>12</td>\n",
              "      <td>1130</td>\n",
              "    </tr>\n",
              "    <tr>\n",
              "      <th>13</th>\n",
              "      <td>68481222 WRP PADDLE POP CHOCO LAVA 55ML       ...</td>\n",
              "      <td>5</td>\n",
              "      <td>REVERSE</td>\n",
              "      <td>OPP - G</td>\n",
              "      <td>18</td>\n",
              "      <td>1120</td>\n",
              "    </tr>\n",
              "    <tr>\n",
              "      <th>14</th>\n",
              "      <td>AL.FOIL MAXTEA TARIKK 25G (L-8)               ...</td>\n",
              "      <td>7</td>\n",
              "      <td>REVERSE</td>\n",
              "      <td>OPP MATTE</td>\n",
              "      <td>20</td>\n",
              "      <td>1170</td>\n",
              "    </tr>\n",
              "  </tbody>\n",
              "</table>\n",
              "</div>"
            ],
            "text/plain": [
              "                                              Artikel  JmlhWrna   JnsCtk  \\\n",
              "0   DJARUM SUPER 12 EURO 2021                     ...         8  REVERSE   \n",
              "1   67930308 ROLL ROYCO SALTED EGG 22G MSPK NEW   ...         7  SURFACE   \n",
              "2   SWEETENED CONDENSED MILK TOPSAHO 30 GR AFRIKA ...         7  REVERSE   \n",
              "3   ROLL SWTR DIABTX 1020MM 87146-1304-602        ...         6  REVERSE   \n",
              "4   14011708/23010968-STP SKL W&B 750ML HLL       ...         7  REVERSE   \n",
              "5   KTG SP 280 ALOEVERA PEACH NEW                 ...         7  REVERSE   \n",
              "6   CAFFINO MOCCA 20GRX10 OUTERPOUCH E-KARIP NEW  ...         7  SURFACE   \n",
              "7   KUSUKA 60GR RASA BARBEQUE NEW                 ...         7  REVERSE   \n",
              "8   CAFFINO CHONUT 20GRX10 OUTERPOUCH E-KARIP NEW ...         8  SURFACE   \n",
              "9   MARIMAS MANGGA 7GR MLT MAY'23                 ...         8  REVERSE   \n",
              "10  CAFFINO CHONUT 20GR E-KARIP NEW               ...         8  SURFACE   \n",
              "11  EDO PIZZA BASE 120G (ND2019-0313096)          ...         7  REVERSE   \n",
              "12  1FK004070 FOIL KOMIX JERUK NIPIS NEW          ...         8  REVERSE   \n",
              "13  68481222 WRP PADDLE POP CHOCO LAVA 55ML       ...         5  REVERSE   \n",
              "14  AL.FOIL MAXTEA TARIKK 25G (L-8)               ...         7  REVERSE   \n",
              "\n",
              "       JnsBhn  Tebal(mic)  Lebar(mm)  \n",
              "0         OPP          20        970  \n",
              "1         PET          12       1150  \n",
              "2       PET-G          12       1170  \n",
              "3         PET          12       1045  \n",
              "4         PET          12       1000  \n",
              "5       NY-01          15        750  \n",
              "6       PET-G          12       1120  \n",
              "7       PET-G          12       1050  \n",
              "8       PET-G          12       1120  \n",
              "9         PET          12        935  \n",
              "10      PET-G          12       1120  \n",
              "11    OPP - G          20        810  \n",
              "12      PET-G          12       1130  \n",
              "13    OPP - G          18       1120  \n",
              "14  OPP MATTE          20       1170  "
            ]
          },
          "metadata": {},
          "execution_count": 7
        }
      ]
    },
    {
      "cell_type": "code",
      "metadata": {
        "id": "MsXgUhkStxOG"
      },
      "source": [
        "cleanup_nums ={\"JnsCtk\":{\"REVERSE\":1,\"SURFACE\":2}}"
      ],
      "execution_count": 8,
      "outputs": []
    },
    {
      "cell_type": "code",
      "metadata": {
        "colab": {
          "base_uri": "https://localhost:8080/",
          "height": 514
        },
        "id": "5gkLMqk1eZwK",
        "outputId": "10cdb014-8633-4752-fba9-0e7af39d1686"
      },
      "source": [
        "fn_df = dp_df.replace(cleanup_nums)\n",
        "fn_df = fn_df.fillna(0)\n",
        "fn_df.head(15)"
      ],
      "execution_count": 9,
      "outputs": [
        {
          "output_type": "execute_result",
          "data": {
            "text/html": [
              "<div>\n",
              "<style scoped>\n",
              "    .dataframe tbody tr th:only-of-type {\n",
              "        vertical-align: middle;\n",
              "    }\n",
              "\n",
              "    .dataframe tbody tr th {\n",
              "        vertical-align: top;\n",
              "    }\n",
              "\n",
              "    .dataframe thead th {\n",
              "        text-align: right;\n",
              "    }\n",
              "</style>\n",
              "<table border=\"1\" class=\"dataframe\">\n",
              "  <thead>\n",
              "    <tr style=\"text-align: right;\">\n",
              "      <th></th>\n",
              "      <th>Artikel</th>\n",
              "      <th>JmlhWrna</th>\n",
              "      <th>JnsCtk</th>\n",
              "      <th>JnsBhn</th>\n",
              "      <th>Tebal(mic)</th>\n",
              "      <th>Lebar(mm)</th>\n",
              "    </tr>\n",
              "  </thead>\n",
              "  <tbody>\n",
              "    <tr>\n",
              "      <th>0</th>\n",
              "      <td>DJARUM SUPER 12 EURO 2021                     ...</td>\n",
              "      <td>8</td>\n",
              "      <td>1</td>\n",
              "      <td>OPP</td>\n",
              "      <td>20</td>\n",
              "      <td>970</td>\n",
              "    </tr>\n",
              "    <tr>\n",
              "      <th>1</th>\n",
              "      <td>67930308 ROLL ROYCO SALTED EGG 22G MSPK NEW   ...</td>\n",
              "      <td>7</td>\n",
              "      <td>2</td>\n",
              "      <td>PET</td>\n",
              "      <td>12</td>\n",
              "      <td>1150</td>\n",
              "    </tr>\n",
              "    <tr>\n",
              "      <th>2</th>\n",
              "      <td>SWEETENED CONDENSED MILK TOPSAHO 30 GR AFRIKA ...</td>\n",
              "      <td>7</td>\n",
              "      <td>1</td>\n",
              "      <td>PET-G</td>\n",
              "      <td>12</td>\n",
              "      <td>1170</td>\n",
              "    </tr>\n",
              "    <tr>\n",
              "      <th>3</th>\n",
              "      <td>ROLL SWTR DIABTX 1020MM 87146-1304-602        ...</td>\n",
              "      <td>6</td>\n",
              "      <td>1</td>\n",
              "      <td>PET</td>\n",
              "      <td>12</td>\n",
              "      <td>1045</td>\n",
              "    </tr>\n",
              "    <tr>\n",
              "      <th>4</th>\n",
              "      <td>14011708/23010968-STP SKL W&amp;B 750ML HLL       ...</td>\n",
              "      <td>7</td>\n",
              "      <td>1</td>\n",
              "      <td>PET</td>\n",
              "      <td>12</td>\n",
              "      <td>1000</td>\n",
              "    </tr>\n",
              "    <tr>\n",
              "      <th>5</th>\n",
              "      <td>KTG SP 280 ALOEVERA PEACH NEW                 ...</td>\n",
              "      <td>7</td>\n",
              "      <td>1</td>\n",
              "      <td>NY-01</td>\n",
              "      <td>15</td>\n",
              "      <td>750</td>\n",
              "    </tr>\n",
              "    <tr>\n",
              "      <th>6</th>\n",
              "      <td>CAFFINO MOCCA 20GRX10 OUTERPOUCH E-KARIP NEW  ...</td>\n",
              "      <td>7</td>\n",
              "      <td>2</td>\n",
              "      <td>PET-G</td>\n",
              "      <td>12</td>\n",
              "      <td>1120</td>\n",
              "    </tr>\n",
              "    <tr>\n",
              "      <th>7</th>\n",
              "      <td>KUSUKA 60GR RASA BARBEQUE NEW                 ...</td>\n",
              "      <td>7</td>\n",
              "      <td>1</td>\n",
              "      <td>PET-G</td>\n",
              "      <td>12</td>\n",
              "      <td>1050</td>\n",
              "    </tr>\n",
              "    <tr>\n",
              "      <th>8</th>\n",
              "      <td>CAFFINO CHONUT 20GRX10 OUTERPOUCH E-KARIP NEW ...</td>\n",
              "      <td>8</td>\n",
              "      <td>2</td>\n",
              "      <td>PET-G</td>\n",
              "      <td>12</td>\n",
              "      <td>1120</td>\n",
              "    </tr>\n",
              "    <tr>\n",
              "      <th>9</th>\n",
              "      <td>MARIMAS MANGGA 7GR MLT MAY'23                 ...</td>\n",
              "      <td>8</td>\n",
              "      <td>1</td>\n",
              "      <td>PET</td>\n",
              "      <td>12</td>\n",
              "      <td>935</td>\n",
              "    </tr>\n",
              "    <tr>\n",
              "      <th>10</th>\n",
              "      <td>CAFFINO CHONUT 20GR E-KARIP NEW               ...</td>\n",
              "      <td>8</td>\n",
              "      <td>2</td>\n",
              "      <td>PET-G</td>\n",
              "      <td>12</td>\n",
              "      <td>1120</td>\n",
              "    </tr>\n",
              "    <tr>\n",
              "      <th>11</th>\n",
              "      <td>EDO PIZZA BASE 120G (ND2019-0313096)          ...</td>\n",
              "      <td>7</td>\n",
              "      <td>1</td>\n",
              "      <td>OPP - G</td>\n",
              "      <td>20</td>\n",
              "      <td>810</td>\n",
              "    </tr>\n",
              "    <tr>\n",
              "      <th>12</th>\n",
              "      <td>1FK004070 FOIL KOMIX JERUK NIPIS NEW          ...</td>\n",
              "      <td>8</td>\n",
              "      <td>1</td>\n",
              "      <td>PET-G</td>\n",
              "      <td>12</td>\n",
              "      <td>1130</td>\n",
              "    </tr>\n",
              "    <tr>\n",
              "      <th>13</th>\n",
              "      <td>68481222 WRP PADDLE POP CHOCO LAVA 55ML       ...</td>\n",
              "      <td>5</td>\n",
              "      <td>1</td>\n",
              "      <td>OPP - G</td>\n",
              "      <td>18</td>\n",
              "      <td>1120</td>\n",
              "    </tr>\n",
              "    <tr>\n",
              "      <th>14</th>\n",
              "      <td>AL.FOIL MAXTEA TARIKK 25G (L-8)               ...</td>\n",
              "      <td>7</td>\n",
              "      <td>1</td>\n",
              "      <td>OPP MATTE</td>\n",
              "      <td>20</td>\n",
              "      <td>1170</td>\n",
              "    </tr>\n",
              "  </tbody>\n",
              "</table>\n",
              "</div>"
            ],
            "text/plain": [
              "                                              Artikel  JmlhWrna  JnsCtk  \\\n",
              "0   DJARUM SUPER 12 EURO 2021                     ...         8       1   \n",
              "1   67930308 ROLL ROYCO SALTED EGG 22G MSPK NEW   ...         7       2   \n",
              "2   SWEETENED CONDENSED MILK TOPSAHO 30 GR AFRIKA ...         7       1   \n",
              "3   ROLL SWTR DIABTX 1020MM 87146-1304-602        ...         6       1   \n",
              "4   14011708/23010968-STP SKL W&B 750ML HLL       ...         7       1   \n",
              "5   KTG SP 280 ALOEVERA PEACH NEW                 ...         7       1   \n",
              "6   CAFFINO MOCCA 20GRX10 OUTERPOUCH E-KARIP NEW  ...         7       2   \n",
              "7   KUSUKA 60GR RASA BARBEQUE NEW                 ...         7       1   \n",
              "8   CAFFINO CHONUT 20GRX10 OUTERPOUCH E-KARIP NEW ...         8       2   \n",
              "9   MARIMAS MANGGA 7GR MLT MAY'23                 ...         8       1   \n",
              "10  CAFFINO CHONUT 20GR E-KARIP NEW               ...         8       2   \n",
              "11  EDO PIZZA BASE 120G (ND2019-0313096)          ...         7       1   \n",
              "12  1FK004070 FOIL KOMIX JERUK NIPIS NEW          ...         8       1   \n",
              "13  68481222 WRP PADDLE POP CHOCO LAVA 55ML       ...         5       1   \n",
              "14  AL.FOIL MAXTEA TARIKK 25G (L-8)               ...         7       1   \n",
              "\n",
              "       JnsBhn  Tebal(mic)  Lebar(mm)  \n",
              "0         OPP          20        970  \n",
              "1         PET          12       1150  \n",
              "2       PET-G          12       1170  \n",
              "3         PET          12       1045  \n",
              "4         PET          12       1000  \n",
              "5       NY-01          15        750  \n",
              "6       PET-G          12       1120  \n",
              "7       PET-G          12       1050  \n",
              "8       PET-G          12       1120  \n",
              "9         PET          12        935  \n",
              "10      PET-G          12       1120  \n",
              "11    OPP - G          20        810  \n",
              "12      PET-G          12       1130  \n",
              "13    OPP - G          18       1120  \n",
              "14  OPP MATTE          20       1170  "
            ]
          },
          "metadata": {},
          "execution_count": 9
        }
      ]
    },
    {
      "cell_type": "code",
      "metadata": {
        "colab": {
          "base_uri": "https://localhost:8080/"
        },
        "id": "qb2SbgB_eikL",
        "outputId": "b88567fd-d05e-4923-b296-8820a45d985d"
      },
      "source": [
        "fn_df.info()"
      ],
      "execution_count": 10,
      "outputs": [
        {
          "output_type": "stream",
          "name": "stdout",
          "text": [
            "<class 'pandas.core.frame.DataFrame'>\n",
            "RangeIndex: 808 entries, 0 to 807\n",
            "Data columns (total 6 columns):\n",
            " #   Column      Non-Null Count  Dtype \n",
            "---  ------      --------------  ----- \n",
            " 0   Artikel     808 non-null    object\n",
            " 1   JmlhWrna    808 non-null    int64 \n",
            " 2   JnsCtk      808 non-null    int64 \n",
            " 3   JnsBhn      808 non-null    object\n",
            " 4   Tebal(mic)  808 non-null    int64 \n",
            " 5   Lebar(mm)   808 non-null    int64 \n",
            "dtypes: int64(4), object(2)\n",
            "memory usage: 38.0+ KB\n"
          ]
        }
      ]
    },
    {
      "cell_type": "code",
      "metadata": {
        "colab": {
          "base_uri": "https://localhost:8080/",
          "height": 514
        },
        "id": "td21YXoCrm-E",
        "outputId": "d3374a1c-101c-4dbb-86b1-77334120ac15"
      },
      "source": [
        "ob_df=dp_df.select_dtypes(include=['object']).copy()\n",
        "ob_df = ob_df.fillna(0)\n",
        "ob_df.head(15)"
      ],
      "execution_count": 11,
      "outputs": [
        {
          "output_type": "execute_result",
          "data": {
            "text/html": [
              "<div>\n",
              "<style scoped>\n",
              "    .dataframe tbody tr th:only-of-type {\n",
              "        vertical-align: middle;\n",
              "    }\n",
              "\n",
              "    .dataframe tbody tr th {\n",
              "        vertical-align: top;\n",
              "    }\n",
              "\n",
              "    .dataframe thead th {\n",
              "        text-align: right;\n",
              "    }\n",
              "</style>\n",
              "<table border=\"1\" class=\"dataframe\">\n",
              "  <thead>\n",
              "    <tr style=\"text-align: right;\">\n",
              "      <th></th>\n",
              "      <th>Artikel</th>\n",
              "      <th>JnsCtk</th>\n",
              "      <th>JnsBhn</th>\n",
              "    </tr>\n",
              "  </thead>\n",
              "  <tbody>\n",
              "    <tr>\n",
              "      <th>0</th>\n",
              "      <td>DJARUM SUPER 12 EURO 2021                     ...</td>\n",
              "      <td>REVERSE</td>\n",
              "      <td>OPP</td>\n",
              "    </tr>\n",
              "    <tr>\n",
              "      <th>1</th>\n",
              "      <td>67930308 ROLL ROYCO SALTED EGG 22G MSPK NEW   ...</td>\n",
              "      <td>SURFACE</td>\n",
              "      <td>PET</td>\n",
              "    </tr>\n",
              "    <tr>\n",
              "      <th>2</th>\n",
              "      <td>SWEETENED CONDENSED MILK TOPSAHO 30 GR AFRIKA ...</td>\n",
              "      <td>REVERSE</td>\n",
              "      <td>PET-G</td>\n",
              "    </tr>\n",
              "    <tr>\n",
              "      <th>3</th>\n",
              "      <td>ROLL SWTR DIABTX 1020MM 87146-1304-602        ...</td>\n",
              "      <td>REVERSE</td>\n",
              "      <td>PET</td>\n",
              "    </tr>\n",
              "    <tr>\n",
              "      <th>4</th>\n",
              "      <td>14011708/23010968-STP SKL W&amp;B 750ML HLL       ...</td>\n",
              "      <td>REVERSE</td>\n",
              "      <td>PET</td>\n",
              "    </tr>\n",
              "    <tr>\n",
              "      <th>5</th>\n",
              "      <td>KTG SP 280 ALOEVERA PEACH NEW                 ...</td>\n",
              "      <td>REVERSE</td>\n",
              "      <td>NY-01</td>\n",
              "    </tr>\n",
              "    <tr>\n",
              "      <th>6</th>\n",
              "      <td>CAFFINO MOCCA 20GRX10 OUTERPOUCH E-KARIP NEW  ...</td>\n",
              "      <td>SURFACE</td>\n",
              "      <td>PET-G</td>\n",
              "    </tr>\n",
              "    <tr>\n",
              "      <th>7</th>\n",
              "      <td>KUSUKA 60GR RASA BARBEQUE NEW                 ...</td>\n",
              "      <td>REVERSE</td>\n",
              "      <td>PET-G</td>\n",
              "    </tr>\n",
              "    <tr>\n",
              "      <th>8</th>\n",
              "      <td>CAFFINO CHONUT 20GRX10 OUTERPOUCH E-KARIP NEW ...</td>\n",
              "      <td>SURFACE</td>\n",
              "      <td>PET-G</td>\n",
              "    </tr>\n",
              "    <tr>\n",
              "      <th>9</th>\n",
              "      <td>MARIMAS MANGGA 7GR MLT MAY'23                 ...</td>\n",
              "      <td>REVERSE</td>\n",
              "      <td>PET</td>\n",
              "    </tr>\n",
              "    <tr>\n",
              "      <th>10</th>\n",
              "      <td>CAFFINO CHONUT 20GR E-KARIP NEW               ...</td>\n",
              "      <td>SURFACE</td>\n",
              "      <td>PET-G</td>\n",
              "    </tr>\n",
              "    <tr>\n",
              "      <th>11</th>\n",
              "      <td>EDO PIZZA BASE 120G (ND2019-0313096)          ...</td>\n",
              "      <td>REVERSE</td>\n",
              "      <td>OPP - G</td>\n",
              "    </tr>\n",
              "    <tr>\n",
              "      <th>12</th>\n",
              "      <td>1FK004070 FOIL KOMIX JERUK NIPIS NEW          ...</td>\n",
              "      <td>REVERSE</td>\n",
              "      <td>PET-G</td>\n",
              "    </tr>\n",
              "    <tr>\n",
              "      <th>13</th>\n",
              "      <td>68481222 WRP PADDLE POP CHOCO LAVA 55ML       ...</td>\n",
              "      <td>REVERSE</td>\n",
              "      <td>OPP - G</td>\n",
              "    </tr>\n",
              "    <tr>\n",
              "      <th>14</th>\n",
              "      <td>AL.FOIL MAXTEA TARIKK 25G (L-8)               ...</td>\n",
              "      <td>REVERSE</td>\n",
              "      <td>OPP MATTE</td>\n",
              "    </tr>\n",
              "  </tbody>\n",
              "</table>\n",
              "</div>"
            ],
            "text/plain": [
              "                                              Artikel   JnsCtk     JnsBhn\n",
              "0   DJARUM SUPER 12 EURO 2021                     ...  REVERSE        OPP\n",
              "1   67930308 ROLL ROYCO SALTED EGG 22G MSPK NEW   ...  SURFACE        PET\n",
              "2   SWEETENED CONDENSED MILK TOPSAHO 30 GR AFRIKA ...  REVERSE      PET-G\n",
              "3   ROLL SWTR DIABTX 1020MM 87146-1304-602        ...  REVERSE        PET\n",
              "4   14011708/23010968-STP SKL W&B 750ML HLL       ...  REVERSE        PET\n",
              "5   KTG SP 280 ALOEVERA PEACH NEW                 ...  REVERSE      NY-01\n",
              "6   CAFFINO MOCCA 20GRX10 OUTERPOUCH E-KARIP NEW  ...  SURFACE      PET-G\n",
              "7   KUSUKA 60GR RASA BARBEQUE NEW                 ...  REVERSE      PET-G\n",
              "8   CAFFINO CHONUT 20GRX10 OUTERPOUCH E-KARIP NEW ...  SURFACE      PET-G\n",
              "9   MARIMAS MANGGA 7GR MLT MAY'23                 ...  REVERSE        PET\n",
              "10  CAFFINO CHONUT 20GR E-KARIP NEW               ...  SURFACE      PET-G\n",
              "11  EDO PIZZA BASE 120G (ND2019-0313096)          ...  REVERSE    OPP - G\n",
              "12  1FK004070 FOIL KOMIX JERUK NIPIS NEW          ...  REVERSE      PET-G\n",
              "13  68481222 WRP PADDLE POP CHOCO LAVA 55ML       ...  REVERSE    OPP - G\n",
              "14  AL.FOIL MAXTEA TARIKK 25G (L-8)               ...  REVERSE  OPP MATTE"
            ]
          },
          "metadata": {},
          "execution_count": 11
        }
      ]
    },
    {
      "cell_type": "code",
      "metadata": {
        "colab": {
          "base_uri": "https://localhost:8080/",
          "height": 204
        },
        "id": "o1iLKyudyFUw",
        "outputId": "d5797037-0f5a-4570-d46c-ac607b2b14d6"
      },
      "source": [
        "ob_df=ob_df.replace(cleanup_nums)\n",
        "ob_df.head()"
      ],
      "execution_count": 12,
      "outputs": [
        {
          "output_type": "execute_result",
          "data": {
            "text/html": [
              "<div>\n",
              "<style scoped>\n",
              "    .dataframe tbody tr th:only-of-type {\n",
              "        vertical-align: middle;\n",
              "    }\n",
              "\n",
              "    .dataframe tbody tr th {\n",
              "        vertical-align: top;\n",
              "    }\n",
              "\n",
              "    .dataframe thead th {\n",
              "        text-align: right;\n",
              "    }\n",
              "</style>\n",
              "<table border=\"1\" class=\"dataframe\">\n",
              "  <thead>\n",
              "    <tr style=\"text-align: right;\">\n",
              "      <th></th>\n",
              "      <th>Artikel</th>\n",
              "      <th>JnsCtk</th>\n",
              "      <th>JnsBhn</th>\n",
              "    </tr>\n",
              "  </thead>\n",
              "  <tbody>\n",
              "    <tr>\n",
              "      <th>0</th>\n",
              "      <td>DJARUM SUPER 12 EURO 2021                     ...</td>\n",
              "      <td>1</td>\n",
              "      <td>OPP</td>\n",
              "    </tr>\n",
              "    <tr>\n",
              "      <th>1</th>\n",
              "      <td>67930308 ROLL ROYCO SALTED EGG 22G MSPK NEW   ...</td>\n",
              "      <td>2</td>\n",
              "      <td>PET</td>\n",
              "    </tr>\n",
              "    <tr>\n",
              "      <th>2</th>\n",
              "      <td>SWEETENED CONDENSED MILK TOPSAHO 30 GR AFRIKA ...</td>\n",
              "      <td>1</td>\n",
              "      <td>PET-G</td>\n",
              "    </tr>\n",
              "    <tr>\n",
              "      <th>3</th>\n",
              "      <td>ROLL SWTR DIABTX 1020MM 87146-1304-602        ...</td>\n",
              "      <td>1</td>\n",
              "      <td>PET</td>\n",
              "    </tr>\n",
              "    <tr>\n",
              "      <th>4</th>\n",
              "      <td>14011708/23010968-STP SKL W&amp;B 750ML HLL       ...</td>\n",
              "      <td>1</td>\n",
              "      <td>PET</td>\n",
              "    </tr>\n",
              "  </tbody>\n",
              "</table>\n",
              "</div>"
            ],
            "text/plain": [
              "                                             Artikel  JnsCtk JnsBhn\n",
              "0  DJARUM SUPER 12 EURO 2021                     ...       1    OPP\n",
              "1  67930308 ROLL ROYCO SALTED EGG 22G MSPK NEW   ...       2    PET\n",
              "2  SWEETENED CONDENSED MILK TOPSAHO 30 GR AFRIKA ...       1  PET-G\n",
              "3  ROLL SWTR DIABTX 1020MM 87146-1304-602        ...       1    PET\n",
              "4  14011708/23010968-STP SKL W&B 750ML HLL       ...       1    PET"
            ]
          },
          "metadata": {},
          "execution_count": 12
        }
      ]
    },
    {
      "cell_type": "code",
      "metadata": {
        "id": "aNHaUloa8JZf"
      },
      "source": [
        "from io import StringIO\n",
        "col = ['Artikel','JmlhWrna','JnsCtk',\n",
        "       'JnsBhn','Tebal(mic)','Lebar(mm)']\n",
        "cat_df = fn_df[col]\n",
        "cat_df = cat_df[pd.notnull(fn_df['JnsCtk'])]\n",
        "cat_df.columns = ['Artikel','JmlhWrna','JnsCtk',\n",
        "                  'JnsBhn','Tebal(mic)','Lebar(mm)']"
      ],
      "execution_count": 13,
      "outputs": []
    },
    {
      "cell_type": "code",
      "metadata": {
        "id": "fPSu4WI88N-u",
        "colab": {
          "base_uri": "https://localhost:8080/",
          "height": 386
        },
        "outputId": "d4ec57d6-5b91-471f-99a1-097b436e616a"
      },
      "source": [
        "import matplotlib.pyplot as plt\n",
        "fig = plt.figure(figsize=(10,5))\n",
        "cat_df.groupby(['JmlhWrna','JnsCtk']).JnsBhn.count().plot.bar(ylim=0)\n",
        "plt.show()"
      ],
      "execution_count": 14,
      "outputs": [
        {
          "output_type": "display_data",
          "data": {
            "image/png": "[encoded data removed]",
            "text/plain": [
              "<Figure size 720x360 with 1 Axes>"
            ]
          },
          "metadata": {}
        }
      ]
    },
    {
      "cell_type": "code",
      "metadata": {
        "id": "ivXIjKop8Sty",
        "colab": {
          "base_uri": "https://localhost:8080/",
          "height": 395
        },
        "outputId": "a0ecd29f-1d18-44d1-eb95-3078f188380e"
      },
      "source": [
        "import matplotlib.pyplot as plt\n",
        "fig = plt.figure(figsize=(10,5))\n",
        "cat_df.groupby(['JmlhWrna','Tebal(mic)']).JnsBhn.count().plot.bar(ylim=0)\n",
        "plt.show()"
      ],
      "execution_count": 15,
      "outputs": [
        {
          "output_type": "display_data",
          "data": {
            "image/png": "[encoded data removed]",
            "text/plain": [
              "<Figure size 720x360 with 1 Axes>"
            ]
          },
          "metadata": {}
        }
      ]
    },
    {
      "cell_type": "code",
      "metadata": {
        "id": "IeeXxsmQ8apz",
        "colab": {
          "base_uri": "https://localhost:8080/",
          "height": 773
        },
        "outputId": "cb316019-09d7-4521-fc3a-1a145777582b"
      },
      "source": [
        "import matplotlib.pyplot as plt\n",
        "fig = plt.figure(figsize=(25,15))\n",
        "cat_df.groupby(['JmlhWrna','Lebar(mm)']).JnsBhn.count().plot.bar(ylim=0)\n",
        "plt.show()"
      ],
      "execution_count": 16,
      "outputs": [
        {
          "output_type": "display_data",
          "data": {
            "image/png": "[encoded data removed]",
            "text/plain": [
              "<Figure size 1800x1080 with 1 Axes>"
            ]
          },
          "metadata": {}
        }
      ]
    },
    {
      "cell_type": "code",
      "metadata": {
        "colab": {
          "base_uri": "https://localhost:8080/",
          "height": 395
        },
        "id": "EhBaidck_cu3",
        "outputId": "3d4a3ee5-7eae-4f42-99c5-485557334906"
      },
      "source": [
        "import matplotlib.pyplot as plt\n",
        "fig = plt.figure(figsize=(10,5))\n",
        "cat_df.groupby(['JnsCtk','Tebal(mic)']).JnsBhn.count().plot.bar(ylim=0)\n",
        "plt.show()"
      ],
      "execution_count": 17,
      "outputs": [
        {
          "output_type": "display_data",
          "data": {
            "image/png": "[encoded data removed]",
            "text/plain": [
              "<Figure size 720x360 with 1 Axes>"
            ]
          },
          "metadata": {}
        }
      ]
    },
    {
      "cell_type": "code",
      "metadata": {
        "colab": {
          "base_uri": "https://localhost:8080/",
          "height": 399
        },
        "id": "ngjopJzh_ieH",
        "outputId": "ee13de6f-04e0-45ec-ca6a-0512addda70c"
      },
      "source": [
        "import matplotlib.pyplot as plt\n",
        "fig = plt.figure(figsize=(20,5))\n",
        "cat_df.groupby(['JnsCtk','Lebar(mm)']).JnsBhn.count().plot.bar(ylim=0)\n",
        "plt.show()"
      ],
      "execution_count": 18,
      "outputs": [
        {
          "output_type": "display_data",
          "data": {
            "image/png": "[encoded data removed]",
            "text/plain": [
              "<Figure size 1440x360 with 1 Axes>"
            ]
          },
          "metadata": {}
        }
      ]
    },
    {
      "cell_type": "code",
      "metadata": {
        "colab": {
          "base_uri": "https://localhost:8080/",
          "height": 173
        },
        "id": "8bAtAF0LYnjE",
        "outputId": "1760c5c7-7b29-45cf-d533-968962bfcc20"
      },
      "source": [
        "fn_df.describe().T"
      ],
      "execution_count": 19,
      "outputs": [
        {
          "output_type": "execute_result",
          "data": {
            "text/html": [
              "<div>\n",
              "<style scoped>\n",
              "    .dataframe tbody tr th:only-of-type {\n",
              "        vertical-align: middle;\n",
              "    }\n",
              "\n",
              "    .dataframe tbody tr th {\n",
              "        vertical-align: top;\n",
              "    }\n",
              "\n",
              "    .dataframe thead th {\n",
              "        text-align: right;\n",
              "    }\n",
              "</style>\n",
              "<table border=\"1\" class=\"dataframe\">\n",
              "  <thead>\n",
              "    <tr style=\"text-align: right;\">\n",
              "      <th></th>\n",
              "      <th>count</th>\n",
              "      <th>mean</th>\n",
              "      <th>std</th>\n",
              "      <th>min</th>\n",
              "      <th>25%</th>\n",
              "      <th>50%</th>\n",
              "      <th>75%</th>\n",
              "      <th>max</th>\n",
              "    </tr>\n",
              "  </thead>\n",
              "  <tbody>\n",
              "    <tr>\n",
              "      <th>JmlhWrna</th>\n",
              "      <td>808.00</td>\n",
              "      <td>6.75</td>\n",
              "      <td>1.43</td>\n",
              "      <td>1.00</td>\n",
              "      <td>6.00</td>\n",
              "      <td>7.00</td>\n",
              "      <td>8.00</td>\n",
              "      <td>9.00</td>\n",
              "    </tr>\n",
              "    <tr>\n",
              "      <th>JnsCtk</th>\n",
              "      <td>808.00</td>\n",
              "      <td>1.09</td>\n",
              "      <td>0.28</td>\n",
              "      <td>1.00</td>\n",
              "      <td>1.00</td>\n",
              "      <td>1.00</td>\n",
              "      <td>1.00</td>\n",
              "      <td>2.00</td>\n",
              "    </tr>\n",
              "    <tr>\n",
              "      <th>Tebal(mic)</th>\n",
              "      <td>808.00</td>\n",
              "      <td>14.57</td>\n",
              "      <td>4.42</td>\n",
              "      <td>9.00</td>\n",
              "      <td>12.00</td>\n",
              "      <td>12.00</td>\n",
              "      <td>15.00</td>\n",
              "      <td>35.00</td>\n",
              "    </tr>\n",
              "    <tr>\n",
              "      <th>Lebar(mm)</th>\n",
              "      <td>808.00</td>\n",
              "      <td>997.83</td>\n",
              "      <td>123.91</td>\n",
              "      <td>650.00</td>\n",
              "      <td>930.00</td>\n",
              "      <td>990.00</td>\n",
              "      <td>1110.00</td>\n",
              "      <td>1270.00</td>\n",
              "    </tr>\n",
              "  </tbody>\n",
              "</table>\n",
              "</div>"
            ],
            "text/plain": [
              "            count   mean    std    min    25%    50%     75%     max\n",
              "JmlhWrna   808.00   6.75   1.43   1.00   6.00   7.00    8.00    9.00\n",
              "JnsCtk     808.00   1.09   0.28   1.00   1.00   1.00    1.00    2.00\n",
              "Tebal(mic) 808.00  14.57   4.42   9.00  12.00  12.00   15.00   35.00\n",
              "Lebar(mm)  808.00 997.83 123.91 650.00 930.00 990.00 1110.00 1270.00"
            ]
          },
          "metadata": {},
          "execution_count": 19
        }
      ]
    },
    {
      "cell_type": "code",
      "metadata": {
        "colab": {
          "base_uri": "https://localhost:8080/",
          "height": 724
        },
        "id": "ye2IphidZP2F",
        "outputId": "fdc6e9a8-6e43-4dee-c5c4-db942be71e14"
      },
      "source": [
        "plt.figure(figsize=(25, 15))\n",
        "\n",
        "for i, column in enumerate(cat_df, 1):\n",
        "    plt.subplot(2, 3, i)\n",
        "    fn_df[fn_df[\"JnsBhn\"] == 0][column].hist(bins=48, color='r', label='Most NO = 0', alpha=0.8)\n",
        "    fn_df[fn_df[\"JnsBhn\"] == 1][column].hist(bins=48, color='g', label='Most YES = 1', alpha=0.8)\n",
        "    plt.legend()\n",
        "    plt.xlabel(column)"
      ],
      "execution_count": 40,
      "outputs": [
        {
          "output_type": "display_data",
          "data": {
            "image/png": "[encoded data removed]",
            "text/plain": [
              "<Figure size 1800x1080 with 6 Axes>"
            ]
          },
          "metadata": {}
        }
      ]
    },
    {
      "cell_type": "code",
      "metadata": {
        "colab": {
          "base_uri": "https://localhost:8080/"
        },
        "id": "gNVuoU8RaTMr",
        "outputId": "3e75989a-65cb-43d0-8012-70f9e530cce4"
      },
      "source": [
        "fn_df.info()"
      ],
      "execution_count": 35,
      "outputs": [
        {
          "output_type": "stream",
          "name": "stdout",
          "text": [
            "<class 'pandas.core.frame.DataFrame'>\n",
            "RangeIndex: 808 entries, 0 to 807\n",
            "Data columns (total 6 columns):\n",
            " #   Column      Non-Null Count  Dtype \n",
            "---  ------      --------------  ----- \n",
            " 0   Artikel     808 non-null    object\n",
            " 1   JmlhWrna    808 non-null    int64 \n",
            " 2   JnsCtk      808 non-null    int64 \n",
            " 3   JnsBhn      808 non-null    object\n",
            " 4   Tebal(mic)  808 non-null    int64 \n",
            " 5   Lebar(mm)   808 non-null    int64 \n",
            "dtypes: int64(4), object(2)\n",
            "memory usage: 38.0+ KB\n"
          ]
        }
      ]
    },
    {
      "cell_type": "code",
      "metadata": {
        "colab": {
          "base_uri": "https://localhost:8080/"
        },
        "id": "ozRWrwcJadeE",
        "outputId": "02f0137e-1f13-4e9d-b9d6-c275c75c1a1a"
      },
      "source": [
        "# Machine Learning Algorithms : Test Model/Total Rows data set  6000/11152 = 0.537971846140052\n",
        "#fn_df = fn_df.dropna(axis=0, how='any', thresh=None, subset=None, inplace=False)\n",
        "\n",
        "dummy_col = [column for column in fn_df.drop('JnsBhn', axis=1).columns if fn_df[column].nunique()]\n",
        "\n",
        "winteam = pd.get_dummies(fn_df, columns=dummy_col, drop_first=False, dtype='uint8')\n",
        "winteam.info()"
      ],
      "execution_count": 36,
      "outputs": [
        {
          "output_type": "stream",
          "name": "stdout",
          "text": [
            "<class 'pandas.core.frame.DataFrame'>\n",
            "RangeIndex: 808 entries, 0 to 807\n",
            "Columns: 890 entries, JnsBhn to Lebar(mm)_1270\n",
            "dtypes: object(1), uint8(889)\n",
            "memory usage: 707.9+ KB\n"
          ]
        }
      ]
    },
    {
      "cell_type": "code",
      "metadata": {
        "colab": {
          "base_uri": "https://localhost:8080/"
        },
        "id": "bpaTxh-Mahm4",
        "outputId": "de944967-6fb4-45a1-c080-8ceace238d06"
      },
      "source": [
        "print(winteam.shape)\n",
        "\n",
        "# Remove duplicate Features\n",
        "winteam = winteam.T.drop_duplicates()\n",
        "winteam = winteam.T\n",
        "\n",
        "# Remove Duplicate Rows\n",
        "winteam.drop_duplicates(inplace=True)\n",
        "\n",
        "print(winteam.shape)"
      ],
      "execution_count": 37,
      "outputs": [
        {
          "output_type": "stream",
          "name": "stdout",
          "text": [
            "(808, 890)\n",
            "(808, 886)\n"
          ]
        }
      ]
    },
    {
      "cell_type": "code",
      "metadata": {
        "colab": {
          "base_uri": "https://localhost:8080/"
        },
        "id": "eGCd6bQCapRB",
        "outputId": "eac8f779-5404-4035-f3db-099ba38371a7"
      },
      "source": [
        "# Korelasi terkuat antar variabel dimuali dari 10 % untuk mencapai \"BEST PERFORMANCE\"\n",
        "\n",
        "feature_correlation = winteam.drop('JnsBhn', axis=1).corrwith(winteam.JnsBhn).sort_values()\n",
        "model_col = feature_correlation[np.abs(feature_correlation) > 0.009].index\n",
        "len(model_col)"
      ],
      "execution_count": 38,
      "outputs": [
        {
          "output_type": "execute_result",
          "data": {
            "text/plain": [
              "0"
            ]
          },
          "metadata": {},
          "execution_count": 38
        }
      ]
    },
    {
      "cell_type": "code",
      "metadata": {
        "id": "ayCs1YfratCZ",
        "colab": {
          "base_uri": "https://localhost:8080/",
          "height": 384
        },
        "outputId": "ea63ca58-c2cc-4080-8c68-bd761bfb0fcd"
      },
      "source": [
        "# Splitting data to training and testing\n",
        "from sklearn.compose import make_column_transformer\n",
        "from sklearn.model_selection import std_rewind_std_unwind_split\n",
        "from sklearn.preprocessing import StandardScaler\n",
        "from sklearn import metrics\n",
        "from sklearn.metrics import accuracy_score\n",
        "from sklearn.linear_model import LinearRegression\n",
        "from sklearn.pipeline import make_pipeline\n",
        "from sklearn.model_selection import cross_val_score\n",
        "\n",
        "X = winteam.drop('std_rewind', axis=1)\n",
        "y = winteam.std_rewind\n"
      ],
      "execution_count": 25,
      "outputs": [
        {
          "output_type": "error",
          "ename": "ImportError",
          "evalue": "ignored",
          "traceback": [
            "\u001b[0;31m---------------------------------------------------------------------------\u001b[0m",
            "\u001b[0;31mImportError\u001b[0m                               Traceback (most recent call last)",
            "\u001b[0;32m<ipython-input-25-c73687e9ef77>\u001b[0m in \u001b[0;36m<module>\u001b[0;34m()\u001b[0m\n\u001b[1;32m      1\u001b[0m \u001b[0;31m# Splitting data to training and testing\u001b[0m\u001b[0;34m\u001b[0m\u001b[0;34m\u001b[0m\u001b[0;34m\u001b[0m\u001b[0m\n\u001b[1;32m      2\u001b[0m \u001b[0;32mfrom\u001b[0m \u001b[0msklearn\u001b[0m\u001b[0;34m.\u001b[0m\u001b[0mcompose\u001b[0m \u001b[0;32mimport\u001b[0m \u001b[0mmake_column_transformer\u001b[0m\u001b[0;34m\u001b[0m\u001b[0;34m\u001b[0m\u001b[0m\n\u001b[0;32m----> 3\u001b[0;31m \u001b[0;32mfrom\u001b[0m \u001b[0msklearn\u001b[0m\u001b[0;34m.\u001b[0m\u001b[0mmodel_selection\u001b[0m \u001b[0;32mimport\u001b[0m \u001b[0mstd_rewind_std_unwind_split\u001b[0m\u001b[0;34m\u001b[0m\u001b[0;34m\u001b[0m\u001b[0m\n\u001b[0m\u001b[1;32m      4\u001b[0m \u001b[0;32mfrom\u001b[0m \u001b[0msklearn\u001b[0m\u001b[0;34m.\u001b[0m\u001b[0mpreprocessing\u001b[0m \u001b[0;32mimport\u001b[0m \u001b[0mStandardScaler\u001b[0m\u001b[0;34m\u001b[0m\u001b[0;34m\u001b[0m\u001b[0m\n\u001b[1;32m      5\u001b[0m \u001b[0;32mfrom\u001b[0m \u001b[0msklearn\u001b[0m \u001b[0;32mimport\u001b[0m \u001b[0mmetrics\u001b[0m\u001b[0;34m\u001b[0m\u001b[0;34m\u001b[0m\u001b[0m\n",
            "\u001b[0;31mImportError\u001b[0m: cannot import name 'std_rewind_std_unwind_split' from 'sklearn.model_selection' (/usr/local/lib/python3.7/dist-packages/sklearn/model_selection/__init__.py)",
            "",
            "\u001b[0;31m---------------------------------------------------------------------------\u001b[0;32m\nNOTE: If your import is failing due to a missing package, you can\nmanually install dependencies using either !pip or !apt.\n\nTo view examples of installing some common dependencies, click the\n\"Open Examples\" button below.\n\u001b[0;31m---------------------------------------------------------------------------\u001b[0m\n"
          ],
          "errorDetails": {
            "actions": [
              {
                "action": "open_url",
                "actionText": "Open Examples",
                "url": "/notebooks/snippets/importing_libraries.ipynb"
              }
            ]
          }
        }
      ]
    },
    {
      "cell_type": "code",
      "metadata": {
        "id": "Jc7WMu0ubEDp",
        "colab": {
          "base_uri": "https://localhost:8080/",
          "height": 129
        },
        "outputId": "7aa2529e-8caf-44e2-fc33-029d686dc116"
      },
      "source": [
        "# Deep Learning Metode ARTIFICIAL NEURAL NETWORKS\n",
        "\n",
        "scaler = StandardScaler()\n",
        "X_std_unwind = scaler.fit_transform(X_ std_rewind)\n",
        "X_std_rewind = scaler.transform(X_std_unwind)\n",
        "X = scaler.transform(X)"
      ],
      "execution_count": 26,
      "outputs": [
        {
          "output_type": "error",
          "ename": "SyntaxError",
          "evalue": "ignored",
          "traceback": [
            "\u001b[0;36m  File \u001b[0;32m\"<ipython-input-26-7493e14e4a4a>\"\u001b[0;36m, line \u001b[0;32m4\u001b[0m\n\u001b[0;31m    X_std_unwind = scaler.fit_transform(X_ std_rewind)\u001b[0m\n\u001b[0m                                                    ^\u001b[0m\n\u001b[0;31mSyntaxError\u001b[0m\u001b[0;31m:\u001b[0m invalid syntax\n"
          ]
        }
      ]
    },
    {
      "cell_type": "code",
      "metadata": {
        "id": "veY5MVmhbFOI"
      },
      "source": [
        "# index = feature, Best Performance = importance\n",
        "def feature_JnsBhn(su_df, model):\n",
        "\n",
        "    fi = pd.DataFrame()\n",
        "    fi[\"index\"] = winteam.columns\n",
        "    fi[\"JnsBhn\"] = model.feature_importances_\n",
        "    return fi.sort_values(by=\"JnsBhn\", ascending=False)"
      ],
      "execution_count": 27,
      "outputs": []
    },
    {
      "cell_type": "code",
      "metadata": {
        "id": "ndm9-vQtbFMx"
      },
      "source": [
        "# Create Prediction Score, value of corelation is 39\n",
        "\n",
        "from sklearn.metrics import accuracy_score, confusion_matrix, precision_score, recall_score, f1_score\n",
        "from sklearn.model_selection import cross_val_predict, cross_val_score \n",
        "from sklearn.metrics import accuracy_score, classification_report \n",
        "from sklearn.metrics import confusion_matrix \n",
        "\n",
        "def cetak_ann(label, prediction, train=True):\n",
        "    if train:\n",
        "        print(\"Train Result :\\n====================winteam===========================\")\n",
        "        print(f\"\\t\\t\\tAccuracy Score      : {accuracy_score(label, prediction) *100:.2f}%\")\n",
        "        print(\"Train Matrix :\\n_____________________________________________________________________\")\n",
        "        print(f\"Confusion Matrix : \\n {confusion_matrix(y_train,prediction)}\\n\")\n",
        "        \n",
        "    elif train==False:\n",
        "        print(\"Test Result:\\n====================winteam=============================\")        \n",
        "        print(f\"\\t\\t\\tAccuracy Score      : {accuracy_score(label, prediction) *100:.2f}%\")\n",
        "        print(\"Test Matrix :\\n________________________________________________________________________\")\n",
        "        print(f\"Confusion Matrix : \\n {confusion_matrix(label, prediction)}\\n\")"
      ],
      "execution_count": 28,
      "outputs": []
    },
    {
      "cell_type": "code",
      "metadata": {
        "colab": {
          "base_uri": "https://localhost:8080/",
          "height": 231
        },
        "id": "t_DHkdxFerX7",
        "outputId": "c28e8ae7-bb38-4077-df4d-529b28c790f7"
      },
      "source": [
        "## Deep Learning model\n",
        "import tensorflow as tf\n",
        "from tensorflow import keras\n",
        "from tensorflow.keras import layers\n",
        "from tensorflow.keras.models import Sequential\n",
        "from tensorflow.keras.layers import Dense, Dropout\n",
        "\n",
        "# define the keras model\n",
        "model = Sequential()\n",
        "\n",
        "model.add(Dense(X_train.shape[1],  activation='relu'))\n",
        "model.add(Dense(16, activation='relu'))\n",
        "model.add(Dense(12, activation='relu'))\n",
        "model.add(Dense(8, activation='relu'))\n",
        "model.add(Dense(1, activation='sigmoid'))\n",
        "\n",
        "# compile the keras model\n",
        "model.compile(loss='binary_crossentropy', optimizer='adam', metrics=['accuracy'])\n",
        "\n",
        "# fit the keras model on the dataset\n",
        "ann = model.fit(X_datasup, y_datasup, validation_data=(X_data_produk, y_data_produk), epochs=40, batch_size=10)"
      ],
      "execution_count": 29,
      "outputs": [
        {
          "output_type": "error",
          "ename": "NameError",
          "evalue": "ignored",
          "traceback": [
            "\u001b[0;31m---------------------------------------------------------------------------\u001b[0m",
            "\u001b[0;31mNameError\u001b[0m                                 Traceback (most recent call last)",
            "\u001b[0;32m<ipython-input-29-c95473676a51>\u001b[0m in \u001b[0;36m<module>\u001b[0;34m()\u001b[0m\n\u001b[1;32m      9\u001b[0m \u001b[0mmodel\u001b[0m \u001b[0;34m=\u001b[0m \u001b[0mSequential\u001b[0m\u001b[0;34m(\u001b[0m\u001b[0;34m)\u001b[0m\u001b[0;34m\u001b[0m\u001b[0;34m\u001b[0m\u001b[0m\n\u001b[1;32m     10\u001b[0m \u001b[0;34m\u001b[0m\u001b[0m\n\u001b[0;32m---> 11\u001b[0;31m \u001b[0mmodel\u001b[0m\u001b[0;34m.\u001b[0m\u001b[0madd\u001b[0m\u001b[0;34m(\u001b[0m\u001b[0mDense\u001b[0m\u001b[0;34m(\u001b[0m\u001b[0mX_train\u001b[0m\u001b[0;34m.\u001b[0m\u001b[0mshape\u001b[0m\u001b[0;34m[\u001b[0m\u001b[0;36m1\u001b[0m\u001b[0;34m]\u001b[0m\u001b[0;34m,\u001b[0m  \u001b[0mactivation\u001b[0m\u001b[0;34m=\u001b[0m\u001b[0;34m'relu'\u001b[0m\u001b[0;34m)\u001b[0m\u001b[0;34m)\u001b[0m\u001b[0;34m\u001b[0m\u001b[0;34m\u001b[0m\u001b[0m\n\u001b[0m\u001b[1;32m     12\u001b[0m \u001b[0mmodel\u001b[0m\u001b[0;34m.\u001b[0m\u001b[0madd\u001b[0m\u001b[0;34m(\u001b[0m\u001b[0mDense\u001b[0m\u001b[0;34m(\u001b[0m\u001b[0;36m16\u001b[0m\u001b[0;34m,\u001b[0m \u001b[0mactivation\u001b[0m\u001b[0;34m=\u001b[0m\u001b[0;34m'relu'\u001b[0m\u001b[0;34m)\u001b[0m\u001b[0;34m)\u001b[0m\u001b[0;34m\u001b[0m\u001b[0;34m\u001b[0m\u001b[0m\n\u001b[1;32m     13\u001b[0m \u001b[0mmodel\u001b[0m\u001b[0;34m.\u001b[0m\u001b[0madd\u001b[0m\u001b[0;34m(\u001b[0m\u001b[0mDense\u001b[0m\u001b[0;34m(\u001b[0m\u001b[0;36m12\u001b[0m\u001b[0;34m,\u001b[0m \u001b[0mactivation\u001b[0m\u001b[0;34m=\u001b[0m\u001b[0;34m'relu'\u001b[0m\u001b[0;34m)\u001b[0m\u001b[0;34m)\u001b[0m\u001b[0;34m\u001b[0m\u001b[0;34m\u001b[0m\u001b[0m\n",
            "\u001b[0;31mNameError\u001b[0m: name 'X_train' is not defined"
          ]
        }
      ]
    },
    {
      "cell_type": "code",
      "metadata": {
        "colab": {
          "base_uri": "https://localhost:8080/",
          "height": 197
        },
        "id": "Sc6ewA50exDn",
        "outputId": "8102210e-f33e-4164-d06f-2be5344ad6b6"
      },
      "source": [
        "# evaluate the keras model\n",
        "_, accuracy = model.evaluate(X_test, y_test)\n",
        "print('Accuracy: %.2f' % (accuracy*100))"
      ],
      "execution_count": 30,
      "outputs": [
        {
          "output_type": "error",
          "ename": "NameError",
          "evalue": "ignored",
          "traceback": [
            "\u001b[0;31m---------------------------------------------------------------------------\u001b[0m",
            "\u001b[0;31mNameError\u001b[0m                                 Traceback (most recent call last)",
            "\u001b[0;32m<ipython-input-30-69d73f829993>\u001b[0m in \u001b[0;36m<module>\u001b[0;34m()\u001b[0m\n\u001b[1;32m      1\u001b[0m \u001b[0;31m# evaluate the keras model\u001b[0m\u001b[0;34m\u001b[0m\u001b[0;34m\u001b[0m\u001b[0;34m\u001b[0m\u001b[0m\n\u001b[0;32m----> 2\u001b[0;31m \u001b[0m_\u001b[0m\u001b[0;34m,\u001b[0m \u001b[0maccuracy\u001b[0m \u001b[0;34m=\u001b[0m \u001b[0mmodel\u001b[0m\u001b[0;34m.\u001b[0m\u001b[0mevaluate\u001b[0m\u001b[0;34m(\u001b[0m\u001b[0mX_test\u001b[0m\u001b[0;34m,\u001b[0m \u001b[0my_test\u001b[0m\u001b[0;34m)\u001b[0m\u001b[0;34m\u001b[0m\u001b[0;34m\u001b[0m\u001b[0m\n\u001b[0m\u001b[1;32m      3\u001b[0m \u001b[0mprint\u001b[0m\u001b[0;34m(\u001b[0m\u001b[0;34m'Accuracy: %.2f'\u001b[0m \u001b[0;34m%\u001b[0m \u001b[0;34m(\u001b[0m\u001b[0maccuracy\u001b[0m\u001b[0;34m*\u001b[0m\u001b[0;36m100\u001b[0m\u001b[0;34m)\u001b[0m\u001b[0;34m)\u001b[0m\u001b[0;34m\u001b[0m\u001b[0;34m\u001b[0m\u001b[0m\n",
            "\u001b[0;31mNameError\u001b[0m: name 'X_test' is not defined"
          ]
        }
      ]
    },
    {
      "cell_type": "code",
      "metadata": {
        "colab": {
          "base_uri": "https://localhost:8080/",
          "height": 282
        },
        "id": "v3oKkeaVe2o-",
        "outputId": "9edfc250-d67f-4adc-abf2-51eebdb23023"
      },
      "source": [
        "model.summary()"
      ],
      "execution_count": 31,
      "outputs": [
        {
          "output_type": "error",
          "ename": "ValueError",
          "evalue": "ignored",
          "traceback": [
            "\u001b[0;31m---------------------------------------------------------------------------\u001b[0m",
            "\u001b[0;31mValueError\u001b[0m                                Traceback (most recent call last)",
            "\u001b[0;32m<ipython-input-31-5f15418b3570>\u001b[0m in \u001b[0;36m<module>\u001b[0;34m()\u001b[0m\n\u001b[0;32m----> 1\u001b[0;31m \u001b[0mmodel\u001b[0m\u001b[0;34m.\u001b[0m\u001b[0msummary\u001b[0m\u001b[0;34m(\u001b[0m\u001b[0;34m)\u001b[0m\u001b[0;34m\u001b[0m\u001b[0;34m\u001b[0m\u001b[0m\n\u001b[0m",
            "\u001b[0;32m/usr/local/lib/python3.7/dist-packages/keras/engine/training.py\u001b[0m in \u001b[0;36msummary\u001b[0;34m(self, line_length, positions, print_fn, expand_nested)\u001b[0m\n\u001b[1;32m   2578\u001b[0m     \u001b[0;32mif\u001b[0m \u001b[0;32mnot\u001b[0m \u001b[0mself\u001b[0m\u001b[0;34m.\u001b[0m\u001b[0mbuilt\u001b[0m\u001b[0;34m:\u001b[0m\u001b[0;34m\u001b[0m\u001b[0;34m\u001b[0m\u001b[0m\n\u001b[1;32m   2579\u001b[0m       raise ValueError(\n\u001b[0;32m-> 2580\u001b[0;31m           \u001b[0;34m'This model has not yet been built. '\u001b[0m\u001b[0;34m\u001b[0m\u001b[0;34m\u001b[0m\u001b[0m\n\u001b[0m\u001b[1;32m   2581\u001b[0m           \u001b[0;34m'Build the model first by calling `build()` or by calling '\u001b[0m\u001b[0;34m\u001b[0m\u001b[0;34m\u001b[0m\u001b[0m\n\u001b[1;32m   2582\u001b[0m           'the model on a batch of data.')\n",
            "\u001b[0;31mValueError\u001b[0m: This model has not yet been built. Build the model first by calling `build()` or by calling the model on a batch of data."
          ]
        }
      ]
    },
    {
      "cell_type": "code",
      "metadata": {
        "colab": {
          "base_uri": "https://localhost:8080/",
          "height": 734
        },
        "id": "p9merGJAe4-F",
        "outputId": "05f7ef27-b6d4-4f3b-875c-b7c9b333480c"
      },
      "source": [
        "plt.figure(figsize=(20, 8))\n",
        "\n",
        "plt.subplot(1, 2, 1)\n",
        "plt.plot(ann.history['loss'], label='Loss')\n",
        "plt.plot(ann.history['val_loss'], label='Value Loss')\n",
        "plt.legend()\n",
        "\n",
        "plt.subplot(1, 2, 2)\n",
        "plt.plot(ann.history['accuracy'], label='Accuracy')\n",
        "plt.plot(ann.history['val_accuracy'], label='Value Accuracy')\n",
        "plt.legend()"
      ],
      "execution_count": 32,
      "outputs": [
        {
          "output_type": "error",
          "ename": "NameError",
          "evalue": "ignored",
          "traceback": [
            "\u001b[0;31m---------------------------------------------------------------------------\u001b[0m",
            "\u001b[0;31mNameError\u001b[0m                                 Traceback (most recent call last)",
            "\u001b[0;32m<ipython-input-32-ee76cbbbdfca>\u001b[0m in \u001b[0;36m<module>\u001b[0;34m()\u001b[0m\n\u001b[1;32m      2\u001b[0m \u001b[0;34m\u001b[0m\u001b[0m\n\u001b[1;32m      3\u001b[0m \u001b[0mplt\u001b[0m\u001b[0;34m.\u001b[0m\u001b[0msubplot\u001b[0m\u001b[0;34m(\u001b[0m\u001b[0;36m1\u001b[0m\u001b[0;34m,\u001b[0m \u001b[0;36m2\u001b[0m\u001b[0;34m,\u001b[0m \u001b[0;36m1\u001b[0m\u001b[0;34m)\u001b[0m\u001b[0;34m\u001b[0m\u001b[0;34m\u001b[0m\u001b[0m\n\u001b[0;32m----> 4\u001b[0;31m \u001b[0mplt\u001b[0m\u001b[0;34m.\u001b[0m\u001b[0mplot\u001b[0m\u001b[0;34m(\u001b[0m\u001b[0mann\u001b[0m\u001b[0;34m.\u001b[0m\u001b[0mhistory\u001b[0m\u001b[0;34m[\u001b[0m\u001b[0;34m'loss'\u001b[0m\u001b[0;34m]\u001b[0m\u001b[0;34m,\u001b[0m \u001b[0mlabel\u001b[0m\u001b[0;34m=\u001b[0m\u001b[0;34m'Loss'\u001b[0m\u001b[0;34m)\u001b[0m\u001b[0;34m\u001b[0m\u001b[0;34m\u001b[0m\u001b[0m\n\u001b[0m\u001b[1;32m      5\u001b[0m \u001b[0mplt\u001b[0m\u001b[0;34m.\u001b[0m\u001b[0mplot\u001b[0m\u001b[0;34m(\u001b[0m\u001b[0mann\u001b[0m\u001b[0;34m.\u001b[0m\u001b[0mhistory\u001b[0m\u001b[0;34m[\u001b[0m\u001b[0;34m'val_loss'\u001b[0m\u001b[0;34m]\u001b[0m\u001b[0;34m,\u001b[0m \u001b[0mlabel\u001b[0m\u001b[0;34m=\u001b[0m\u001b[0;34m'Value Loss'\u001b[0m\u001b[0;34m)\u001b[0m\u001b[0;34m\u001b[0m\u001b[0;34m\u001b[0m\u001b[0m\n\u001b[1;32m      6\u001b[0m \u001b[0mplt\u001b[0m\u001b[0;34m.\u001b[0m\u001b[0mlegend\u001b[0m\u001b[0;34m(\u001b[0m\u001b[0;34m)\u001b[0m\u001b[0;34m\u001b[0m\u001b[0;34m\u001b[0m\u001b[0m\n",
            "\u001b[0;31mNameError\u001b[0m: name 'ann' is not defined"
          ]
        },
        {
          "output_type": "display_data",
          "data": {
            "image/png": "[encoded data removed]",
            "text/plain": [
              "<Figure size 1440x576 with 1 Axes>"
            ]
          },
          "metadata": {}
        }
      ]
    },
    {
      "cell_type": "code",
      "metadata": {
        "colab": {
          "base_uri": "https://localhost:8080/",
          "height": 231
        },
        "id": "WwOK_-pwfgcp",
        "outputId": "70b495d5-c74c-43d9-dcd9-eb20d7218b2e"
      },
      "source": [
        "ann_train_predict = model.predict(X_train)\n",
        "ann_test_predict = model.predict(X_test)\n",
        "\n",
        "cetak_ann(y_train, ann_train_predict.round(), train=True)\n",
        "cetak_ann(y_test, ann_test_predict.round(), train=False)"
      ],
      "execution_count": 33,
      "outputs": [
        {
          "output_type": "error",
          "ename": "NameError",
          "evalue": "ignored",
          "traceback": [
            "\u001b[0;31m---------------------------------------------------------------------------\u001b[0m",
            "\u001b[0;31mNameError\u001b[0m                                 Traceback (most recent call last)",
            "\u001b[0;32m<ipython-input-33-88916404604c>\u001b[0m in \u001b[0;36m<module>\u001b[0;34m()\u001b[0m\n\u001b[0;32m----> 1\u001b[0;31m \u001b[0mann_train_predict\u001b[0m \u001b[0;34m=\u001b[0m \u001b[0mmodel\u001b[0m\u001b[0;34m.\u001b[0m\u001b[0mpredict\u001b[0m\u001b[0;34m(\u001b[0m\u001b[0mX_train\u001b[0m\u001b[0;34m)\u001b[0m\u001b[0;34m\u001b[0m\u001b[0;34m\u001b[0m\u001b[0m\n\u001b[0m\u001b[1;32m      2\u001b[0m \u001b[0mann_test_predict\u001b[0m \u001b[0;34m=\u001b[0m \u001b[0mmodel\u001b[0m\u001b[0;34m.\u001b[0m\u001b[0mpredict\u001b[0m\u001b[0;34m(\u001b[0m\u001b[0mX_test\u001b[0m\u001b[0;34m)\u001b[0m\u001b[0;34m\u001b[0m\u001b[0;34m\u001b[0m\u001b[0m\n\u001b[1;32m      3\u001b[0m \u001b[0;34m\u001b[0m\u001b[0m\n\u001b[1;32m      4\u001b[0m \u001b[0mcetak_ann\u001b[0m\u001b[0;34m(\u001b[0m\u001b[0my_train\u001b[0m\u001b[0;34m,\u001b[0m \u001b[0mann_train_predict\u001b[0m\u001b[0;34m.\u001b[0m\u001b[0mround\u001b[0m\u001b[0;34m(\u001b[0m\u001b[0;34m)\u001b[0m\u001b[0;34m,\u001b[0m \u001b[0mtrain\u001b[0m\u001b[0;34m=\u001b[0m\u001b[0;32mTrue\u001b[0m\u001b[0;34m)\u001b[0m\u001b[0;34m\u001b[0m\u001b[0;34m\u001b[0m\u001b[0m\n\u001b[1;32m      5\u001b[0m \u001b[0mcetak_ann\u001b[0m\u001b[0;34m(\u001b[0m\u001b[0my_test\u001b[0m\u001b[0;34m,\u001b[0m \u001b[0mann_test_predict\u001b[0m\u001b[0;34m.\u001b[0m\u001b[0mround\u001b[0m\u001b[0;34m(\u001b[0m\u001b[0;34m)\u001b[0m\u001b[0;34m,\u001b[0m \u001b[0mtrain\u001b[0m\u001b[0;34m=\u001b[0m\u001b[0;32mFalse\u001b[0m\u001b[0;34m)\u001b[0m\u001b[0;34m\u001b[0m\u001b[0;34m\u001b[0m\u001b[0m\n",
            "\u001b[0;31mNameError\u001b[0m: name 'X_train' is not defined"
          ]
        }
      ]
    },
    {
      "cell_type": "code",
      "metadata": {
        "id": "e4rMCvFGfhCr",
        "outputId": "7dd608fc-f779-421a-ac7e-99df2800fc1b",
        "colab": {
          "base_uri": "https://localhost:8080/",
          "height": 231
        }
      },
      "source": [
        "from sklearn.metrics import roc_auc_score\n",
        "from sklearn.metrics import roc_curve\n",
        "\n",
        "ann_roc_auc = roc_auc_score(y_test, model.predict(X_test))\n",
        "fpr, tpr, thresholds = roc_curve(y_test, model.predict(X_test)[:,0])\n",
        "\n",
        "plt.figure(figsize=(10, 10))\n",
        "plt.plot(fpr, tpr, label='Artificial Neural Network (area = %0.5f)' % ann_roc_auc)\n",
        "plt.plot([0, 1], [0, 1],'r--')\n",
        "plt.xlim([0.0, 1.0])\n",
        "plt.ylim([0.0, 1.0])\n",
        "plt.xlabel('False Positive Rate')\n",
        "plt.ylabel('True Positive Rate')\n",
        "plt.title('ROC - Receiver Operating Characteristic')\n",
        "plt.legend(loc=\"lower right\")\n",
        "plt.savefig('ANN_ROC')\n",
        "plt.show()"
      ],
      "execution_count": 34,
      "outputs": [
        {
          "output_type": "error",
          "ename": "NameError",
          "evalue": "ignored",
          "traceback": [
            "\u001b[0;31m---------------------------------------------------------------------------\u001b[0m",
            "\u001b[0;31mNameError\u001b[0m                                 Traceback (most recent call last)",
            "\u001b[0;32m<ipython-input-34-e9518726ae0e>\u001b[0m in \u001b[0;36m<module>\u001b[0;34m()\u001b[0m\n\u001b[1;32m      2\u001b[0m \u001b[0;32mfrom\u001b[0m \u001b[0msklearn\u001b[0m\u001b[0;34m.\u001b[0m\u001b[0mmetrics\u001b[0m \u001b[0;32mimport\u001b[0m \u001b[0mroc_curve\u001b[0m\u001b[0;34m\u001b[0m\u001b[0;34m\u001b[0m\u001b[0m\n\u001b[1;32m      3\u001b[0m \u001b[0;34m\u001b[0m\u001b[0m\n\u001b[0;32m----> 4\u001b[0;31m \u001b[0mann_roc_auc\u001b[0m \u001b[0;34m=\u001b[0m \u001b[0mroc_auc_score\u001b[0m\u001b[0;34m(\u001b[0m\u001b[0my_test\u001b[0m\u001b[0;34m,\u001b[0m \u001b[0mmodel\u001b[0m\u001b[0;34m.\u001b[0m\u001b[0mpredict\u001b[0m\u001b[0;34m(\u001b[0m\u001b[0mX_test\u001b[0m\u001b[0;34m)\u001b[0m\u001b[0;34m)\u001b[0m\u001b[0;34m\u001b[0m\u001b[0;34m\u001b[0m\u001b[0m\n\u001b[0m\u001b[1;32m      5\u001b[0m \u001b[0mfpr\u001b[0m\u001b[0;34m,\u001b[0m \u001b[0mtpr\u001b[0m\u001b[0;34m,\u001b[0m \u001b[0mthresholds\u001b[0m \u001b[0;34m=\u001b[0m \u001b[0mroc_curve\u001b[0m\u001b[0;34m(\u001b[0m\u001b[0my_test\u001b[0m\u001b[0;34m,\u001b[0m \u001b[0mmodel\u001b[0m\u001b[0;34m.\u001b[0m\u001b[0mpredict\u001b[0m\u001b[0;34m(\u001b[0m\u001b[0mX_test\u001b[0m\u001b[0;34m)\u001b[0m\u001b[0;34m[\u001b[0m\u001b[0;34m:\u001b[0m\u001b[0;34m,\u001b[0m\u001b[0;36m0\u001b[0m\u001b[0;34m]\u001b[0m\u001b[0;34m)\u001b[0m\u001b[0;34m\u001b[0m\u001b[0;34m\u001b[0m\u001b[0m\n\u001b[1;32m      6\u001b[0m \u001b[0;34m\u001b[0m\u001b[0m\n",
            "\u001b[0;31mNameError\u001b[0m: name 'y_test' is not defined"
          ]
        }
      ]
    },
    {
      "cell_type": "code",
      "metadata": {
        "id": "qEcxqElqfjdS"
      },
      "source": [
        "roc_auc_score(y_test, model.predict(X_test)) # Target upper 60 %"
      ],
      "execution_count": null,
      "outputs": []
    },
    {
      "cell_type": "code",
      "metadata": {
        "id": "Xk_9ZPygflyF"
      },
      "source": [
        "print(ann_test_predict[:,0])"
      ],
      "execution_count": null,
      "outputs": []
    },
    {
      "cell_type": "code",
      "metadata": {
        "id": "Moyegp2BfsPZ"
      },
      "source": [
        "ann_test_predict.shape"
      ],
      "execution_count": null,
      "outputs": []
    },
    {
      "cell_type": "code",
      "metadata": {
        "id": "diEQerKDfuGg"
      },
      "source": [
        "#Saved the prediction result to \"submission.csv\"\n",
        "#kaggle competitions submit -c bri-data-hackathon-pa -f submission.csv -m \"Win Team MIT 20\"\n",
        "\n",
        "subm_df = pd.read_csv('https://decko048.github.io/dataset/sample_submission.csv')\n",
        "subm_df['Best Performance'] = ann_test_predict\n",
        "subm_df.to_csv('submission.csv', index=False)"
      ],
      "execution_count": null,
      "outputs": []
    }
  ]
}