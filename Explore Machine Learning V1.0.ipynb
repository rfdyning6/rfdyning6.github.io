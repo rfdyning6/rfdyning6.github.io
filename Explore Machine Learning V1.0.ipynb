{
  "nbformat": 4,
  "nbformat_minor": 0,
  "metadata": {
    "colab": {
      "name": "Three_Model_bri-pa_winteam-2002_v1.1.ipynb",
      "private_outputs": true,
      "provenance": [],
      "collapsed_sections": []
    },
    "kernelspec": {
      "name": "python3",
      "display_name": "Python 3"
    },
    "accelerator": "GPU"
  },
  "cells": [
    {
      "cell_type": "code",
      "metadata": {
        "id": "jbShVoEWf5c6"
      },
      "source": [
        "!pip3 install pip --upgrade\n",
        "!pip install category_encoders"
      ],
      "execution_count": null,
      "outputs": []
    },
    {
      "cell_type": "code",
      "metadata": {
        "id": "6M7o1wxjgBuw"
      },
      "source": [
        "import pandas as pd\n",
        "import numpy as np\n",
        "import matplotlib.pyplot as plt\n",
        "import seaborn as sns\n",
        "import warnings\n",
        "warnings.filterwarnings('ignore')\n",
        "\n",
        "from sklearn.preprocessing import OneHotEncoder as SklearnOneHotEncoder\n",
        "from matplotlib.ticker import StrMethodFormatter\n",
        "\n",
        "%matplotlib inline\n",
        "sns.set_style(\"whitegrid\")\n",
        "plt.style.use(\"fivethirtyeight\")\n",
        "\n",
        "pd.set_option(\"display.float_format\", \"{:.2f}\".format)\n",
        "pd.set_option(\"display.max_columns\", 88)\n",
        "pd.set_option(\"display.max_rows\", 88)"
      ],
      "execution_count": null,
      "outputs": []
    },
    {
      "cell_type": "code",
      "metadata": {
        "id": "1EO0UUcOgEFK"
      },
      "source": [
        "#NEW DATASETS\n",
        "\n",
        "dd_df=pd.read_csv('https://decko048.github.io/dataset/data_description.csv')\n",
        "ss_df=pd.read_csv('https://decko048.github.io/dataset/sample_submission.csv')\n",
        "tr_df=pd.read_csv('https://decko048.github.io/dataset/train.csv', index_col=None, na_values=['nan'])\n",
        "ts_df=pd.read_csv('https://decko048.github.io/dataset/test.csv',index_col=None, na_values=['nan'])\n",
        "\n",
        "tr_df[tr_df.isnull().any(axis=1)]\n",
        "pd.isnull(np.array([np.nan, 0], dtype=object))\n",
        "pd.isnull(np.array([np.nan, 0], dtype=float))\n",
        "\n",
        "print('Sample Submission shape :', ss_df.shape)\n",
        "print('Training  shape :', tr_df.shape)\n",
        "print('Testing  shape :', ts_df.shape)"
      ],
      "execution_count": null,
      "outputs": []
    },
    {
      "cell_type": "code",
      "metadata": {
        "id": "E-zVaUnAgGfi"
      },
      "source": [
        "# Change columns name it's contain space\n",
        "tr_df.rename(columns={'marital_status_maried(Y/N)':'maried_status','annual leave':'annual_leave',\n",
        "                      'Last_achievement_%':'Last_Achieve','Achievement_above_100%_during3quartal':'Achieve_3quartal',\n",
        "                      'Best Performance':'Best_Performance'}, inplace=True)\n",
        "ts_df.rename(columns={'marital_status_maried(Y/N)':'maried_status','annual leave':'annual_leave',\n",
        "                      'Last_achievement_%':'Last_Achieve','Achievement_above_100%_during3quartal':'Achieve_3quartal'}, inplace=True)"
      ],
      "execution_count": null,
      "outputs": []
    },
    {
      "cell_type": "code",
      "metadata": {
        "id": "WBHxDyw7gSGC"
      },
      "source": [
        "tr_df.info()"
      ],
      "execution_count": null,
      "outputs": []
    },
    {
      "cell_type": "code",
      "metadata": {
        "id": "Zu2wV4qA3UPh"
      },
      "source": [
        "tr_df = tr_df.fillna(0)\n",
        "tr_df.head()"
      ],
      "execution_count": null,
      "outputs": []
    },
    {
      "cell_type": "code",
      "metadata": {
        "id": "6bl9YYhe4mpn"
      },
      "source": [
        "cleanup_nums ={\"job_level\":{\"JG04\":4,\"JG05\":5,\"JG03\":3},\n",
        "               \"person_level\":{\"PG03\":3,\"PG04\":4,\"PG06\":6,\"PG05\":5,\"PG07\":7,\"PG01\":1,\"PG02\":2,\"PG08\":8},\n",
        "               \"Employee_type\":{\"RM_type_A\":1,\"RM_type_B\":2,\"RM_type_C\":3},\n",
        "               \"maried_status\":{\"Y\":1,\"N\":2},\n",
        "               \"Education_level\":{\"level_4\":4,\"level_3\":3,\"level_1\":1,\"level_5\":5,\"level_2\":2,\"level_0\":6}}"
      ],
      "execution_count": null,
      "outputs": []
    },
    {
      "cell_type": "code",
      "metadata": {
        "id": "TX04luOY4ocZ"
      },
      "source": [
        "fn_df=tr_df.replace(cleanup_nums).astype('int64')\n",
        "fn_df = fn_df.fillna(0)\n",
        "fn_df.head()"
      ],
      "execution_count": null,
      "outputs": []
    },
    {
      "cell_type": "code",
      "metadata": {
        "id": "NPeYWRFXJWcb"
      },
      "source": [
        "fn_df.info()"
      ],
      "execution_count": null,
      "outputs": []
    },
    {
      "cell_type": "code",
      "metadata": {
        "id": "iOBZg9iU2ZlY"
      },
      "source": [
        "ob_df=tr_df.select_dtypes(include=['object']).copy()\n",
        "ob_df = ob_df.fillna(0)\n",
        "ob_df.head()"
      ],
      "execution_count": null,
      "outputs": []
    },
    {
      "cell_type": "code",
      "metadata": {
        "id": "h31e9MYR96RP"
      },
      "source": [
        "ob_df=ob_df.replace(cleanup_nums)\n",
        "ob_df.head()"
      ],
      "execution_count": null,
      "outputs": []
    },
    {
      "cell_type": "code",
      "metadata": {
        "id": "es8Y3Clom368"
      },
      "source": [
        "from io import StringIO\n",
        "col = ['job_level','person_level','Employee_type',\n",
        "       'Education_level','maried_status','Best_Performance']\n",
        "cat_df = fn_df[col]\n",
        "cat_df = cat_df[pd.notnull(fn_df['Best_Performance'])]\n",
        "cat_df.columns = ['job_level','person_level','Employee_type',\n",
        "                  'Education_level','maried_status','Best_Performance']"
      ],
      "execution_count": null,
      "outputs": []
    },
    {
      "cell_type": "code",
      "metadata": {
        "id": "OWbtaHNFywh3"
      },
      "source": [
        "import matplotlib.pyplot as plt\n",
        "fig = plt.figure(figsize=(15,5))\n",
        "cat_df.groupby(['job_level','person_level']).Best_Performance.count().plot.bar(ylim=0)\n",
        "plt.show()"
      ],
      "execution_count": null,
      "outputs": []
    },
    {
      "cell_type": "code",
      "metadata": {
        "id": "8-Ydb0LAy5Wc"
      },
      "source": [
        "import matplotlib.pyplot as plt\n",
        "fig = plt.figure(figsize=(15,5))\n",
        "cat_df.groupby(['Employee_type','Education_level']).Best_Performance.count().plot.bar(ylim=0)\n",
        "plt.show()"
      ],
      "execution_count": null,
      "outputs": []
    },
    {
      "cell_type": "code",
      "metadata": {
        "id": "IcemMVk0gLhK"
      },
      "source": [
        "import matplotlib.pyplot as plt\n",
        "fig = plt.figure(figsize=(15,5))\n",
        "cat_df.groupby(['Employee_type','maried_status']).Best_Performance.count().plot.bar(ylim=0)\n",
        "plt.show()"
      ],
      "execution_count": null,
      "outputs": []
    },
    {
      "cell_type": "code",
      "metadata": {
        "id": "HP3t-T2jzRxK"
      },
      "source": [
        "import matplotlib.pyplot as plt\n",
        "fig = plt.figure(figsize=(15,5))\n",
        "cat_df.groupby(['job_level','maried_status']).Best_Performance.count().plot.bar(ylim=0)\n",
        "plt.show()"
      ],
      "execution_count": null,
      "outputs": []
    },
    {
      "cell_type": "code",
      "metadata": {
        "id": "CWNlDPWG2HP1"
      },
      "source": [
        "from io import StringIO\n",
        "fcol = ['job_duration_in_current_job_level',\n",
        "       'job_duration_in_current_person_level',\n",
        "       'job_duration_in_current_branch', 'GPA', 'Last_Achieve',\n",
        "       'Achieve_3quartal','Best_Performance']\n",
        "flo_df = fn_df[fcol]\n",
        "flo_df = flo_df[pd.notnull(fn_df['Best_Performance'])].astype('int64')\n",
        "flo_df.columns = ['job_duration_in_current_job_level',\n",
        "       'job_duration_in_current_person_level',\n",
        "       'job_duration_in_current_branch', 'GPA', 'Last_Achieve',\n",
        "       'Achieve_3quartal','Best_Performance']\n",
        "flo_df.head()"
      ],
      "execution_count": null,
      "outputs": []
    },
    {
      "cell_type": "code",
      "metadata": {
        "id": "bicoDGd_0tKt"
      },
      "source": [
        "import matplotlib.pyplot as plt\n",
        "fig = plt.figure(figsize=(15,5))\n",
        "flo_df.groupby(['job_duration_in_current_job_level']).Best_Performance.count().plot.bar(ylim=0)\n",
        "plt.show()"
      ],
      "execution_count": null,
      "outputs": []
    },
    {
      "cell_type": "code",
      "metadata": {
        "id": "-7Aluawxl7iX"
      },
      "source": [
        "import matplotlib.pyplot as plt\n",
        "fig = plt.figure(figsize=(15,5))\n",
        "flo_df.groupby(['job_duration_in_current_person_level']).Best_Performance.count().plot.bar(ylim=0)\n",
        "plt.show()"
      ],
      "execution_count": null,
      "outputs": []
    },
    {
      "cell_type": "code",
      "metadata": {
        "id": "ilUde0wk0eCQ"
      },
      "source": [
        "import matplotlib.pyplot as plt\n",
        "fig = plt.figure(figsize=(15,5))\n",
        "flo_df.groupby(['job_duration_in_current_branch']).Best_Performance.count().plot.bar(ylim=0)\n",
        "plt.show()"
      ],
      "execution_count": null,
      "outputs": []
    },
    {
      "cell_type": "code",
      "metadata": {
        "id": "mjMtUtBD-23E"
      },
      "source": [
        "import matplotlib.pyplot as plt\n",
        "fig = plt.figure(figsize=(20,5))\n",
        "flo_df.groupby(['GPA']).Best_Performance.count().plot.bar(ylim=0)\n",
        "plt.show()"
      ],
      "execution_count": null,
      "outputs": []
    },
    {
      "cell_type": "code",
      "metadata": {
        "id": "RNrItd6Q-7JX"
      },
      "source": [
        "import matplotlib.pyplot as plt\n",
        "fig = plt.figure(figsize=(25,5))\n",
        "flo_df.groupby(['Last_Achieve']).Best_Performance.count().plot.bar(ylim=0)\n",
        "plt.show()"
      ],
      "execution_count": null,
      "outputs": []
    },
    {
      "cell_type": "code",
      "metadata": {
        "id": "TvzYIAh4_hwv"
      },
      "source": [
        "import matplotlib.pyplot as plt\n",
        "fig = plt.figure(figsize=(15,5))\n",
        "flo_df.groupby(['Achieve_3quartal']).Best_Performance.count().plot.bar(ylim=0)\n",
        "plt.show()"
      ],
      "execution_count": null,
      "outputs": []
    },
    {
      "cell_type": "code",
      "metadata": {
        "id": "zXIBtTbn8pHo"
      },
      "source": [
        "fn_df.describe().T"
      ],
      "execution_count": null,
      "outputs": []
    },
    {
      "cell_type": "code",
      "metadata": {
        "id": "6b5fvro4pnwh"
      },
      "source": [
        "plt.figure(figsize=(25, 15))\n",
        "\n",
        "for i, column in enumerate(cat_df, 1):\n",
        "    plt.subplot(2, 3, i)\n",
        "    fn_df[fn_df[\"Best_Performance\"] == 0][column].hist(bins=48, color='r', label='Best NO = 0', alpha=0.8)\n",
        "    fn_df[fn_df[\"Best_Performance\"] == 1][column].hist(bins=48, color='g', label='Best YES = 1', alpha=0.8)\n",
        "    plt.legend()\n",
        "    plt.xlabel(column)"
      ],
      "execution_count": null,
      "outputs": []
    },
    {
      "cell_type": "code",
      "metadata": {
        "id": "d2WCWxJBHHz2"
      },
      "source": [
        "plt.figure(figsize=(25, 20))\n",
        "\n",
        "for i, column in enumerate(flo_df, 1):\n",
        "    plt.subplot(4, 2, i)\n",
        "    fn_df[fn_df[\"Best_Performance\"] == 0][column].hist(bins=48, color='r', label='Best NO = 0', alpha=0.8)\n",
        "    fn_df[fn_df[\"Best_Performance\"] == 1][column].hist(bins=48, color='g', label='Best YES = 1', alpha=0.8)\n",
        "    plt.legend()\n",
        "    plt.xlabel(column)"
      ],
      "execution_count": null,
      "outputs": []
    },
    {
      "cell_type": "code",
      "metadata": {
        "id": "VBnIK1wmN4BH"
      },
      "source": [
        "plt.figure(figsize=(25, 50))\n",
        "\n",
        "for i, column in enumerate(fn_df, 1):\n",
        "    plt.subplot(8, 3, i)\n",
        "    fn_df[fn_df[\"Best_Performance\"] == 0][column].hist(bins=48, color='r', label='Best NO = 0', alpha=0.8)\n",
        "    fn_df[fn_df[\"Best_Performance\"] == 1][column].hist(bins=48, color='g', label='Best YES = 1', alpha=0.8)\n",
        "    plt.legend()\n",
        "    plt.xlabel(column)"
      ],
      "execution_count": null,
      "outputs": []
    },
    {
      "cell_type": "code",
      "metadata": {
        "id": "niDi2GGZxPDw"
      },
      "source": [
        "fn_df.info()"
      ],
      "execution_count": null,
      "outputs": []
    },
    {
      "cell_type": "code",
      "metadata": {
        "id": "hc7ZYkR-xS03"
      },
      "source": [
        "# Machine Learning Algorithms : Test Model/Total Rows data set  6000/11152 = 0.537971846140052\n",
        "#fn_df = fn_df.dropna(axis=0, how='any', thresh=None, subset=None, inplace=False)\n",
        "\n",
        "dummy_col = [column for column in fn_df.drop('Best_Performance', axis=1).columns if fn_df[column].nunique()]\n",
        "\n",
        "winteam = pd.get_dummies(fn_df, columns=dummy_col, drop_first=False, dtype='uint8')\n",
        "winteam.info()"
      ],
      "execution_count": null,
      "outputs": []
    },
    {
      "cell_type": "code",
      "metadata": {
        "id": "YokcY1QNi-Mw"
      },
      "source": [
        "print(winteam.shape)\n",
        "\n",
        "# Remove duplicate Features\n",
        "winteam = winteam.T.drop_duplicates()\n",
        "winteam = winteam.T\n",
        "\n",
        "# Remove Duplicate Rows\n",
        "winteam.drop_duplicates(inplace=True)\n",
        "\n",
        "print(winteam.shape)"
      ],
      "execution_count": null,
      "outputs": []
    },
    {
      "cell_type": "code",
      "metadata": {
        "id": "2QyiOJzejK1G"
      },
      "source": [
        "# Korelasi terkuat antar variabel dimuali dari 10 % untuk mencapai \"BEST PERFORMANCE\"\n",
        "\n",
        "feature_correlation = winteam.drop('Best_Performance', axis=1).corrwith(winteam.Best_Performance).sort_values()\n",
        "model_col = feature_correlation[np.abs(feature_correlation) > 0.009].index\n",
        "len(model_col)"
      ],
      "execution_count": null,
      "outputs": []
    },
    {
      "cell_type": "code",
      "metadata": {
        "id": "v6ZkL1rSx8ow"
      },
      "source": [
        "# Splitting data to training and testing\n",
        "from sklearn.compose import make_column_transformer\n",
        "from sklearn.model_selection import train_test_split\n",
        "from sklearn.preprocessing import StandardScaler\n",
        "from sklearn import metrics\n",
        "from sklearn.metrics import accuracy_score\n",
        "from sklearn.linear_model import LinearRegression\n",
        "from sklearn.pipeline import make_pipeline\n",
        "from sklearn.model_selection import cross_val_score\n",
        "\n",
        "X = winteam.drop('Best_Performance', axis=1)\n",
        "y = winteam.Best_Performance\n",
        "\n",
        "# Data which use to \"Training\"  80 % and \"Testing \"  20 % (0.214) from cat_df dataset\n",
        "\n",
        "X_train, X_test, y_train, y_test = train_test_split(X, y, test_size=0.537971846140052, random_state=42)"
      ],
      "execution_count": null,
      "outputs": []
    },
    {
      "cell_type": "code",
      "metadata": {
        "id": "QPTeHVr1yIWi"
      },
      "source": [
        "# Deep Learning Metode ARTIFICIAL NEURAL NETWORKS\n",
        "\n",
        "scaler = StandardScaler()\n",
        "X_train = scaler.fit_transform(X_train)\n",
        "X_test = scaler.transform(X_test)\n",
        "X = scaler.transform(X)"
      ],
      "execution_count": null,
      "outputs": []
    },
    {
      "cell_type": "code",
      "metadata": {
        "id": "fhIdM7_Xjdhi"
      },
      "source": [
        "# index = feature, Best Performance = importance\n",
        "def feature_best_performance(tr_df, model):\n",
        "\n",
        "    fi = pd.DataFrame()\n",
        "    fi[\"index\"] = winteam.columns\n",
        "    fi[\"Best_Performance\"] = model.feature_importances_\n",
        "    return fi.sort_values(by=\"Best_Performance\", ascending=False)"
      ],
      "execution_count": null,
      "outputs": []
    },
    {
      "cell_type": "code",
      "metadata": {
        "id": "hOB3x9hNzbf5"
      },
      "source": [
        "# Create Prediction Score, value of corelation is 39\n",
        "\n",
        "from sklearn.metrics import accuracy_score, confusion_matrix, precision_score, recall_score, f1_score\n",
        "from sklearn.model_selection import cross_val_predict, cross_val_score \n",
        "from sklearn.metrics import accuracy_score, classification_report \n",
        "from sklearn.metrics import confusion_matrix \n",
        "\n",
        "def cetak_ann(label, prediction, train=True):\n",
        "    if train:\n",
        "        print(\"Train Result :\\n====================winteam===========================\")\n",
        "        print(f\"\\t\\t\\tAccuracy Score      : {accuracy_score(label, prediction) *100:.2f}%\")\n",
        "        print(\"Train Matrix :\\n_____________________________________________________________________\")\n",
        "        print(f\"Confusion Matrix : \\n {confusion_matrix(y_train,prediction)}\\n\")\n",
        "        \n",
        "    elif train==False:\n",
        "        print(\"Test Result:\\n====================winteam=============================\")        \n",
        "        print(f\"\\t\\t\\tAccuracy Score      : {accuracy_score(label, prediction) *100:.2f}%\")\n",
        "        print(\"Test Matrix :\\n________________________________________________________________________\")\n",
        "        print(f\"Confusion Matrix : \\n {confusion_matrix(label, prediction)}\\n\")"
      ],
      "execution_count": null,
      "outputs": []
    },
    {
      "cell_type": "code",
      "metadata": {
        "id": "jlwxy452yOQL"
      },
      "source": [
        "## Deep Learning model\n",
        "import tensorflow as tf\n",
        "from tensorflow import keras\n",
        "from tensorflow.keras import layers\n",
        "from tensorflow.keras.models import Sequential\n",
        "from tensorflow.keras.layers import Dense, Dropout\n",
        "\n",
        "# define the keras model\n",
        "model = Sequential()\n",
        "\n",
        "model.add(Dense(X_train.shape[1],  activation='relu'))\n",
        "model.add(Dense(16, activation='relu'))\n",
        "model.add(Dense(12, activation='relu'))\n",
        "model.add(Dense(8, activation='relu'))\n",
        "model.add(Dense(1, activation='sigmoid'))\n",
        "\n",
        "# compile the keras model\n",
        "model.compile(loss='binary_crossentropy', optimizer='adam', metrics=['accuracy'])\n",
        "\n",
        "# fit the keras model on the dataset\n",
        "ann = model.fit(X_train, y_train, validation_data=(X_test, y_test), epochs=40, batch_size=10)"
      ],
      "execution_count": null,
      "outputs": []
    },
    {
      "cell_type": "code",
      "metadata": {
        "id": "wiX2m8VoyY2B"
      },
      "source": [
        "# evaluate the keras model\n",
        "_, accuracy = model.evaluate(X_test, y_test)\n",
        "print('Accuracy: %.2f' % (accuracy*100))"
      ],
      "execution_count": null,
      "outputs": []
    },
    {
      "cell_type": "code",
      "metadata": {
        "id": "PBiJEmxzLq2O"
      },
      "source": [
        "model.summary()"
      ],
      "execution_count": null,
      "outputs": []
    },
    {
      "cell_type": "code",
      "metadata": {
        "id": "CRezT7gEMzIr"
      },
      "source": [
        "plt.figure(figsize=(20, 8))\n",
        "\n",
        "plt.subplot(1, 2, 1)\n",
        "plt.plot(ann.history['loss'], label='Loss')\n",
        "plt.plot(ann.history['val_loss'], label='Value Loss')\n",
        "plt.legend()\n",
        "\n",
        "plt.subplot(1, 2, 2)\n",
        "plt.plot(ann.history['accuracy'], label='Accuracy')\n",
        "plt.plot(ann.history['val_accuracy'], label='Value Accuracy')\n",
        "plt.legend()"
      ],
      "execution_count": null,
      "outputs": []
    },
    {
      "cell_type": "code",
      "metadata": {
        "id": "7IZZJiqqM229"
      },
      "source": [
        "ann_train_predict = model.predict(X_train)\n",
        "ann_test_predict = model.predict(X_test)\n",
        "\n",
        "cetak_ann(y_train, ann_train_predict.round(), train=True)\n",
        "cetak_ann(y_test, ann_test_predict.round(), train=False)"
      ],
      "execution_count": null,
      "outputs": []
    },
    {
      "cell_type": "code",
      "metadata": {
        "id": "G0vq2R4zM7r5"
      },
      "source": [
        "from sklearn.metrics import roc_auc_score\n",
        "from sklearn.metrics import roc_curve\n",
        "\n",
        "ann_roc_auc = roc_auc_score(y_test, model.predict(X_test))\n",
        "fpr, tpr, thresholds = roc_curve(y_test, model.predict(X_test)[:,0])\n",
        "\n",
        "plt.figure(figsize=(10, 10))\n",
        "plt.plot(fpr, tpr, label='Artificial Neural Network (area = %0.5f)' % ann_roc_auc)\n",
        "plt.plot([0, 1], [0, 1],'r--')\n",
        "plt.xlim([0.0, 1.0])\n",
        "plt.ylim([0.0, 1.0])\n",
        "plt.xlabel('False Positive Rate')\n",
        "plt.ylabel('True Positive Rate')\n",
        "plt.title('ROC - Receiver Operating Characteristic')\n",
        "plt.legend(loc=\"lower right\")\n",
        "plt.savefig('ANN_ROC')\n",
        "plt.show()"
      ],
      "execution_count": null,
      "outputs": []
    },
    {
      "cell_type": "code",
      "metadata": {
        "id": "s-SRg_bPiAIb"
      },
      "source": [
        "roc_auc_score(y_test, model.predict(X_test)) # Target upper 60 %"
      ],
      "execution_count": null,
      "outputs": []
    },
    {
      "cell_type": "code",
      "metadata": {
        "id": "HgN8V_lSNBDw"
      },
      "source": [
        "print(ann_test_predict[:,0])"
      ],
      "execution_count": null,
      "outputs": []
    },
    {
      "cell_type": "code",
      "metadata": {
        "id": "tdY5Jr_WND4j"
      },
      "source": [
        "ann_test_predict.shape"
      ],
      "execution_count": null,
      "outputs": []
    },
    {
      "cell_type": "code",
      "metadata": {
        "id": "vp2MRydGNFrD"
      },
      "source": [
        "#Saved the prediction result to \"submission.csv\"\n",
        "#kaggle competitions submit -c bri-data-hackathon-pa -f submission.csv -m \"Win Team MIT 20\"\n",
        "\n",
        "subm_df = pd.read_csv('https://decko048.github.io/dataset/sample_submission.csv')\n",
        "subm_df['Best Performance'] = ann_test_predict\n",
        "subm_df.to_csv('submission.csv', index=False)"
      ],
      "execution_count": null,
      "outputs": []
    }
  ]
}